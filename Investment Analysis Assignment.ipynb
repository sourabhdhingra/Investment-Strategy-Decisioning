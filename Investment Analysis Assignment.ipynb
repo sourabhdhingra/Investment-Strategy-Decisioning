{
 "cells": [
  {
   "cell_type": "markdown",
   "metadata": {},
   "source": [
    "### Checkpoint 1: Data Cleaning 1"
   ]
  },
  {
   "cell_type": "markdown",
   "metadata": {},
   "source": [
    "    Load the companies and rounds data (provided on the previous page) into two data frames and name them companies and rounds2 respectively.\n",
    "    "
   ]
  },
  {
   "cell_type": "code",
   "execution_count": 168,
   "metadata": {},
   "outputs": [],
   "source": [
    "# importing the necessary libraries\n",
    "import numpy as np\n",
    "import pandas as pd\n",
    "\n",
    "import seaborn as sns\n",
    "import matplotlib.pyplot as plt\n",
    "\n",
    "%matplotlib inline"
   ]
  },
  {
   "cell_type": "code",
   "execution_count": 1019,
   "metadata": {},
   "outputs": [],
   "source": [
    "# setting the precision for numerical displays\n",
    "pd.options.display.float_format = '{:.2f}'.format"
   ]
  },
  {
   "cell_type": "code",
   "execution_count": 1020,
   "metadata": {},
   "outputs": [
    {
     "data": {
      "text/plain": [
       "<Figure size 720x432 with 0 Axes>"
      ]
     },
     "execution_count": 1020,
     "metadata": {},
     "output_type": "execute_result"
    },
    {
     "data": {
      "text/plain": [
       "<Figure size 720x432 with 0 Axes>"
      ]
     },
     "metadata": {},
     "output_type": "display_data"
    }
   ],
   "source": [
    "# tweaking the plot size for better readability\n",
    "plt.figure(figsize=(10,6))"
   ]
  },
  {
   "cell_type": "code",
   "execution_count": 360,
   "metadata": {},
   "outputs": [],
   "source": [
    "companies = pd.read_csv('companies.csv', encoding = \"ISO-8859-1\")\n",
    "# got encoding error initially used below link\n",
    "#   - https://stackoverflow.com/questions/18171739/unicodedecodeerror-when-reading-csv-file-in-pandas-with-python\n",
    "#   - http://pandaproject.net/docs/determining-the-encoding-of-a-csv-file.html"
   ]
  },
  {
   "cell_type": "code",
   "execution_count": 361,
   "metadata": {},
   "outputs": [
    {
     "data": {
      "text/html": [
       "<div>\n",
       "<style scoped>\n",
       "    .dataframe tbody tr th:only-of-type {\n",
       "        vertical-align: middle;\n",
       "    }\n",
       "\n",
       "    .dataframe tbody tr th {\n",
       "        vertical-align: top;\n",
       "    }\n",
       "\n",
       "    .dataframe thead th {\n",
       "        text-align: right;\n",
       "    }\n",
       "</style>\n",
       "<table border=\"1\" class=\"dataframe\">\n",
       "  <thead>\n",
       "    <tr style=\"text-align: right;\">\n",
       "      <th></th>\n",
       "      <th>permalink</th>\n",
       "      <th>name</th>\n",
       "      <th>homepage_url</th>\n",
       "      <th>category_list</th>\n",
       "      <th>status</th>\n",
       "      <th>country_code</th>\n",
       "      <th>state_code</th>\n",
       "      <th>region</th>\n",
       "      <th>city</th>\n",
       "      <th>founded_at</th>\n",
       "    </tr>\n",
       "  </thead>\n",
       "  <tbody>\n",
       "    <tr>\n",
       "      <th>0</th>\n",
       "      <td>/Organization/-Fame</td>\n",
       "      <td>#fame</td>\n",
       "      <td>http://livfame.com</td>\n",
       "      <td>Media</td>\n",
       "      <td>operating</td>\n",
       "      <td>IND</td>\n",
       "      <td>16</td>\n",
       "      <td>Mumbai</td>\n",
       "      <td>Mumbai</td>\n",
       "      <td>NaN</td>\n",
       "    </tr>\n",
       "    <tr>\n",
       "      <th>1</th>\n",
       "      <td>/Organization/-Qounter</td>\n",
       "      <td>:Qounter</td>\n",
       "      <td>http://www.qounter.com</td>\n",
       "      <td>Application Platforms|Real Time|Social Network...</td>\n",
       "      <td>operating</td>\n",
       "      <td>USA</td>\n",
       "      <td>DE</td>\n",
       "      <td>DE - Other</td>\n",
       "      <td>Delaware City</td>\n",
       "      <td>04-09-2014</td>\n",
       "    </tr>\n",
       "    <tr>\n",
       "      <th>2</th>\n",
       "      <td>/Organization/-The-One-Of-Them-Inc-</td>\n",
       "      <td>(THE) ONE of THEM,Inc.</td>\n",
       "      <td>http://oneofthem.jp</td>\n",
       "      <td>Apps|Games|Mobile</td>\n",
       "      <td>operating</td>\n",
       "      <td>NaN</td>\n",
       "      <td>NaN</td>\n",
       "      <td>NaN</td>\n",
       "      <td>NaN</td>\n",
       "      <td>NaN</td>\n",
       "    </tr>\n",
       "    <tr>\n",
       "      <th>3</th>\n",
       "      <td>/Organization/0-6-Com</td>\n",
       "      <td>0-6.com</td>\n",
       "      <td>http://www.0-6.com</td>\n",
       "      <td>Curated Web</td>\n",
       "      <td>operating</td>\n",
       "      <td>CHN</td>\n",
       "      <td>22</td>\n",
       "      <td>Beijing</td>\n",
       "      <td>Beijing</td>\n",
       "      <td>01-01-2007</td>\n",
       "    </tr>\n",
       "    <tr>\n",
       "      <th>4</th>\n",
       "      <td>/Organization/004-Technologies</td>\n",
       "      <td>004 Technologies</td>\n",
       "      <td>http://004gmbh.de/en/004-interact</td>\n",
       "      <td>Software</td>\n",
       "      <td>operating</td>\n",
       "      <td>USA</td>\n",
       "      <td>IL</td>\n",
       "      <td>Springfield, Illinois</td>\n",
       "      <td>Champaign</td>\n",
       "      <td>01-01-2010</td>\n",
       "    </tr>\n",
       "  </tbody>\n",
       "</table>\n",
       "</div>"
      ],
      "text/plain": [
       "                             permalink                    name  \\\n",
       "0                  /Organization/-Fame                   #fame   \n",
       "1               /Organization/-Qounter                :Qounter   \n",
       "2  /Organization/-The-One-Of-Them-Inc-  (THE) ONE of THEM,Inc.   \n",
       "3                /Organization/0-6-Com                 0-6.com   \n",
       "4       /Organization/004-Technologies        004 Technologies   \n",
       "\n",
       "                        homepage_url  \\\n",
       "0                 http://livfame.com   \n",
       "1             http://www.qounter.com   \n",
       "2                http://oneofthem.jp   \n",
       "3                 http://www.0-6.com   \n",
       "4  http://004gmbh.de/en/004-interact   \n",
       "\n",
       "                                       category_list     status country_code  \\\n",
       "0                                              Media  operating          IND   \n",
       "1  Application Platforms|Real Time|Social Network...  operating          USA   \n",
       "2                                  Apps|Games|Mobile  operating          NaN   \n",
       "3                                        Curated Web  operating          CHN   \n",
       "4                                           Software  operating          USA   \n",
       "\n",
       "  state_code                 region           city  founded_at  \n",
       "0         16                 Mumbai         Mumbai         NaN  \n",
       "1         DE             DE - Other  Delaware City  04-09-2014  \n",
       "2        NaN                    NaN            NaN         NaN  \n",
       "3         22                Beijing        Beijing  01-01-2007  \n",
       "4         IL  Springfield, Illinois      Champaign  01-01-2010  "
      ]
     },
     "execution_count": 361,
     "metadata": {},
     "output_type": "execute_result"
    }
   ],
   "source": [
    "# peeking into companies\n",
    "companies.head()"
   ]
  },
  {
   "cell_type": "code",
   "execution_count": 362,
   "metadata": {},
   "outputs": [],
   "source": [
    "# same error was found to appear for rounds2.csv thereby used encoding = \"ISO-8859-1\"\n",
    "rounds2 = pd.read_csv('rounds2.csv', encoding = \"ISO-8859-1\")"
   ]
  },
  {
   "cell_type": "code",
   "execution_count": 363,
   "metadata": {
    "scrolled": true
   },
   "outputs": [
    {
     "data": {
      "text/html": [
       "<div>\n",
       "<style scoped>\n",
       "    .dataframe tbody tr th:only-of-type {\n",
       "        vertical-align: middle;\n",
       "    }\n",
       "\n",
       "    .dataframe tbody tr th {\n",
       "        vertical-align: top;\n",
       "    }\n",
       "\n",
       "    .dataframe thead th {\n",
       "        text-align: right;\n",
       "    }\n",
       "</style>\n",
       "<table border=\"1\" class=\"dataframe\">\n",
       "  <thead>\n",
       "    <tr style=\"text-align: right;\">\n",
       "      <th></th>\n",
       "      <th>company_permalink</th>\n",
       "      <th>funding_round_permalink</th>\n",
       "      <th>funding_round_type</th>\n",
       "      <th>funding_round_code</th>\n",
       "      <th>funded_at</th>\n",
       "      <th>raised_amount_usd</th>\n",
       "    </tr>\n",
       "  </thead>\n",
       "  <tbody>\n",
       "    <tr>\n",
       "      <th>0</th>\n",
       "      <td>/organization/-fame</td>\n",
       "      <td>/funding-round/9a01d05418af9f794eebff7ace91f638</td>\n",
       "      <td>venture</td>\n",
       "      <td>B</td>\n",
       "      <td>05-01-2015</td>\n",
       "      <td>10000000.0</td>\n",
       "    </tr>\n",
       "    <tr>\n",
       "      <th>1</th>\n",
       "      <td>/ORGANIZATION/-QOUNTER</td>\n",
       "      <td>/funding-round/22dacff496eb7acb2b901dec1dfe5633</td>\n",
       "      <td>venture</td>\n",
       "      <td>A</td>\n",
       "      <td>14-10-2014</td>\n",
       "      <td>NaN</td>\n",
       "    </tr>\n",
       "    <tr>\n",
       "      <th>2</th>\n",
       "      <td>/organization/-qounter</td>\n",
       "      <td>/funding-round/b44fbb94153f6cdef13083530bb48030</td>\n",
       "      <td>seed</td>\n",
       "      <td>NaN</td>\n",
       "      <td>01-03-2014</td>\n",
       "      <td>700000.0</td>\n",
       "    </tr>\n",
       "    <tr>\n",
       "      <th>3</th>\n",
       "      <td>/ORGANIZATION/-THE-ONE-OF-THEM-INC-</td>\n",
       "      <td>/funding-round/650b8f704416801069bb178a1418776b</td>\n",
       "      <td>venture</td>\n",
       "      <td>B</td>\n",
       "      <td>30-01-2014</td>\n",
       "      <td>3406878.0</td>\n",
       "    </tr>\n",
       "    <tr>\n",
       "      <th>4</th>\n",
       "      <td>/organization/0-6-com</td>\n",
       "      <td>/funding-round/5727accaeaa57461bd22a9bdd945382d</td>\n",
       "      <td>venture</td>\n",
       "      <td>A</td>\n",
       "      <td>19-03-2008</td>\n",
       "      <td>2000000.0</td>\n",
       "    </tr>\n",
       "  </tbody>\n",
       "</table>\n",
       "</div>"
      ],
      "text/plain": [
       "                     company_permalink  \\\n",
       "0                  /organization/-fame   \n",
       "1               /ORGANIZATION/-QOUNTER   \n",
       "2               /organization/-qounter   \n",
       "3  /ORGANIZATION/-THE-ONE-OF-THEM-INC-   \n",
       "4                /organization/0-6-com   \n",
       "\n",
       "                           funding_round_permalink funding_round_type  \\\n",
       "0  /funding-round/9a01d05418af9f794eebff7ace91f638            venture   \n",
       "1  /funding-round/22dacff496eb7acb2b901dec1dfe5633            venture   \n",
       "2  /funding-round/b44fbb94153f6cdef13083530bb48030               seed   \n",
       "3  /funding-round/650b8f704416801069bb178a1418776b            venture   \n",
       "4  /funding-round/5727accaeaa57461bd22a9bdd945382d            venture   \n",
       "\n",
       "  funding_round_code   funded_at  raised_amount_usd  \n",
       "0                  B  05-01-2015         10000000.0  \n",
       "1                  A  14-10-2014                NaN  \n",
       "2                NaN  01-03-2014           700000.0  \n",
       "3                  B  30-01-2014          3406878.0  \n",
       "4                  A  19-03-2008          2000000.0  "
      ]
     },
     "execution_count": 363,
     "metadata": {},
     "output_type": "execute_result"
    }
   ],
   "source": [
    "# peeking into rounds2\n",
    "rounds2.head()"
   ]
  },
  {
   "cell_type": "markdown",
   "metadata": {},
   "source": [
    "__How many unique companies are present in rounds2?__"
   ]
  },
  {
   "cell_type": "code",
   "execution_count": 707,
   "metadata": {},
   "outputs": [
    {
     "data": {
      "text/plain": [
       "66370"
      ]
     },
     "execution_count": 707,
     "metadata": {},
     "output_type": "execute_result"
    }
   ],
   "source": [
    "# this should give the right number of unique records\n",
    "# different case keys could be treated as different - standardizing case first and then finding unique keys\n",
    "len(pd.unique(rounds2.company_permalink.str.lower()))"
   ]
  },
  {
   "cell_type": "markdown",
   "metadata": {},
   "source": [
    "__How many unique companies are present in companies?__"
   ]
  },
  {
   "cell_type": "code",
   "execution_count": 709,
   "metadata": {},
   "outputs": [
    {
     "data": {
      "text/plain": [
       "66368"
      ]
     },
     "execution_count": 709,
     "metadata": {},
     "output_type": "execute_result"
    }
   ],
   "source": [
    "# number of unique companies in companies\n",
    "# since permalink is a hyperlink unlikely to change over many years and would act as a primary key\n",
    "len(pd.unique(companies.permalink.str.lower()))"
   ]
  },
  {
   "cell_type": "markdown",
   "metadata": {},
   "source": [
    "##### In the companies data frame, which column can be used as the unique key for each company? Write the name of the column"
   ]
  },
  {
   "cell_type": "code",
   "execution_count": 175,
   "metadata": {},
   "outputs": [
    {
     "data": {
      "text/plain": [
       "0                                      /Organization/-Fame\n",
       "1                                   /Organization/-Qounter\n",
       "2                      /Organization/-The-One-Of-Them-Inc-\n",
       "3                                    /Organization/0-6-Com\n",
       "4                           /Organization/004-Technologies\n",
       "                               ...                        \n",
       "66363    /Organization/Zznode-Science-And-Technology-Co...\n",
       "66364                            /Organization/Zzzzapp-Com\n",
       "66365                                 /Organization/ÃEron\n",
       "66366                               /Organization/ÃAsys-2\n",
       "66367    /Organization/Ä°Novatiff-Reklam-Ve-Tanä±Tä±M-H...\n",
       "Name: permalink, Length: 66368, dtype: object"
      ]
     },
     "execution_count": 175,
     "metadata": {},
     "output_type": "execute_result"
    }
   ],
   "source": [
    "companies.permalink"
   ]
  },
  {
   "cell_type": "markdown",
   "metadata": {},
   "source": [
    "##### Are there any companies in the rounds2 file which are not present in companies? Answer yes or no: Y/N"
   ]
  },
  {
   "cell_type": "markdown",
   "metadata": {},
   "source": [
    "Answer is Y. Check the result of below command to know what are those companies:"
   ]
  },
  {
   "cell_type": "code",
   "execution_count": 176,
   "metadata": {
    "scrolled": false
   },
   "outputs": [
    {
     "data": {
      "text/html": [
       "<div>\n",
       "<style scoped>\n",
       "    .dataframe tbody tr th:only-of-type {\n",
       "        vertical-align: middle;\n",
       "    }\n",
       "\n",
       "    .dataframe tbody tr th {\n",
       "        vertical-align: top;\n",
       "    }\n",
       "\n",
       "    .dataframe thead th {\n",
       "        text-align: right;\n",
       "    }\n",
       "</style>\n",
       "<table border=\"1\" class=\"dataframe\">\n",
       "  <thead>\n",
       "    <tr style=\"text-align: right;\">\n",
       "      <th></th>\n",
       "      <th>company_permalink</th>\n",
       "      <th>funding_round_permalink</th>\n",
       "      <th>funding_round_type</th>\n",
       "      <th>funding_round_code</th>\n",
       "      <th>funded_at</th>\n",
       "      <th>raised_amount_usd</th>\n",
       "    </tr>\n",
       "  </thead>\n",
       "  <tbody>\n",
       "    <tr>\n",
       "      <th>29597</th>\n",
       "      <td>/ORGANIZATION/E-CÃBICA</td>\n",
       "      <td>/funding-round/8491f74869e4fe8ba9c378394f8fbdea</td>\n",
       "      <td>seed</td>\n",
       "      <td>NaN</td>\n",
       "      <td>01-02-2015</td>\n",
       "      <td>NaN</td>\n",
       "    </tr>\n",
       "    <tr>\n",
       "      <th>31863</th>\n",
       "      <td>/ORGANIZATION/ENERGYSTONE-GAMES-ÇµÇ³Æ¸¸Æ</td>\n",
       "      <td>/funding-round/b89553f3d2279c5683ae93f45a21cfe0</td>\n",
       "      <td>seed</td>\n",
       "      <td>NaN</td>\n",
       "      <td>09-08-2014</td>\n",
       "      <td>NaN</td>\n",
       "    </tr>\n",
       "    <tr>\n",
       "      <th>45176</th>\n",
       "      <td>/organization/huizuche-com-æ ç§ÿè½¦</td>\n",
       "      <td>/funding-round/8f8a32dbeeb0f831a78702f83af78a36</td>\n",
       "      <td>seed</td>\n",
       "      <td>NaN</td>\n",
       "      <td>18-09-2014</td>\n",
       "      <td>NaN</td>\n",
       "    </tr>\n",
       "    <tr>\n",
       "      <th>58473</th>\n",
       "      <td>/ORGANIZATION/MAGNET-TECH-Ç£Ç³Ç§Æ</td>\n",
       "      <td>/funding-round/8fc91fbb32bc95e97f151dd0cb4166bf</td>\n",
       "      <td>seed</td>\n",
       "      <td>NaN</td>\n",
       "      <td>16-08-2014</td>\n",
       "      <td>1625585.0</td>\n",
       "    </tr>\n",
       "    <tr>\n",
       "      <th>101036</th>\n",
       "      <td>/organization/tipcat-interactive-æ²èÿä¿¡æ¯ç...</td>\n",
       "      <td>/funding-round/41005928a1439cb2d706a43cb661f60f</td>\n",
       "      <td>seed</td>\n",
       "      <td>NaN</td>\n",
       "      <td>06-09-2010</td>\n",
       "      <td>NaN</td>\n",
       "    </tr>\n",
       "    <tr>\n",
       "      <th>109969</th>\n",
       "      <td>/ORGANIZATION/WEICHE-TECH-ÅÈ½¦Ç§Æ</td>\n",
       "      <td>/funding-round/f74e457f838b81fa0b29649740f186d8</td>\n",
       "      <td>venture</td>\n",
       "      <td>A</td>\n",
       "      <td>06-09-2015</td>\n",
       "      <td>NaN</td>\n",
       "    </tr>\n",
       "    <tr>\n",
       "      <th>113839</th>\n",
       "      <td>/ORGANIZATION/ZENGAME-Ç¦",
       "Æ¸¸Ç§Æ</td>\n",
       "      <td>/funding-round/6ba28fb4f3eadf5a9c6c81bc5dde6cdf</td>\n",
       "      <td>seed</td>\n",
       "      <td>NaN</td>\n",
       "      <td>17-07-2010</td>\n",
       "      <td>NaN</td>\n",
       "    </tr>\n",
       "  </tbody>\n",
       "</table>\n",
       "</div>"
      ],
      "text/plain": [
       "                                        company_permalink  \\\n",
       "29597                             /ORGANIZATION/E-CÃBICA   \n",
       "31863        /ORGANIZATION/ENERGYSTONE-GAMES-ÇµÇ³Æ¸¸Æ   \n",
       "45176                /organization/huizuche-com-æ ç§ÿè½¦   \n",
       "58473              /ORGANIZATION/MAGNET-TECH-Ç£Ç³Ç§Æ   \n",
       "101036  /organization/tipcat-interactive-æ²èÿä¿¡æ¯ç...   \n",
       "109969             /ORGANIZATION/WEICHE-TECH-ÅÈ½¦Ç§Æ   \n",
       "113839                 /ORGANIZATION/ZENGAME-Ç¦\n",
       "Æ¸¸Ç§Æ   \n",
       "\n",
       "                                funding_round_permalink funding_round_type  \\\n",
       "29597   /funding-round/8491f74869e4fe8ba9c378394f8fbdea               seed   \n",
       "31863   /funding-round/b89553f3d2279c5683ae93f45a21cfe0               seed   \n",
       "45176   /funding-round/8f8a32dbeeb0f831a78702f83af78a36               seed   \n",
       "58473   /funding-round/8fc91fbb32bc95e97f151dd0cb4166bf               seed   \n",
       "101036  /funding-round/41005928a1439cb2d706a43cb661f60f               seed   \n",
       "109969  /funding-round/f74e457f838b81fa0b29649740f186d8            venture   \n",
       "113839  /funding-round/6ba28fb4f3eadf5a9c6c81bc5dde6cdf               seed   \n",
       "\n",
       "       funding_round_code   funded_at  raised_amount_usd  \n",
       "29597                 NaN  01-02-2015                NaN  \n",
       "31863                 NaN  09-08-2014                NaN  \n",
       "45176                 NaN  18-09-2014                NaN  \n",
       "58473                 NaN  16-08-2014          1625585.0  \n",
       "101036                NaN  06-09-2010                NaN  \n",
       "109969                  A  06-09-2015                NaN  \n",
       "113839                NaN  17-07-2010                NaN  "
      ]
     },
     "execution_count": 176,
     "metadata": {},
     "output_type": "execute_result"
    }
   ],
   "source": [
    "# useful link - https://www.kdnuggets.com/2019/11/set-operations-applied-pandas-dataframes.html\n",
    "rounds2[rounds2.company_permalink.str.lower().isin(companies.permalink.str.lower()) == False]"
   ]
  },
  {
   "cell_type": "markdown",
   "metadata": {},
   "source": [
    "##### Merge the two data frames so that all variables (columns) in the companies frame are added to the rounds2 data frame. Name the merged frame master_frame. How many observations are present in master_frame?"
   ]
  },
  {
   "cell_type": "code",
   "execution_count": 369,
   "metadata": {
    "scrolled": true
   },
   "outputs": [
    {
     "data": {
      "text/html": [
       "<div>\n",
       "<style scoped>\n",
       "    .dataframe tbody tr th:only-of-type {\n",
       "        vertical-align: middle;\n",
       "    }\n",
       "\n",
       "    .dataframe tbody tr th {\n",
       "        vertical-align: top;\n",
       "    }\n",
       "\n",
       "    .dataframe thead th {\n",
       "        text-align: right;\n",
       "    }\n",
       "</style>\n",
       "<table border=\"1\" class=\"dataframe\">\n",
       "  <thead>\n",
       "    <tr style=\"text-align: right;\">\n",
       "      <th></th>\n",
       "      <th>permalink</th>\n",
       "      <th>name</th>\n",
       "      <th>homepage_url</th>\n",
       "      <th>category_list</th>\n",
       "      <th>status</th>\n",
       "      <th>country_code</th>\n",
       "      <th>state_code</th>\n",
       "      <th>region</th>\n",
       "      <th>city</th>\n",
       "      <th>founded_at</th>\n",
       "    </tr>\n",
       "  </thead>\n",
       "  <tbody>\n",
       "    <tr>\n",
       "      <th>0</th>\n",
       "      <td>/organization/-fame</td>\n",
       "      <td>#fame</td>\n",
       "      <td>http://livfame.com</td>\n",
       "      <td>Media</td>\n",
       "      <td>operating</td>\n",
       "      <td>IND</td>\n",
       "      <td>16</td>\n",
       "      <td>Mumbai</td>\n",
       "      <td>Mumbai</td>\n",
       "      <td>NaN</td>\n",
       "    </tr>\n",
       "    <tr>\n",
       "      <th>1</th>\n",
       "      <td>/organization/-qounter</td>\n",
       "      <td>:Qounter</td>\n",
       "      <td>http://www.qounter.com</td>\n",
       "      <td>Application Platforms|Real Time|Social Network...</td>\n",
       "      <td>operating</td>\n",
       "      <td>USA</td>\n",
       "      <td>DE</td>\n",
       "      <td>DE - Other</td>\n",
       "      <td>Delaware City</td>\n",
       "      <td>04-09-2014</td>\n",
       "    </tr>\n",
       "    <tr>\n",
       "      <th>2</th>\n",
       "      <td>/organization/-the-one-of-them-inc-</td>\n",
       "      <td>(THE) ONE of THEM,Inc.</td>\n",
       "      <td>http://oneofthem.jp</td>\n",
       "      <td>Apps|Games|Mobile</td>\n",
       "      <td>operating</td>\n",
       "      <td>NaN</td>\n",
       "      <td>NaN</td>\n",
       "      <td>NaN</td>\n",
       "      <td>NaN</td>\n",
       "      <td>NaN</td>\n",
       "    </tr>\n",
       "    <tr>\n",
       "      <th>3</th>\n",
       "      <td>/organization/0-6-com</td>\n",
       "      <td>0-6.com</td>\n",
       "      <td>http://www.0-6.com</td>\n",
       "      <td>Curated Web</td>\n",
       "      <td>operating</td>\n",
       "      <td>CHN</td>\n",
       "      <td>22</td>\n",
       "      <td>Beijing</td>\n",
       "      <td>Beijing</td>\n",
       "      <td>01-01-2007</td>\n",
       "    </tr>\n",
       "    <tr>\n",
       "      <th>4</th>\n",
       "      <td>/organization/004-technologies</td>\n",
       "      <td>004 Technologies</td>\n",
       "      <td>http://004gmbh.de/en/004-interact</td>\n",
       "      <td>Software</td>\n",
       "      <td>operating</td>\n",
       "      <td>USA</td>\n",
       "      <td>IL</td>\n",
       "      <td>Springfield, Illinois</td>\n",
       "      <td>Champaign</td>\n",
       "      <td>01-01-2010</td>\n",
       "    </tr>\n",
       "  </tbody>\n",
       "</table>\n",
       "</div>"
      ],
      "text/plain": [
       "                             permalink                    name  \\\n",
       "0                  /organization/-fame                   #fame   \n",
       "1               /organization/-qounter                :Qounter   \n",
       "2  /organization/-the-one-of-them-inc-  (THE) ONE of THEM,Inc.   \n",
       "3                /organization/0-6-com                 0-6.com   \n",
       "4       /organization/004-technologies        004 Technologies   \n",
       "\n",
       "                        homepage_url  \\\n",
       "0                 http://livfame.com   \n",
       "1             http://www.qounter.com   \n",
       "2                http://oneofthem.jp   \n",
       "3                 http://www.0-6.com   \n",
       "4  http://004gmbh.de/en/004-interact   \n",
       "\n",
       "                                       category_list     status country_code  \\\n",
       "0                                              Media  operating          IND   \n",
       "1  Application Platforms|Real Time|Social Network...  operating          USA   \n",
       "2                                  Apps|Games|Mobile  operating          NaN   \n",
       "3                                        Curated Web  operating          CHN   \n",
       "4                                           Software  operating          USA   \n",
       "\n",
       "  state_code                 region           city  founded_at  \n",
       "0         16                 Mumbai         Mumbai         NaN  \n",
       "1         DE             DE - Other  Delaware City  04-09-2014  \n",
       "2        NaN                    NaN            NaN         NaN  \n",
       "3         22                Beijing        Beijing  01-01-2007  \n",
       "4         IL  Springfield, Illinois      Champaign  01-01-2010  "
      ]
     },
     "execution_count": 369,
     "metadata": {},
     "output_type": "execute_result"
    }
   ],
   "source": [
    "# Before Merge let us take care of the case of permalink in companies.csv and \n",
    "# permalink in rounds2.csv\n",
    "companies.permalink = companies.permalink.str.lower()\n",
    "companies.head()"
   ]
  },
  {
   "cell_type": "code",
   "execution_count": 370,
   "metadata": {},
   "outputs": [
    {
     "data": {
      "text/html": [
       "<div>\n",
       "<style scoped>\n",
       "    .dataframe tbody tr th:only-of-type {\n",
       "        vertical-align: middle;\n",
       "    }\n",
       "\n",
       "    .dataframe tbody tr th {\n",
       "        vertical-align: top;\n",
       "    }\n",
       "\n",
       "    .dataframe thead th {\n",
       "        text-align: right;\n",
       "    }\n",
       "</style>\n",
       "<table border=\"1\" class=\"dataframe\">\n",
       "  <thead>\n",
       "    <tr style=\"text-align: right;\">\n",
       "      <th></th>\n",
       "      <th>company_permalink</th>\n",
       "      <th>funding_round_permalink</th>\n",
       "      <th>funding_round_type</th>\n",
       "      <th>funding_round_code</th>\n",
       "      <th>funded_at</th>\n",
       "      <th>raised_amount_usd</th>\n",
       "    </tr>\n",
       "  </thead>\n",
       "  <tbody>\n",
       "    <tr>\n",
       "      <th>0</th>\n",
       "      <td>/organization/-fame</td>\n",
       "      <td>/funding-round/9a01d05418af9f794eebff7ace91f638</td>\n",
       "      <td>venture</td>\n",
       "      <td>B</td>\n",
       "      <td>05-01-2015</td>\n",
       "      <td>10000000.0</td>\n",
       "    </tr>\n",
       "    <tr>\n",
       "      <th>1</th>\n",
       "      <td>/organization/-qounter</td>\n",
       "      <td>/funding-round/22dacff496eb7acb2b901dec1dfe5633</td>\n",
       "      <td>venture</td>\n",
       "      <td>A</td>\n",
       "      <td>14-10-2014</td>\n",
       "      <td>NaN</td>\n",
       "    </tr>\n",
       "    <tr>\n",
       "      <th>2</th>\n",
       "      <td>/organization/-qounter</td>\n",
       "      <td>/funding-round/b44fbb94153f6cdef13083530bb48030</td>\n",
       "      <td>seed</td>\n",
       "      <td>NaN</td>\n",
       "      <td>01-03-2014</td>\n",
       "      <td>700000.0</td>\n",
       "    </tr>\n",
       "    <tr>\n",
       "      <th>3</th>\n",
       "      <td>/organization/-the-one-of-them-inc-</td>\n",
       "      <td>/funding-round/650b8f704416801069bb178a1418776b</td>\n",
       "      <td>venture</td>\n",
       "      <td>B</td>\n",
       "      <td>30-01-2014</td>\n",
       "      <td>3406878.0</td>\n",
       "    </tr>\n",
       "    <tr>\n",
       "      <th>4</th>\n",
       "      <td>/organization/0-6-com</td>\n",
       "      <td>/funding-round/5727accaeaa57461bd22a9bdd945382d</td>\n",
       "      <td>venture</td>\n",
       "      <td>A</td>\n",
       "      <td>19-03-2008</td>\n",
       "      <td>2000000.0</td>\n",
       "    </tr>\n",
       "  </tbody>\n",
       "</table>\n",
       "</div>"
      ],
      "text/plain": [
       "                     company_permalink  \\\n",
       "0                  /organization/-fame   \n",
       "1               /organization/-qounter   \n",
       "2               /organization/-qounter   \n",
       "3  /organization/-the-one-of-them-inc-   \n",
       "4                /organization/0-6-com   \n",
       "\n",
       "                           funding_round_permalink funding_round_type  \\\n",
       "0  /funding-round/9a01d05418af9f794eebff7ace91f638            venture   \n",
       "1  /funding-round/22dacff496eb7acb2b901dec1dfe5633            venture   \n",
       "2  /funding-round/b44fbb94153f6cdef13083530bb48030               seed   \n",
       "3  /funding-round/650b8f704416801069bb178a1418776b            venture   \n",
       "4  /funding-round/5727accaeaa57461bd22a9bdd945382d            venture   \n",
       "\n",
       "  funding_round_code   funded_at  raised_amount_usd  \n",
       "0                  B  05-01-2015         10000000.0  \n",
       "1                  A  14-10-2014                NaN  \n",
       "2                NaN  01-03-2014           700000.0  \n",
       "3                  B  30-01-2014          3406878.0  \n",
       "4                  A  19-03-2008          2000000.0  "
      ]
     },
     "execution_count": 370,
     "metadata": {},
     "output_type": "execute_result"
    }
   ],
   "source": [
    "# company-permalink in rounds2.csv\n",
    "rounds2.company_permalink = rounds2.company_permalink.str.lower()\n",
    "rounds2.head()"
   ]
  },
  {
   "cell_type": "markdown",
   "metadata": {},
   "source": [
    "> Now once columns are in same case so that values in them are not treated differently due to a difference in case\n",
    " we can go ahead and perform the merge. What kind of merge? \n",
    " rounds2 would have permalink repeated for different values funding_round_permalink \n",
    " Therefore - all possible data from companies should map to each record in rounds2.csv\n",
    " and we do not want any data loss to happen to rounds2.csv. rounds2.csv holds important information about funding raised by companies. So left join should be the preferred one. Because what if someone wants to analyse around those set of companies, for e.g find out what happened to them.. why their personal details are not avaialble , or may be later on add details. Left Join is the choice."
   ]
  },
  {
   "cell_type": "code",
   "execution_count": 377,
   "metadata": {},
   "outputs": [],
   "source": [
    "master_frame = pd.merge(rounds2, companies, how='left', left_on=['company_permalink'], right_on=['permalink'])"
   ]
  },
  {
   "cell_type": "markdown",
   "metadata": {},
   "source": [
    "*let us check for company_permalink == '/organization/-qounter' because we can clearly see that is repeated twice with different case value in one of the above head operations.*"
   ]
  },
  {
   "cell_type": "code",
   "execution_count": 372,
   "metadata": {},
   "outputs": [
    {
     "data": {
      "text/html": [
       "<div>\n",
       "<style scoped>\n",
       "    .dataframe tbody tr th:only-of-type {\n",
       "        vertical-align: middle;\n",
       "    }\n",
       "\n",
       "    .dataframe tbody tr th {\n",
       "        vertical-align: top;\n",
       "    }\n",
       "\n",
       "    .dataframe thead th {\n",
       "        text-align: right;\n",
       "    }\n",
       "</style>\n",
       "<table border=\"1\" class=\"dataframe\">\n",
       "  <thead>\n",
       "    <tr style=\"text-align: right;\">\n",
       "      <th></th>\n",
       "      <th>company_permalink</th>\n",
       "      <th>funding_round_permalink</th>\n",
       "      <th>funding_round_type</th>\n",
       "      <th>funding_round_code</th>\n",
       "      <th>funded_at</th>\n",
       "      <th>raised_amount_usd</th>\n",
       "      <th>permalink</th>\n",
       "      <th>name</th>\n",
       "      <th>homepage_url</th>\n",
       "      <th>category_list</th>\n",
       "      <th>status</th>\n",
       "      <th>country_code</th>\n",
       "      <th>state_code</th>\n",
       "      <th>region</th>\n",
       "      <th>city</th>\n",
       "      <th>founded_at</th>\n",
       "    </tr>\n",
       "  </thead>\n",
       "  <tbody>\n",
       "    <tr>\n",
       "      <th>1</th>\n",
       "      <td>/organization/-qounter</td>\n",
       "      <td>/funding-round/22dacff496eb7acb2b901dec1dfe5633</td>\n",
       "      <td>venture</td>\n",
       "      <td>A</td>\n",
       "      <td>14-10-2014</td>\n",
       "      <td>NaN</td>\n",
       "      <td>/organization/-qounter</td>\n",
       "      <td>:Qounter</td>\n",
       "      <td>http://www.qounter.com</td>\n",
       "      <td>Application Platforms|Real Time|Social Network...</td>\n",
       "      <td>operating</td>\n",
       "      <td>USA</td>\n",
       "      <td>DE</td>\n",
       "      <td>DE - Other</td>\n",
       "      <td>Delaware City</td>\n",
       "      <td>04-09-2014</td>\n",
       "    </tr>\n",
       "    <tr>\n",
       "      <th>2</th>\n",
       "      <td>/organization/-qounter</td>\n",
       "      <td>/funding-round/b44fbb94153f6cdef13083530bb48030</td>\n",
       "      <td>seed</td>\n",
       "      <td>NaN</td>\n",
       "      <td>01-03-2014</td>\n",
       "      <td>700000.0</td>\n",
       "      <td>/organization/-qounter</td>\n",
       "      <td>:Qounter</td>\n",
       "      <td>http://www.qounter.com</td>\n",
       "      <td>Application Platforms|Real Time|Social Network...</td>\n",
       "      <td>operating</td>\n",
       "      <td>USA</td>\n",
       "      <td>DE</td>\n",
       "      <td>DE - Other</td>\n",
       "      <td>Delaware City</td>\n",
       "      <td>04-09-2014</td>\n",
       "    </tr>\n",
       "  </tbody>\n",
       "</table>\n",
       "</div>"
      ],
      "text/plain": [
       "        company_permalink                          funding_round_permalink  \\\n",
       "1  /organization/-qounter  /funding-round/22dacff496eb7acb2b901dec1dfe5633   \n",
       "2  /organization/-qounter  /funding-round/b44fbb94153f6cdef13083530bb48030   \n",
       "\n",
       "  funding_round_type funding_round_code   funded_at  raised_amount_usd  \\\n",
       "1            venture                  A  14-10-2014                NaN   \n",
       "2               seed                NaN  01-03-2014           700000.0   \n",
       "\n",
       "                permalink      name            homepage_url  \\\n",
       "1  /organization/-qounter  :Qounter  http://www.qounter.com   \n",
       "2  /organization/-qounter  :Qounter  http://www.qounter.com   \n",
       "\n",
       "                                       category_list     status country_code  \\\n",
       "1  Application Platforms|Real Time|Social Network...  operating          USA   \n",
       "2  Application Platforms|Real Time|Social Network...  operating          USA   \n",
       "\n",
       "  state_code      region           city  founded_at  \n",
       "1         DE  DE - Other  Delaware City  04-09-2014  \n",
       "2         DE  DE - Other  Delaware City  04-09-2014  "
      ]
     },
     "execution_count": 372,
     "metadata": {},
     "output_type": "execute_result"
    }
   ],
   "source": [
    "master_frame[master_frame.company_permalink == '/organization/-qounter']"
   ]
  },
  {
   "cell_type": "markdown",
   "metadata": {},
   "source": [
    "*Now the other thing to note is that NaN values for cells which were empty. let us clean them using fillna for raised_amount_usd*"
   ]
  },
  {
   "cell_type": "markdown",
   "metadata": {},
   "source": [
    "*__How many observations are present in the master_frame?__*"
   ]
  },
  {
   "cell_type": "code",
   "execution_count": 380,
   "metadata": {},
   "outputs": [
    {
     "data": {
      "text/plain": [
       "(114949, 16)"
      ]
     },
     "execution_count": 380,
     "metadata": {},
     "output_type": "execute_result"
    }
   ],
   "source": [
    "master_frame.shape"
   ]
  },
  {
   "cell_type": "markdown",
   "metadata": {},
   "source": [
    "#### Cleaning the data - Missing treating values for raised_amount_usd"
   ]
  },
  {
   "cell_type": "code",
   "execution_count": 678,
   "metadata": {},
   "outputs": [],
   "source": [
    "master_frame_temp = master_frame.loc[(master_frame.funding_round_type.isin(funding_types)) & ~master_frame.raised_amount_usd.isnull()]"
   ]
  },
  {
   "cell_type": "code",
   "execution_count": 702,
   "metadata": {},
   "outputs": [
    {
     "data": {
      "text/plain": [
       "(80627, 16)"
      ]
     },
     "execution_count": 702,
     "metadata": {},
     "output_type": "execute_result"
    }
   ],
   "source": [
    "master_frame_temp.shape"
   ]
  },
  {
   "cell_type": "code",
   "execution_count": 680,
   "metadata": {},
   "outputs": [
    {
     "data": {
      "text/html": [
       "<div>\n",
       "<style scoped>\n",
       "    .dataframe tbody tr th:only-of-type {\n",
       "        vertical-align: middle;\n",
       "    }\n",
       "\n",
       "    .dataframe tbody tr th {\n",
       "        vertical-align: top;\n",
       "    }\n",
       "\n",
       "    .dataframe thead th {\n",
       "        text-align: right;\n",
       "    }\n",
       "</style>\n",
       "<table border=\"1\" class=\"dataframe\">\n",
       "  <thead>\n",
       "    <tr style=\"text-align: right;\">\n",
       "      <th></th>\n",
       "      <th>raised_amount_usd</th>\n",
       "    </tr>\n",
       "  </thead>\n",
       "  <tbody>\n",
       "    <tr>\n",
       "      <th>count</th>\n",
       "      <td>80627.00</td>\n",
       "    </tr>\n",
       "    <tr>\n",
       "      <th>mean</th>\n",
       "      <td>9347994.74</td>\n",
       "    </tr>\n",
       "    <tr>\n",
       "      <th>std</th>\n",
       "      <td>75629397.45</td>\n",
       "    </tr>\n",
       "    <tr>\n",
       "      <th>min</th>\n",
       "      <td>0.00</td>\n",
       "    </tr>\n",
       "    <tr>\n",
       "      <th>25%</th>\n",
       "      <td>400000.00</td>\n",
       "    </tr>\n",
       "    <tr>\n",
       "      <th>50%</th>\n",
       "      <td>2000000.00</td>\n",
       "    </tr>\n",
       "    <tr>\n",
       "      <th>75%</th>\n",
       "      <td>7975495.50</td>\n",
       "    </tr>\n",
       "    <tr>\n",
       "      <th>max</th>\n",
       "      <td>17600000000.00</td>\n",
       "    </tr>\n",
       "  </tbody>\n",
       "</table>\n",
       "</div>"
      ],
      "text/plain": [
       "       raised_amount_usd\n",
       "count           80627.00\n",
       "mean          9347994.74\n",
       "std          75629397.45\n",
       "min                 0.00\n",
       "25%            400000.00\n",
       "50%           2000000.00\n",
       "75%           7975495.50\n",
       "max       17600000000.00"
      ]
     },
     "execution_count": 680,
     "metadata": {},
     "output_type": "execute_result"
    }
   ],
   "source": [
    "master_frame_temp.describe()"
   ]
  },
  {
   "cell_type": "code",
   "execution_count": 681,
   "metadata": {},
   "outputs": [
    {
     "data": {
      "text/plain": [
       "0   1000000.00\n",
       "dtype: float64"
      ]
     },
     "execution_count": 681,
     "metadata": {},
     "output_type": "execute_result"
    }
   ],
   "source": [
    "master_frame_temp.raised_amount_usd.mode()"
   ]
  },
  {
   "cell_type": "code",
   "execution_count": 599,
   "metadata": {},
   "outputs": [
    {
     "data": {
      "text/plain": [
       "9.34799474"
      ]
     },
     "execution_count": 599,
     "metadata": {},
     "output_type": "execute_result"
    }
   ],
   "source": [
    "# computing the % difference in mean and mode\n",
    "(9347994.74/1000000.00)"
   ]
  },
  {
   "cell_type": "markdown",
   "metadata": {},
   "source": [
    "Since the difference in mean and mode appears to be very much pronounced, ratio is not close to 1. Therefore for imputation of missing values let's go with median and not mean."
   ]
  },
  {
   "cell_type": "code",
   "execution_count": 682,
   "metadata": {},
   "outputs": [
    {
     "data": {
      "text/plain": [
       "2000000.0"
      ]
     },
     "execution_count": 682,
     "metadata": {},
     "output_type": "execute_result"
    }
   ],
   "source": [
    "master_frame_temp.raised_amount_usd.median()"
   ]
  },
  {
   "cell_type": "markdown",
   "metadata": {},
   "source": [
    "Another observation is that Median is not very close to mean and not even mode. There must be some outliers which are dragging mean to extreme values. In describe function output we can see that max is very large compared to 75%tile."
   ]
  },
  {
   "cell_type": "markdown",
   "metadata": {},
   "source": [
    "Lets us also see the boxplot for what is condidtion of outliers in this case"
   ]
  },
  {
   "cell_type": "code",
   "execution_count": 685,
   "metadata": {},
   "outputs": [
    {
     "data": {
      "image/png": "[encoded data removed]",
      "text/plain": [
       "<Figure size 432x288 with 1 Axes>"
      ]
     },
     "metadata": {
      "needs_background": "light"
     },
     "output_type": "display_data"
    }
   ],
   "source": [
    "sns.boxplot(master_frame_temp.raised_amount_usd, orient='v')\n",
    "plt.show()"
   ]
  },
  {
   "cell_type": "markdown",
   "metadata": {},
   "source": [
    "Let us see some percentile values too to get an idea."
   ]
  },
  {
   "cell_type": "code",
   "execution_count": 683,
   "metadata": {},
   "outputs": [
    {
     "data": {
      "text/plain": [
       "raised_amount_usd   14000000.00\n",
       "Name: 0.85, dtype: float64"
      ]
     },
     "execution_count": 683,
     "metadata": {},
     "output_type": "execute_result"
    }
   ],
   "source": [
    "# computing the 85th percentile\n",
    "master_frame_temp.quantile(q=0.85)"
   ]
  },
  {
   "cell_type": "code",
   "execution_count": 684,
   "metadata": {},
   "outputs": [
    {
     "data": {
      "text/plain": [
       "raised_amount_usd   100000000.00\n",
       "Name: 0.99, dtype: float64"
      ]
     },
     "execution_count": 684,
     "metadata": {},
     "output_type": "execute_result"
    }
   ],
   "source": [
    "# checking the 99th percentile\n",
    "master_frame_temp.quantile(q=0.99)"
   ]
  },
  {
   "cell_type": "markdown",
   "metadata": {},
   "source": [
    "Now we have to select median after analysing the dataset that is devoid of outliers. Such a median value would be more representative of missing raised_amount_usd."
   ]
  },
  {
   "cell_type": "code",
   "execution_count": 686,
   "metadata": {},
   "outputs": [],
   "source": [
    "# truncating values greater than 85th percentile\n",
    "mf_minus_outliers = master_frame_temp[master_frame_temp.raised_amount_usd < 14000000.00]"
   ]
  },
  {
   "cell_type": "code",
   "execution_count": 687,
   "metadata": {},
   "outputs": [
    {
     "data": {
      "image/png": "[encoded data removed]",
      "text/plain": [
       "<Figure size 432x288 with 1 Axes>"
      ]
     },
     "metadata": {
      "needs_background": "light"
     },
     "output_type": "display_data"
    }
   ],
   "source": [
    "sns.boxplot(mf_minus_outliers.raised_amount_usd, orient='v')\n",
    "plt.show()"
   ]
  },
  {
   "cell_type": "code",
   "execution_count": 688,
   "metadata": {},
   "outputs": [
    {
     "name": "stdout",
     "output_type": "stream",
     "text": [
      "raised_amount_usd   1282886.00\n",
      "dtype: float64\n"
     ]
    }
   ],
   "source": [
    "print(mf_minus_outliers.median())"
   ]
  },
  {
   "cell_type": "code",
   "execution_count": 693,
   "metadata": {},
   "outputs": [
    {
     "name": "stdout",
     "output_type": "stream",
     "text": [
      "2797303.5025254735\n"
     ]
    }
   ],
   "source": [
    "print(mf_minus_outliers.raised_amount_usd.mean())"
   ]
  },
  {
   "cell_type": "code",
   "execution_count": 696,
   "metadata": {},
   "outputs": [
    {
     "data": {
      "text/plain": [
       "2797303.5"
      ]
     },
     "execution_count": 696,
     "metadata": {},
     "output_type": "execute_result"
    }
   ],
   "source": [
    "round(2797303.5025254735, 2)"
   ]
  },
  {
   "cell_type": "markdown",
   "metadata": {},
   "source": [
    "__After removing significant outliers from the dataset we can see that we still have difference between median and mean. That is due to the fact that there are still outliers. In this case let's chose the median value to impute missing values and avoid any further outlier deduction to prevent information loss. Since we have alreay done for 85%tile__"
   ]
  },
  {
   "cell_type": "code",
   "execution_count": 698,
   "metadata": {},
   "outputs": [],
   "source": [
    "master_frame_1 = master_frame\n",
    "master_frame_1['raised_amount_usd'] = master_frame_1['raised_amount_usd'].fillna(2797303.5)"
   ]
  },
  {
   "cell_type": "code",
   "execution_count": 699,
   "metadata": {},
   "outputs": [
    {
     "data": {
      "text/plain": [
       "0        10000000.00\n",
       "1         2797303.50\n",
       "2          700000.00\n",
       "3         3406878.00\n",
       "4         2000000.00\n",
       "             ...    \n",
       "114944      41313.00\n",
       "114945      32842.00\n",
       "114946    2797303.50\n",
       "114947      18192.00\n",
       "114948      14851.00\n",
       "Name: raised_amount_usd, Length: 114949, dtype: float64"
      ]
     },
     "execution_count": 699,
     "metadata": {},
     "output_type": "execute_result"
    }
   ],
   "source": [
    "master_frame_1.raised_amount_usd"
   ]
  },
  {
   "cell_type": "code",
   "execution_count": 705,
   "metadata": {},
   "outputs": [
    {
     "data": {
      "text/plain": [
       "True"
      ]
     },
     "execution_count": 705,
     "metadata": {},
     "output_type": "execute_result"
    }
   ],
   "source": [
    "# Result for below should be true as we have not dropped any rows.\n",
    "master_frame_1.shape[0] == master_frame.shape[0]"
   ]
  },
  {
   "cell_type": "code",
   "execution_count": 737,
   "metadata": {
    "scrolled": false
   },
   "outputs": [
    {
     "name": "stdout",
     "output_type": "stream",
     "text": [
      "company_permalink          0.00\n",
      "funding_round_permalink    0.00\n",
      "funding_round_type         0.00\n",
      "funding_round_code        88.78\n",
      "funded_at                  0.00\n",
      "raised_amount_usd          0.00\n",
      "permalink                  0.01\n",
      "name                       0.01\n",
      "homepage_url               6.50\n",
      "category_list              3.62\n",
      "status                     0.01\n",
      "country_code               9.19\n",
      "state_code                11.60\n",
      "region                    10.77\n",
      "city                      10.77\n",
      "founded_at                21.75\n",
      "dtype: float64\n"
     ]
    }
   ],
   "source": [
    "print(round(100*(master_frame_1.isnull().sum()/len(df.index)), 2))"
   ]
  },
  {
   "cell_type": "markdown",
   "metadata": {},
   "source": [
    "__Let us check the box-plot for our master_frame_1 after imputation and check if we need to treat any outliers__"
   ]
  },
  {
   "cell_type": "code",
   "execution_count": 1021,
   "metadata": {},
   "outputs": [
    {
     "data": {
      "image/png": "[encoded data removed]",
      "text/plain": [
       "<Figure size 432x288 with 1 Axes>"
      ]
     },
     "metadata": {
      "needs_background": "light"
     },
     "output_type": "display_data"
    }
   ],
   "source": [
    "sns.boxplot(master_frame_1.raised_amount_usd, orient='v')\n",
    "plt.show()"
   ]
  },
  {
   "cell_type": "markdown",
   "metadata": {},
   "source": [
    "In above box plot we can clearly see that they are extreme outliers. Let's run describe function again."
   ]
  },
  {
   "cell_type": "code",
   "execution_count": 814,
   "metadata": {},
   "outputs": [
    {
     "data": {
      "text/html": [
       "<div>\n",
       "<style scoped>\n",
       "    .dataframe tbody tr th:only-of-type {\n",
       "        vertical-align: middle;\n",
       "    }\n",
       "\n",
       "    .dataframe tbody tr th {\n",
       "        vertical-align: top;\n",
       "    }\n",
       "\n",
       "    .dataframe thead th {\n",
       "        text-align: right;\n",
       "    }\n",
       "</style>\n",
       "<table border=\"1\" class=\"dataframe\">\n",
       "  <thead>\n",
       "    <tr style=\"text-align: right;\">\n",
       "      <th></th>\n",
       "      <th>raised_amount_usd</th>\n",
       "    </tr>\n",
       "  </thead>\n",
       "  <tbody>\n",
       "    <tr>\n",
       "      <th>count</th>\n",
       "      <td>114949.00</td>\n",
       "    </tr>\n",
       "    <tr>\n",
       "      <th>mean</th>\n",
       "      <td>9100063.35</td>\n",
       "    </tr>\n",
       "    <tr>\n",
       "      <th>std</th>\n",
       "      <td>104400842.11</td>\n",
       "    </tr>\n",
       "    <tr>\n",
       "      <th>min</th>\n",
       "      <td>0.00</td>\n",
       "    </tr>\n",
       "    <tr>\n",
       "      <th>25%</th>\n",
       "      <td>500000.00</td>\n",
       "    </tr>\n",
       "    <tr>\n",
       "      <th>50%</th>\n",
       "      <td>2797303.50</td>\n",
       "    </tr>\n",
       "    <tr>\n",
       "      <th>75%</th>\n",
       "      <td>5000000.00</td>\n",
       "    </tr>\n",
       "    <tr>\n",
       "      <th>max</th>\n",
       "      <td>21271935000.00</td>\n",
       "    </tr>\n",
       "  </tbody>\n",
       "</table>\n",
       "</div>"
      ],
      "text/plain": [
       "       raised_amount_usd\n",
       "count          114949.00\n",
       "mean          9100063.35\n",
       "std         104400842.11\n",
       "min                 0.00\n",
       "25%            500000.00\n",
       "50%           2797303.50\n",
       "75%           5000000.00\n",
       "max       21271935000.00"
      ]
     },
     "execution_count": 814,
     "metadata": {},
     "output_type": "execute_result"
    }
   ],
   "source": [
    "master_frame_1.describe()"
   ]
  },
  {
   "cell_type": "markdown",
   "metadata": {},
   "source": [
    "These outliers would be treated in checkpoint 2 when we would filter our records for 5 mn to 15 mn USD but at least we have a dataset with missing values imputed."
   ]
  },
  {
   "cell_type": "markdown",
   "metadata": {},
   "source": [
    "*__Now we have master_frame_1 ready with us checkpoint 1 ends here__*"
   ]
  },
  {
   "cell_type": "markdown",
   "metadata": {},
   "source": [
    "### Checkpoint 2: Funding Type Analysis"
   ]
  },
  {
   "cell_type": "markdown",
   "metadata": {},
   "source": [
    "*This is the first of the three goals of data analysis – investment type analysis.*\n",
    "\n",
    " \n",
    "\n",
    "The funding types such as seed, venture, angel, etc. depend on the type of the company (startup, corporate, etc.), its stage (early stage startup, funded startup, etc.), the amount of funding (a few million USD to a billion USD), and so on. For example, seed, angel and venture are three common stages of startup funding.\n",
    "\n",
    "    - Seed/angel funding refer to early stage startups whereas venture funding occurs after seed or angel stage/s and involves a relatively higher amount of investment.\n",
    "    \n",
    "    - Private equity type investments are associated with much larger companies and involve much higher investments than venture type. Startups which have grown in scale may also receive private equity funding. This means that if a company has reached the venture stage, it would have already passed through the angel or seed stage/s."
   ]
  },
  {
   "cell_type": "markdown",
   "metadata": {},
   "source": [
    "*We can categorise fundings in following order*  \n",
    "1. {seed, angel} - level 1\n",
    "2. {venture}  - level 2\n",
    "3. {Private Equity}  - level 3\n",
    "\n",
    ">Level 3 > Level 2 > Level 1"
   ]
  },
  {
   "cell_type": "code",
   "execution_count": 381,
   "metadata": {},
   "outputs": [
    {
     "data": {
      "text/plain": [
       "array(['venture', 'seed', 'undisclosed', 'equity_crowdfunding',\n",
       "       'convertible_note', 'private_equity', 'debt_financing', 'angel',\n",
       "       'grant', 'secondary_market', 'post_ipo_equity', 'post_ipo_debt',\n",
       "       'product_crowdfunding', 'non_equity_assistance'], dtype=object)"
      ]
     },
     "execution_count": 381,
     "metadata": {},
     "output_type": "execute_result"
    }
   ],
   "source": [
    "pd.unique(master_frame.funding_round_type)"
   ]
  },
  {
   "cell_type": "markdown",
   "metadata": {},
   "source": [
    "##### Will use below list to filter master_frame"
   ]
  },
  {
   "cell_type": "code",
   "execution_count": 396,
   "metadata": {},
   "outputs": [],
   "source": [
    "funding_types = ['seed','angel','venture','private_equity']"
   ]
  },
  {
   "cell_type": "code",
   "execution_count": 759,
   "metadata": {},
   "outputs": [],
   "source": [
    "master_frame_2 = master_frame_1.loc[(master_frame.funding_round_type.isin(funding_types))]"
   ]
  },
  {
   "cell_type": "code",
   "execution_count": 760,
   "metadata": {},
   "outputs": [
    {
     "data": {
      "text/plain": [
       "(94397, 16)"
      ]
     },
     "execution_count": 760,
     "metadata": {},
     "output_type": "execute_result"
    }
   ],
   "source": [
    "master_frame_2.loc[(master_frame.funding_round_type.isin(funding_types))].shape"
   ]
  },
  {
   "cell_type": "code",
   "execution_count": 761,
   "metadata": {},
   "outputs": [],
   "source": [
    "df = master_frame_2.loc[:,['funding_round_type','raised_amount_usd']]"
   ]
  },
  {
   "cell_type": "markdown",
   "metadata": {},
   "source": [
    ">*Calculate the most representative value of the investment amount for each of the four funding types (venture, angel, seed, and private equity) and report the answers in Table 2.1*"
   ]
  },
  {
   "cell_type": "code",
   "execution_count": 762,
   "metadata": {},
   "outputs": [
    {
     "data": {
      "text/html": [
       "<div>\n",
       "<style scoped>\n",
       "    .dataframe tbody tr th:only-of-type {\n",
       "        vertical-align: middle;\n",
       "    }\n",
       "\n",
       "    .dataframe tbody tr th {\n",
       "        vertical-align: top;\n",
       "    }\n",
       "\n",
       "    .dataframe thead th {\n",
       "        text-align: right;\n",
       "    }\n",
       "</style>\n",
       "<table border=\"1\" class=\"dataframe\">\n",
       "  <thead>\n",
       "    <tr style=\"text-align: right;\">\n",
       "      <th></th>\n",
       "      <th>raised_amount_usd</th>\n",
       "    </tr>\n",
       "    <tr>\n",
       "      <th>funding_round_type</th>\n",
       "      <th></th>\n",
       "    </tr>\n",
       "  </thead>\n",
       "  <tbody>\n",
       "    <tr>\n",
       "      <th>angel</th>\n",
       "      <td>1331002.00</td>\n",
       "    </tr>\n",
       "    <tr>\n",
       "      <th>private_equity</th>\n",
       "      <td>62539035.00</td>\n",
       "    </tr>\n",
       "    <tr>\n",
       "      <th>seed</th>\n",
       "      <td>1190866.00</td>\n",
       "    </tr>\n",
       "    <tr>\n",
       "      <th>venture</th>\n",
       "      <td>10899499.00</td>\n",
       "    </tr>\n",
       "  </tbody>\n",
       "</table>\n",
       "</div>"
      ],
      "text/plain": [
       "                    raised_amount_usd\n",
       "funding_round_type                   \n",
       "angel                      1331002.00\n",
       "private_equity            62539035.00\n",
       "seed                       1190866.00\n",
       "venture                   10899499.00"
      ]
     },
     "execution_count": 762,
     "metadata": {},
     "output_type": "execute_result"
    }
   ],
   "source": [
    "df.groupby('funding_round_type').mean().round()"
   ]
  },
  {
   "cell_type": "markdown",
   "metadata": {},
   "source": [
    ">Considering that Spark Funds wants to invest between 5 to 15 million USD per  investment round, which investment type is the most suitable for them"
   ]
  },
  {
   "cell_type": "code",
   "execution_count": 1068,
   "metadata": {},
   "outputs": [
    {
     "data": {
      "text/html": [
       "<div>\n",
       "<style scoped>\n",
       "    .dataframe tbody tr th:only-of-type {\n",
       "        vertical-align: middle;\n",
       "    }\n",
       "\n",
       "    .dataframe tbody tr th {\n",
       "        vertical-align: top;\n",
       "    }\n",
       "\n",
       "    .dataframe thead th {\n",
       "        text-align: right;\n",
       "    }\n",
       "</style>\n",
       "<table border=\"1\" class=\"dataframe\">\n",
       "  <thead>\n",
       "    <tr style=\"text-align: right;\">\n",
       "      <th></th>\n",
       "      <th>raised_amount_usd</th>\n",
       "    </tr>\n",
       "    <tr>\n",
       "      <th>funding_round_type</th>\n",
       "      <th></th>\n",
       "    </tr>\n",
       "  </thead>\n",
       "  <tbody>\n",
       "    <tr>\n",
       "      <th>venture</th>\n",
       "      <td>10.90</td>\n",
       "    </tr>\n",
       "  </tbody>\n",
       "</table>\n",
       "</div>"
      ],
      "text/plain": [
       "                    raised_amount_usd\n",
       "funding_round_type                   \n",
       "venture                         10.90"
      ]
     },
     "execution_count": 1068,
     "metadata": {},
     "output_type": "execute_result"
    }
   ],
   "source": [
    "one_million = 1000000\n",
    "x = df.groupby('funding_round_type').mean().round()/one_million\n",
    "x[x.raised_amount_usd.apply(lambda x: True if x>=5 and x<=15 else False)]"
   ]
  },
  {
   "cell_type": "code",
   "execution_count": 1069,
   "metadata": {},
   "outputs": [
    {
     "data": {
      "text/html": [
       "<div>\n",
       "<style scoped>\n",
       "    .dataframe tbody tr th:only-of-type {\n",
       "        vertical-align: middle;\n",
       "    }\n",
       "\n",
       "    .dataframe tbody tr th {\n",
       "        vertical-align: top;\n",
       "    }\n",
       "\n",
       "    .dataframe thead th {\n",
       "        text-align: right;\n",
       "    }\n",
       "</style>\n",
       "<table border=\"1\" class=\"dataframe\">\n",
       "  <thead>\n",
       "    <tr style=\"text-align: right;\">\n",
       "      <th></th>\n",
       "      <th>raised_amount_usd</th>\n",
       "    </tr>\n",
       "    <tr>\n",
       "      <th>funding_round_type</th>\n",
       "      <th></th>\n",
       "    </tr>\n",
       "  </thead>\n",
       "  <tbody>\n",
       "    <tr>\n",
       "      <th>angel</th>\n",
       "      <td>1.33</td>\n",
       "    </tr>\n",
       "    <tr>\n",
       "      <th>private_equity</th>\n",
       "      <td>62.54</td>\n",
       "    </tr>\n",
       "    <tr>\n",
       "      <th>seed</th>\n",
       "      <td>1.19</td>\n",
       "    </tr>\n",
       "    <tr>\n",
       "      <th>venture</th>\n",
       "      <td>10.90</td>\n",
       "    </tr>\n",
       "  </tbody>\n",
       "</table>\n",
       "</div>"
      ],
      "text/plain": [
       "                    raised_amount_usd\n",
       "funding_round_type                   \n",
       "angel                            1.33\n",
       "private_equity                  62.54\n",
       "seed                             1.19\n",
       "venture                         10.90"
      ]
     },
     "execution_count": 1069,
     "metadata": {},
     "output_type": "execute_result"
    }
   ],
   "source": [
    "x.head()"
   ]
  },
  {
   "cell_type": "markdown",
   "metadata": {},
   "source": [
    "*Only Venture type is the one which fullfills the constraint of 5 to 15 million USD*"
   ]
  },
  {
   "cell_type": "code",
   "execution_count": 192,
   "metadata": {},
   "outputs": [],
   "source": [
    "chosen_investment_type = 'venture'"
   ]
  },
  {
   "cell_type": "code",
   "execution_count": 717,
   "metadata": {},
   "outputs": [],
   "source": [
    "master_frame_2 = master_frame_2[master_frame_2.funding_round_type==chosen_investment_type]"
   ]
  },
  {
   "cell_type": "markdown",
   "metadata": {},
   "source": [
    "__Also applying the constraint for 5 to 15 million USD inclusive__"
   ]
  },
  {
   "cell_type": "code",
   "execution_count": 820,
   "metadata": {},
   "outputs": [],
   "source": [
    "master_frame_2 = master_frame_2[(master_frame_2.raised_amount_usd<=15*one_million) & (master_frame_2.raised_amount_usd>=5*one_million)]"
   ]
  },
  {
   "cell_type": "code",
   "execution_count": null,
   "metadata": {},
   "outputs": [],
   "source": [
    "Let us alos check the box-plot "
   ]
  },
  {
   "cell_type": "code",
   "execution_count": 1022,
   "metadata": {},
   "outputs": [
    {
     "data": {
      "image/png": "[encoded data removed]",
      "text/plain": [
       "<Figure size 432x288 with 1 Axes>"
      ]
     },
     "metadata": {
      "needs_background": "light"
     },
     "output_type": "display_data"
    }
   ],
   "source": [
    "sns.boxplot(master_frame_2.raised_amount_usd, orient='v')\n",
    "plt.show()"
   ]
  },
  {
   "cell_type": "markdown",
   "metadata": {},
   "source": [
    "__Now master_frame_2 is ready with data that contains both imputed missing values for investment amount and venture funding type__  \n",
    "__CHECKPOINT 2 Ends here__"
   ]
  },
  {
   "cell_type": "markdown",
   "metadata": {},
   "source": [
    "### Checkpoint 3: Country Analysis"
   ]
  },
  {
   "cell_type": "markdown",
   "metadata": {},
   "source": [
    "This is the second goal of analysis — country analysis.\n",
    "\n",
    " \n",
    "\n",
    "Now that you know the type of investment suited for Spark Funds, let's narrow down the countries.\n",
    "\n",
    " \n",
    "\n",
    "Spark Funds wants to invest in countries with the highest amount of funding for the chosen investment type. This is a part of its broader strategy to invest where most investments are occurring.\n",
    "\n",
    " \n",
    "\n",
    "1. Spark Funds wants to see the top nine countries which have received the highest total funding (across ALL sectors for the chosen investment type)\n",
    "\n",
    "2. For the chosen investment type, make a data frame named top9 with the top nine countries (based on the total investment amount each country has received)"
   ]
  },
  {
   "cell_type": "code",
   "execution_count": 435,
   "metadata": {},
   "outputs": [
    {
     "data": {
      "text/plain": [
       "array(['IND', nan, 'CHN', 'CAN', 'USA', 'GBR', 'FRA', 'ROM', 'KOR', 'IRL',\n",
       "       'SWE', 'SGP', 'NLD', 'RUS', 'BEL', 'ESP', 'HUN', 'JPN', 'DEU',\n",
       "       'ITA', 'HKG', 'BRA', 'FIN', 'CHE', 'PRT', 'SVN', 'THA', 'DNK',\n",
       "       'TWN', 'ISR', 'NOR', 'LTU', 'ISL', 'MEX', 'AUS', 'NZL', 'AUT',\n",
       "       'ARG', 'PHL', 'MNE', 'MYS', 'TUR', 'POL', 'LVA', 'GGY', 'EST',\n",
       "       'LBN', 'GRC', 'IDN', 'CYP', 'SVK', 'ARE', 'EGY', 'ARM', 'ZAF',\n",
       "       'TUN', 'KEN', 'COL', 'CZE', 'CMR', 'PRI', 'CYM', 'PER', 'ECU',\n",
       "       'CHL', 'NGA', 'VNM', 'URY', 'PAK', 'HRV', 'LUX', 'UKR', 'BMU',\n",
       "       'MUS', 'BGR', 'TTO', 'PAN', 'MMR', 'JOR', 'KAZ', 'MAR', 'LIE',\n",
       "       'GTM', 'SAU', 'TAN', 'KNA', 'SEN', 'MLT', 'MCO', 'BAH', 'GHA',\n",
       "       'KWT', 'UGA', 'LAO', 'BGD', 'BWA', 'MAF', 'GIB'], dtype=object)"
      ]
     },
     "execution_count": 435,
     "metadata": {},
     "output_type": "execute_result"
    }
   ],
   "source": [
    "pd.unique(master_frame_2.country_code)"
   ]
  },
  {
   "cell_type": "markdown",
   "metadata": {},
   "source": [
    "##### https://en.wikipedia.org/wiki/List_of_territorial_entities_where_English_is_an_official_language\n",
    "\n",
    "##### we can get below code in javascript to scrapt the data. I used Firefox.\n",
    "\n",
    "1. Countries where English is a de facto official language\n",
    "2. Countries where English is a de jure and de facto official language\n",
    " \n",
    ">   tables = document.getElementsByClassName('wikitable');  \n",
    "    countries = []  \n",
    "    for (var x = 1; x < table[0].rows.length; x++)  \n",
    "      {  \n",
    "        countries.push(tables[0].rows[x].cells[2].innerText)  \n",
    "      }  \n",
    "    for (var x = 1; x < table[1].rows.length; x++)  \n",
    "      {  \n",
    "        countries.push(tables[1].rows[x].cells[2].innerText)  \n",
    "      }  \n",
    "    countries  \n",
    "\n",
    "*Copy paste result, Using column selection mode for editing and some good find replace tricks we can get below*  \n",
    ">\"AUS\",\"NZL\",\"GBR\",\"USA\",\"ATG\",\"BHS\",\"BRB\",\"BLZ\",\"BWA\",\"BDI\", \"CMR\", \"CAN\", \"COK\", \"DMA\", \"SWZ\", \"FJI\", \"GMB\", \"GHA\", \"GRD\", \"GUY\", \"IND\", \"IRL\", \"JAM\", \"KEN\", \"KIR\", \"LSO\", \"LBR\", \"MWI\", \"MLT\", \"MHL\", \"MUS\", \"FSM\", \"NAM\", \"NRU\", \"NGA\"\n",
    " \"NIU\", \"PAK\", \"PLW\", \"PNG\", \"PHL\", \"RWA\", \"KNA\", \"LCA\", \"VCT\", \"WSM\", \"SYC\", \"SLE\", \"SGP\", \"SLB\", \"ZAF\", \"SSD\", \"SDN\", \"TZA\", \"TON\", \"TTO\", \"TUV\", \"UGA\", \"VUT\", \"ZMB\", \"ZWE\""
   ]
  },
  {
   "cell_type": "code",
   "execution_count": 197,
   "metadata": {},
   "outputs": [],
   "source": [
    "eng_speaking_countries = [\"AUS\",\"NZL\",\"GBR\",\"USA\",\"ATG\",\"BHS\",\"BRB\",\"BLZ\",\"BWA\",\"BDI\", \"CMR\", \"CAN\", \"COK\", \"DMA\", \"SWZ\", \"FJI\", \"GMB\", \"GHA\", \"GRD\", \"GUY\", \"IND\", \"IRL\", \"JAM\", \"KEN\", \"KIR\", \"LSO\", \"LBR\", \"MWI\", \"MLT\", \"MHL\", \"MUS\", \"FSM\", \"NAM\", \"NRU\", \"NGA\"\n",
    " \"NIU\", \"PAK\", \"PLW\", \"PNG\", \"PHL\", \"RWA\", \"KNA\", \"LCA\", \"VCT\", \"WSM\", \"SYC\", \"SLE\", \"SGP\", \"SLB\", \"ZAF\", \"SSD\", \"SDN\", \"TZA\", \"TON\", \"TTO\", \"TUV\", \"UGA\", \"VUT\", \"ZMB\", \"ZWE\"]"
   ]
  },
  {
   "cell_type": "code",
   "execution_count": 198,
   "metadata": {
    "scrolled": true
   },
   "outputs": [
    {
     "data": {
      "text/plain": [
       "['AUS',\n",
       " 'NZL',\n",
       " 'GBR',\n",
       " 'USA',\n",
       " 'ATG',\n",
       " 'BHS',\n",
       " 'BRB',\n",
       " 'BLZ',\n",
       " 'BWA',\n",
       " 'BDI',\n",
       " 'CMR',\n",
       " 'CAN',\n",
       " 'COK',\n",
       " 'DMA',\n",
       " 'SWZ',\n",
       " 'FJI',\n",
       " 'GMB',\n",
       " 'GHA',\n",
       " 'GRD',\n",
       " 'GUY',\n",
       " 'IND',\n",
       " 'IRL',\n",
       " 'JAM',\n",
       " 'KEN',\n",
       " 'KIR',\n",
       " 'LSO',\n",
       " 'LBR',\n",
       " 'MWI',\n",
       " 'MLT',\n",
       " 'MHL',\n",
       " 'MUS',\n",
       " 'FSM',\n",
       " 'NAM',\n",
       " 'NRU',\n",
       " 'NGANIU',\n",
       " 'PAK',\n",
       " 'PLW',\n",
       " 'PNG',\n",
       " 'PHL',\n",
       " 'RWA',\n",
       " 'KNA',\n",
       " 'LCA',\n",
       " 'VCT',\n",
       " 'WSM',\n",
       " 'SYC',\n",
       " 'SLE',\n",
       " 'SGP',\n",
       " 'SLB',\n",
       " 'ZAF',\n",
       " 'SSD',\n",
       " 'SDN',\n",
       " 'TZA',\n",
       " 'TON',\n",
       " 'TTO',\n",
       " 'TUV',\n",
       " 'UGA',\n",
       " 'VUT',\n",
       " 'ZMB',\n",
       " 'ZWE']"
      ]
     },
     "execution_count": 198,
     "metadata": {},
     "output_type": "execute_result"
    }
   ],
   "source": [
    "eng_speaking_countries"
   ]
  },
  {
   "cell_type": "markdown",
   "metadata": {},
   "source": [
    ">Spark Funds wants to see the top nine countries which have received the highest total funding (across ALL sectors for the chosen investment type)"
   ]
  },
  {
   "cell_type": "code",
   "execution_count": null,
   "metadata": {},
   "outputs": [],
   "source": [
    "master_frame_2[master_frame_2.country_code]"
   ]
  },
  {
   "cell_type": "code",
   "execution_count": 860,
   "metadata": {},
   "outputs": [],
   "source": [
    "top9 = master_frame_2.loc[:, ['country_code','raised_amount_usd']].groupby('country_code').sum().round().sort_values(by='raised_amount_usd',ascending=False).head(9)"
   ]
  },
  {
   "cell_type": "code",
   "execution_count": 861,
   "metadata": {},
   "outputs": [
    {
     "data": {
      "text/html": [
       "<div>\n",
       "<style scoped>\n",
       "    .dataframe tbody tr th:only-of-type {\n",
       "        vertical-align: middle;\n",
       "    }\n",
       "\n",
       "    .dataframe tbody tr th {\n",
       "        vertical-align: top;\n",
       "    }\n",
       "\n",
       "    .dataframe thead th {\n",
       "        text-align: right;\n",
       "    }\n",
       "</style>\n",
       "<table border=\"1\" class=\"dataframe\">\n",
       "  <thead>\n",
       "    <tr style=\"text-align: right;\">\n",
       "      <th></th>\n",
       "      <th>raised_amount_usd</th>\n",
       "    </tr>\n",
       "    <tr>\n",
       "      <th>country_code</th>\n",
       "      <th></th>\n",
       "    </tr>\n",
       "  </thead>\n",
       "  <tbody>\n",
       "    <tr>\n",
       "      <th>USA</th>\n",
       "      <td>112562637512.00</td>\n",
       "    </tr>\n",
       "    <tr>\n",
       "      <th>GBR</th>\n",
       "      <td>5726936263.00</td>\n",
       "    </tr>\n",
       "    <tr>\n",
       "      <th>CHN</th>\n",
       "      <td>5156510507.00</td>\n",
       "    </tr>\n",
       "    <tr>\n",
       "      <th>CAN</th>\n",
       "      <td>3834922744.00</td>\n",
       "    </tr>\n",
       "    <tr>\n",
       "      <th>IND</th>\n",
       "      <td>3065543602.00</td>\n",
       "    </tr>\n",
       "    <tr>\n",
       "      <th>ISR</th>\n",
       "      <td>2989295147.00</td>\n",
       "    </tr>\n",
       "    <tr>\n",
       "      <th>FRA</th>\n",
       "      <td>2143939776.00</td>\n",
       "    </tr>\n",
       "    <tr>\n",
       "      <th>DEU</th>\n",
       "      <td>1797007570.00</td>\n",
       "    </tr>\n",
       "    <tr>\n",
       "      <th>SWE</th>\n",
       "      <td>733759745.00</td>\n",
       "    </tr>\n",
       "  </tbody>\n",
       "</table>\n",
       "</div>"
      ],
      "text/plain": [
       "              raised_amount_usd\n",
       "country_code                   \n",
       "USA             112562637512.00\n",
       "GBR               5726936263.00\n",
       "CHN               5156510507.00\n",
       "CAN               3834922744.00\n",
       "IND               3065543602.00\n",
       "ISR               2989295147.00\n",
       "FRA               2143939776.00\n",
       "DEU               1797007570.00\n",
       "SWE                733759745.00"
      ]
     },
     "execution_count": 861,
     "metadata": {},
     "output_type": "execute_result"
    }
   ],
   "source": [
    "top9"
   ]
  },
  {
   "cell_type": "code",
   "execution_count": 862,
   "metadata": {},
   "outputs": [
    {
     "name": "stdout",
     "output_type": "stream",
     "text": [
      "Index(['raised_amount_usd'], dtype='object')\n",
      "Index(['USA', 'GBR', 'CHN', 'CAN', 'IND', 'ISR', 'FRA', 'DEU', 'SWE'], dtype='object', name='country_code')\n"
     ]
    }
   ],
   "source": [
    "print(top9.columns)\n",
    "print(top9.index)"
   ]
  },
  {
   "cell_type": "code",
   "execution_count": 863,
   "metadata": {},
   "outputs": [],
   "source": [
    "y = top9[top9.index.isin(eng_speaking_countries)]"
   ]
  },
  {
   "cell_type": "code",
   "execution_count": 864,
   "metadata": {},
   "outputs": [
    {
     "data": {
      "text/html": [
       "<div>\n",
       "<style scoped>\n",
       "    .dataframe tbody tr th:only-of-type {\n",
       "        vertical-align: middle;\n",
       "    }\n",
       "\n",
       "    .dataframe tbody tr th {\n",
       "        vertical-align: top;\n",
       "    }\n",
       "\n",
       "    .dataframe thead th {\n",
       "        text-align: right;\n",
       "    }\n",
       "</style>\n",
       "<table border=\"1\" class=\"dataframe\">\n",
       "  <thead>\n",
       "    <tr style=\"text-align: right;\">\n",
       "      <th></th>\n",
       "      <th>raised_amount_usd</th>\n",
       "    </tr>\n",
       "    <tr>\n",
       "      <th>country_code</th>\n",
       "      <th></th>\n",
       "    </tr>\n",
       "  </thead>\n",
       "  <tbody>\n",
       "    <tr>\n",
       "      <th>USA</th>\n",
       "      <td>112562637512.00</td>\n",
       "    </tr>\n",
       "    <tr>\n",
       "      <th>GBR</th>\n",
       "      <td>5726936263.00</td>\n",
       "    </tr>\n",
       "    <tr>\n",
       "      <th>CAN</th>\n",
       "      <td>3834922744.00</td>\n",
       "    </tr>\n",
       "    <tr>\n",
       "      <th>IND</th>\n",
       "      <td>3065543602.00</td>\n",
       "    </tr>\n",
       "  </tbody>\n",
       "</table>\n",
       "</div>"
      ],
      "text/plain": [
       "              raised_amount_usd\n",
       "country_code                   \n",
       "USA             112562637512.00\n",
       "GBR               5726936263.00\n",
       "CAN               3834922744.00\n",
       "IND               3065543602.00"
      ]
     },
     "execution_count": 864,
     "metadata": {},
     "output_type": "execute_result"
    }
   ],
   "source": [
    "y"
   ]
  },
  {
   "cell_type": "code",
   "execution_count": 865,
   "metadata": {},
   "outputs": [],
   "source": [
    "country_1, country_2, country_3 = 'USA', 'GBR', 'CAN'"
   ]
  },
  {
   "cell_type": "markdown",
   "metadata": {},
   "source": [
    "__Below is just an additional check to understand if the above three are really the countries where where most other investors are investing__"
   ]
  },
  {
   "cell_type": "code",
   "execution_count": 857,
   "metadata": {},
   "outputs": [
    {
     "data": {
      "text/html": [
       "<div>\n",
       "<style scoped>\n",
       "    .dataframe tbody tr th:only-of-type {\n",
       "        vertical-align: middle;\n",
       "    }\n",
       "\n",
       "    .dataframe tbody tr th {\n",
       "        vertical-align: top;\n",
       "    }\n",
       "\n",
       "    .dataframe thead th {\n",
       "        text-align: right;\n",
       "    }\n",
       "</style>\n",
       "<table border=\"1\" class=\"dataframe\">\n",
       "  <thead>\n",
       "    <tr style=\"text-align: right;\">\n",
       "      <th></th>\n",
       "      <th>company_permalink</th>\n",
       "    </tr>\n",
       "    <tr>\n",
       "      <th>country_code</th>\n",
       "      <th></th>\n",
       "    </tr>\n",
       "  </thead>\n",
       "  <tbody>\n",
       "    <tr>\n",
       "      <th>USA</th>\n",
       "      <td>12635</td>\n",
       "    </tr>\n",
       "    <tr>\n",
       "      <th>GBR</th>\n",
       "      <td>664</td>\n",
       "    </tr>\n",
       "    <tr>\n",
       "      <th>CHN</th>\n",
       "      <td>550</td>\n",
       "    </tr>\n",
       "    <tr>\n",
       "      <th>CAN</th>\n",
       "      <td>449</td>\n",
       "    </tr>\n",
       "    <tr>\n",
       "      <th>IND</th>\n",
       "      <td>342</td>\n",
       "    </tr>\n",
       "    <tr>\n",
       "      <th>...</th>\n",
       "      <td>...</td>\n",
       "    </tr>\n",
       "    <tr>\n",
       "      <th>ROM</th>\n",
       "      <td>1</td>\n",
       "    </tr>\n",
       "    <tr>\n",
       "      <th>LTU</th>\n",
       "      <td>1</td>\n",
       "    </tr>\n",
       "    <tr>\n",
       "      <th>EGY</th>\n",
       "      <td>1</td>\n",
       "    </tr>\n",
       "    <tr>\n",
       "      <th>KWT</th>\n",
       "      <td>1</td>\n",
       "    </tr>\n",
       "    <tr>\n",
       "      <th>MLT</th>\n",
       "      <td>1</td>\n",
       "    </tr>\n",
       "  </tbody>\n",
       "</table>\n",
       "<p>76 rows × 1 columns</p>\n",
       "</div>"
      ],
      "text/plain": [
       "              company_permalink\n",
       "country_code                   \n",
       "USA                       12635\n",
       "GBR                         664\n",
       "CHN                         550\n",
       "CAN                         449\n",
       "IND                         342\n",
       "...                         ...\n",
       "ROM                           1\n",
       "LTU                           1\n",
       "EGY                           1\n",
       "KWT                           1\n",
       "MLT                           1\n",
       "\n",
       "[76 rows x 1 columns]"
      ]
     },
     "execution_count": 857,
     "metadata": {},
     "output_type": "execute_result"
    }
   ],
   "source": [
    "df = master_frame_2.loc[:, ['company_permalink','raised_amount_usd','country_code','primary_sector']]\n",
    "countries_by_no_of_investors = pd.pivot_table(df, index=['country_code'], values=['company_permalink'], aggfunc=len).sort_values(by='company_permalink', ascending=False)\n",
    "countries_by_no_of_investors"
   ]
  },
  {
   "cell_type": "markdown",
   "metadata": {},
   "source": [
    "Now checking which ones are the top english speaking countries"
   ]
  },
  {
   "cell_type": "code",
   "execution_count": 859,
   "metadata": {},
   "outputs": [
    {
     "data": {
      "text/html": [
       "<div>\n",
       "<style scoped>\n",
       "    .dataframe tbody tr th:only-of-type {\n",
       "        vertical-align: middle;\n",
       "    }\n",
       "\n",
       "    .dataframe tbody tr th {\n",
       "        vertical-align: top;\n",
       "    }\n",
       "\n",
       "    .dataframe thead th {\n",
       "        text-align: right;\n",
       "    }\n",
       "</style>\n",
       "<table border=\"1\" class=\"dataframe\">\n",
       "  <thead>\n",
       "    <tr style=\"text-align: right;\">\n",
       "      <th></th>\n",
       "      <th>company_permalink</th>\n",
       "    </tr>\n",
       "    <tr>\n",
       "      <th>country_code</th>\n",
       "      <th></th>\n",
       "    </tr>\n",
       "  </thead>\n",
       "  <tbody>\n",
       "    <tr>\n",
       "      <th>USA</th>\n",
       "      <td>12635</td>\n",
       "    </tr>\n",
       "    <tr>\n",
       "      <th>GBR</th>\n",
       "      <td>664</td>\n",
       "    </tr>\n",
       "    <tr>\n",
       "      <th>CAN</th>\n",
       "      <td>449</td>\n",
       "    </tr>\n",
       "    <tr>\n",
       "      <th>IND</th>\n",
       "      <td>342</td>\n",
       "    </tr>\n",
       "    <tr>\n",
       "      <th>SGP</th>\n",
       "      <td>76</td>\n",
       "    </tr>\n",
       "    <tr>\n",
       "      <th>AUS</th>\n",
       "      <td>71</td>\n",
       "    </tr>\n",
       "    <tr>\n",
       "      <th>IRL</th>\n",
       "      <td>62</td>\n",
       "    </tr>\n",
       "    <tr>\n",
       "      <th>NZL</th>\n",
       "      <td>16</td>\n",
       "    </tr>\n",
       "    <tr>\n",
       "      <th>ZAF</th>\n",
       "      <td>6</td>\n",
       "    </tr>\n",
       "    <tr>\n",
       "      <th>KEN</th>\n",
       "      <td>4</td>\n",
       "    </tr>\n",
       "    <tr>\n",
       "      <th>PAK</th>\n",
       "      <td>4</td>\n",
       "    </tr>\n",
       "    <tr>\n",
       "      <th>PHL</th>\n",
       "      <td>3</td>\n",
       "    </tr>\n",
       "    <tr>\n",
       "      <th>GHA</th>\n",
       "      <td>2</td>\n",
       "    </tr>\n",
       "    <tr>\n",
       "      <th>KNA</th>\n",
       "      <td>1</td>\n",
       "    </tr>\n",
       "    <tr>\n",
       "      <th>MLT</th>\n",
       "      <td>1</td>\n",
       "    </tr>\n",
       "  </tbody>\n",
       "</table>\n",
       "</div>"
      ],
      "text/plain": [
       "              company_permalink\n",
       "country_code                   \n",
       "USA                       12635\n",
       "GBR                         664\n",
       "CAN                         449\n",
       "IND                         342\n",
       "SGP                          76\n",
       "AUS                          71\n",
       "IRL                          62\n",
       "NZL                          16\n",
       "ZAF                           6\n",
       "KEN                           4\n",
       "PAK                           4\n",
       "PHL                           3\n",
       "GHA                           2\n",
       "KNA                           1\n",
       "MLT                           1"
      ]
     },
     "execution_count": 859,
     "metadata": {},
     "output_type": "execute_result"
    }
   ],
   "source": [
    "countries_by_no_of_investors[countries_by_no_of_investors.index.isin(eng_speaking_countries)]"
   ]
  },
  {
   "cell_type": "markdown",
   "metadata": {},
   "source": [
    "### Checkpoint 4: Sector Analysis 1"
   ]
  },
  {
   "cell_type": "markdown",
   "metadata": {},
   "source": [
    "This is the third goal of analysis — sector analysis.\n",
    "\n",
    " \n",
    "\n",
    "When we say sector analysis, we refer to one of the eight main sectors (named main_sector) listed in the mapping file (note that ‘Other’ is one of the eight main sectors). This is to simplify the analysis by grouping the numerous category lists (named ‘category_list’) in the mapping file. For example, in the mapping file, category_lists such as ‘3D’, ‘3D Printing’, ‘3D Technology’, etc. are mapped to the main sector ‘Manufacturing’.\n",
    "\n",
    " \n",
    "\n",
    "Also, for some companies, the category list is a list of multiple sub-sectors separated by a pipe (vertical bar |). For example, one of the companies’ category_list is Application Platforms|Real Time|Social Network Media.\n",
    "\n",
    " \n",
    "\n",
    "You discuss with the CEO and come up with the business rule that the first string before the vertical bar will be considered the primary sector. In the example above, ‘Application Platforms’ will be considered the primary sector.\n",
    "\n",
    "    Extract the primary sector of each category list from the category_list column\n",
    "\n",
    "    Use the mapping file 'mapping.csv' to map each primary sector to one of the eight main sectors (Note that ‘Others’ is also considered one of the main sectors)\n",
    "\n",
    "Expected Results: Code for a merged data frame with each primary sector mapped to its main sector (the primary sector should be present in a separate column)."
   ]
  },
  {
   "cell_type": "code",
   "execution_count": 824,
   "metadata": {},
   "outputs": [],
   "source": [
    "mappings = pd.read_csv('mapping.csv')"
   ]
  },
  {
   "cell_type": "code",
   "execution_count": 826,
   "metadata": {},
   "outputs": [
    {
     "data": {
      "text/html": [
       "<div>\n",
       "<style scoped>\n",
       "    .dataframe tbody tr th:only-of-type {\n",
       "        vertical-align: middle;\n",
       "    }\n",
       "\n",
       "    .dataframe tbody tr th {\n",
       "        vertical-align: top;\n",
       "    }\n",
       "\n",
       "    .dataframe thead th {\n",
       "        text-align: right;\n",
       "    }\n",
       "</style>\n",
       "<table border=\"1\" class=\"dataframe\">\n",
       "  <thead>\n",
       "    <tr style=\"text-align: right;\">\n",
       "      <th></th>\n",
       "      <th>category_list</th>\n",
       "      <th>Automotive &amp; Sports</th>\n",
       "      <th>Blanks</th>\n",
       "      <th>Cleantech / Semiconductors</th>\n",
       "      <th>Entertainment</th>\n",
       "      <th>Health</th>\n",
       "      <th>Manufacturing</th>\n",
       "      <th>News, Search and Messaging</th>\n",
       "      <th>Others</th>\n",
       "      <th>Social, Finance, Analytics, Advertising</th>\n",
       "    </tr>\n",
       "  </thead>\n",
       "  <tbody>\n",
       "    <tr>\n",
       "      <th>0</th>\n",
       "      <td>NaN</td>\n",
       "      <td>0</td>\n",
       "      <td>1</td>\n",
       "      <td>0</td>\n",
       "      <td>0</td>\n",
       "      <td>0</td>\n",
       "      <td>0</td>\n",
       "      <td>0</td>\n",
       "      <td>0</td>\n",
       "      <td>0</td>\n",
       "    </tr>\n",
       "    <tr>\n",
       "      <th>1</th>\n",
       "      <td>3D</td>\n",
       "      <td>0</td>\n",
       "      <td>0</td>\n",
       "      <td>0</td>\n",
       "      <td>0</td>\n",
       "      <td>0</td>\n",
       "      <td>1</td>\n",
       "      <td>0</td>\n",
       "      <td>0</td>\n",
       "      <td>0</td>\n",
       "    </tr>\n",
       "    <tr>\n",
       "      <th>2</th>\n",
       "      <td>3D Printing</td>\n",
       "      <td>0</td>\n",
       "      <td>0</td>\n",
       "      <td>0</td>\n",
       "      <td>0</td>\n",
       "      <td>0</td>\n",
       "      <td>1</td>\n",
       "      <td>0</td>\n",
       "      <td>0</td>\n",
       "      <td>0</td>\n",
       "    </tr>\n",
       "    <tr>\n",
       "      <th>3</th>\n",
       "      <td>3D Technology</td>\n",
       "      <td>0</td>\n",
       "      <td>0</td>\n",
       "      <td>0</td>\n",
       "      <td>0</td>\n",
       "      <td>0</td>\n",
       "      <td>1</td>\n",
       "      <td>0</td>\n",
       "      <td>0</td>\n",
       "      <td>0</td>\n",
       "    </tr>\n",
       "    <tr>\n",
       "      <th>4</th>\n",
       "      <td>Accounting</td>\n",
       "      <td>0</td>\n",
       "      <td>0</td>\n",
       "      <td>0</td>\n",
       "      <td>0</td>\n",
       "      <td>0</td>\n",
       "      <td>0</td>\n",
       "      <td>0</td>\n",
       "      <td>0</td>\n",
       "      <td>1</td>\n",
       "    </tr>\n",
       "  </tbody>\n",
       "</table>\n",
       "</div>"
      ],
      "text/plain": [
       "   category_list  Automotive & Sports  Blanks  Cleantech / Semiconductors  \\\n",
       "0            NaN                    0       1                           0   \n",
       "1             3D                    0       0                           0   \n",
       "2    3D Printing                    0       0                           0   \n",
       "3  3D Technology                    0       0                           0   \n",
       "4     Accounting                    0       0                           0   \n",
       "\n",
       "   Entertainment  Health  Manufacturing  News, Search and Messaging  Others  \\\n",
       "0              0       0              0                           0       0   \n",
       "1              0       0              1                           0       0   \n",
       "2              0       0              1                           0       0   \n",
       "3              0       0              1                           0       0   \n",
       "4              0       0              0                           0       0   \n",
       "\n",
       "   Social, Finance, Analytics, Advertising  \n",
       "0                                        0  \n",
       "1                                        0  \n",
       "2                                        0  \n",
       "3                                        0  \n",
       "4                                        1  "
      ]
     },
     "execution_count": 826,
     "metadata": {},
     "output_type": "execute_result"
    }
   ],
   "source": [
    "mappings.head()"
   ]
  },
  {
   "cell_type": "markdown",
   "metadata": {},
   "source": [
    "We can see that we have category_list=NaN mapped to as main_sector=Blanks.  \n",
    "Therefore we should ensure that primary_sector also have NaN which would be helpful during merge."
   ]
  },
  {
   "cell_type": "code",
   "execution_count": 827,
   "metadata": {},
   "outputs": [
    {
     "data": {
      "text/plain": [
       "0                       Media\n",
       "12                  Analytics\n",
       "21         Internet Marketing\n",
       "22                       Apps\n",
       "46           Local Businesses\n",
       "50                  Cosmetics\n",
       "52                      Games\n",
       "99                        NaN\n",
       "100                  Internet\n",
       "103         Service Providers\n",
       "110             Manufacturing\n",
       "111             Manufacturing\n",
       "112             Manufacturing\n",
       "113             Manufacturing\n",
       "114             Manufacturing\n",
       "133                       NaN\n",
       "134                  Software\n",
       "140                 Education\n",
       "141                 Education\n",
       "145          Baby Accessories\n",
       "148                   Finance\n",
       "152          Clean Technology\n",
       "181                       NaN\n",
       "191                E-Commerce\n",
       "211                      News\n",
       "216                      News\n",
       "227                E-Commerce\n",
       "229                  Big Data\n",
       "239             Biotechnology\n",
       "249             Biotechnology\n",
       "252             Biotechnology\n",
       "254             Biotechnology\n",
       "290           Cloud Computing\n",
       "296                E-Commerce\n",
       "298              Credit Cards\n",
       "300                  Software\n",
       "327      Cloud Infrastructure\n",
       "339                    EdTech\n",
       "341                    EdTech\n",
       "358             Biotechnology\n",
       "360             Biotechnology\n",
       "363             Biotechnology\n",
       "373               Advertising\n",
       "375               Advertising\n",
       "379    Information Technology\n",
       "381             Biotechnology\n",
       "384                  Software\n",
       "386                  Internet\n",
       "387                  Internet\n",
       "388                  Internet\n",
       "Name: category_list, dtype: object"
      ]
     },
     "execution_count": 827,
     "metadata": {},
     "output_type": "execute_result"
    }
   ],
   "source": [
    "master_frame_2.category_list.apply(lambda x: np.nan if x is np.nan else str(x).split('|')[0] ).head(50)"
   ]
  },
  {
   "cell_type": "code",
   "execution_count": 828,
   "metadata": {},
   "outputs": [],
   "source": [
    "master_frame_2['primary_sector'] =  master_frame_2.category_list.apply(lambda x: np.nan if x is np.nan else str(x).split('|')[0])"
   ]
  },
  {
   "cell_type": "code",
   "execution_count": 830,
   "metadata": {},
   "outputs": [
    {
     "data": {
      "text/plain": [
       "0                   Media\n",
       "12              Analytics\n",
       "21     Internet Marketing\n",
       "22                   Apps\n",
       "46       Local Businesses\n",
       "50              Cosmetics\n",
       "52                  Games\n",
       "99                    NaN\n",
       "100              Internet\n",
       "103     Service Providers\n",
       "Name: primary_sector, dtype: object"
      ]
     },
     "execution_count": 830,
     "metadata": {},
     "output_type": "execute_result"
    }
   ],
   "source": [
    "master_frame_2.primary_sector.head(10)"
   ]
  },
  {
   "cell_type": "markdown",
   "metadata": {},
   "source": [
    "##### Now let's deal with the mappings table. Each value of 1 for a particular column indicates that column is main_sector for that category.    \n",
    "##### Let's add a new column which holds the value of main_sector rather than this complex mechanism. \n",
    "##### It would be easier to merge with master_frame"
   ]
  },
  {
   "cell_type": "code",
   "execution_count": 831,
   "metadata": {},
   "outputs": [],
   "source": [
    "mappings['main_sector'] = mappings.apply(lambda x: x.index[x==1].values[0], axis=1)"
   ]
  },
  {
   "cell_type": "code",
   "execution_count": 832,
   "metadata": {},
   "outputs": [],
   "source": [
    "mappings_2 = mappings.loc[:,['category_list','main_sector']]"
   ]
  },
  {
   "cell_type": "code",
   "execution_count": 833,
   "metadata": {},
   "outputs": [
    {
     "data": {
      "text/html": [
       "<div>\n",
       "<style scoped>\n",
       "    .dataframe tbody tr th:only-of-type {\n",
       "        vertical-align: middle;\n",
       "    }\n",
       "\n",
       "    .dataframe tbody tr th {\n",
       "        vertical-align: top;\n",
       "    }\n",
       "\n",
       "    .dataframe thead th {\n",
       "        text-align: right;\n",
       "    }\n",
       "</style>\n",
       "<table border=\"1\" class=\"dataframe\">\n",
       "  <thead>\n",
       "    <tr style=\"text-align: right;\">\n",
       "      <th></th>\n",
       "      <th>category_list</th>\n",
       "      <th>main_sector</th>\n",
       "    </tr>\n",
       "  </thead>\n",
       "  <tbody>\n",
       "    <tr>\n",
       "      <th>0</th>\n",
       "      <td>NaN</td>\n",
       "      <td>Blanks</td>\n",
       "    </tr>\n",
       "    <tr>\n",
       "      <th>1</th>\n",
       "      <td>3D</td>\n",
       "      <td>Manufacturing</td>\n",
       "    </tr>\n",
       "    <tr>\n",
       "      <th>2</th>\n",
       "      <td>3D Printing</td>\n",
       "      <td>Manufacturing</td>\n",
       "    </tr>\n",
       "    <tr>\n",
       "      <th>3</th>\n",
       "      <td>3D Technology</td>\n",
       "      <td>Manufacturing</td>\n",
       "    </tr>\n",
       "    <tr>\n",
       "      <th>4</th>\n",
       "      <td>Accounting</td>\n",
       "      <td>Social, Finance, Analytics, Advertising</td>\n",
       "    </tr>\n",
       "    <tr>\n",
       "      <th>...</th>\n",
       "      <td>...</td>\n",
       "      <td>...</td>\n",
       "    </tr>\n",
       "    <tr>\n",
       "      <th>683</th>\n",
       "      <td>Wholesale</td>\n",
       "      <td>Others</td>\n",
       "    </tr>\n",
       "    <tr>\n",
       "      <th>684</th>\n",
       "      <td>Wine And Spirits</td>\n",
       "      <td>Entertainment</td>\n",
       "    </tr>\n",
       "    <tr>\n",
       "      <th>685</th>\n",
       "      <td>Wireless</td>\n",
       "      <td>Entertainment</td>\n",
       "    </tr>\n",
       "    <tr>\n",
       "      <th>686</th>\n",
       "      <td>Women</td>\n",
       "      <td>Others</td>\n",
       "    </tr>\n",
       "    <tr>\n",
       "      <th>687</th>\n",
       "      <td>Young Adults</td>\n",
       "      <td>Others</td>\n",
       "    </tr>\n",
       "  </tbody>\n",
       "</table>\n",
       "<p>688 rows × 2 columns</p>\n",
       "</div>"
      ],
      "text/plain": [
       "        category_list                              main_sector\n",
       "0                 NaN                                   Blanks\n",
       "1                  3D                            Manufacturing\n",
       "2         3D Printing                            Manufacturing\n",
       "3       3D Technology                            Manufacturing\n",
       "4          Accounting  Social, Finance, Analytics, Advertising\n",
       "..                ...                                      ...\n",
       "683         Wholesale                                   Others\n",
       "684  Wine And Spirits                            Entertainment\n",
       "685          Wireless                            Entertainment\n",
       "686             Women                                   Others\n",
       "687      Young Adults                                   Others\n",
       "\n",
       "[688 rows x 2 columns]"
      ]
     },
     "execution_count": 833,
     "metadata": {},
     "output_type": "execute_result"
    }
   ],
   "source": [
    "mappings_2"
   ]
  },
  {
   "cell_type": "markdown",
   "metadata": {},
   "source": [
    "#### Assuming we only want to focus on sectors which are in mappings.csv thereyby affording the lose to rounds2.csv on merge with mappings.csv, lets do an inner join"
   ]
  },
  {
   "cell_type": "code",
   "execution_count": 876,
   "metadata": {},
   "outputs": [],
   "source": [
    "master_frame_3 = pd.merge(master_frame_2, mappings_2, how='inner', left_on=['primary_sector'], right_on=['category_list'])"
   ]
  },
  {
   "cell_type": "code",
   "execution_count": 877,
   "metadata": {},
   "outputs": [
    {
     "data": {
      "text/html": [
       "<div>\n",
       "<style scoped>\n",
       "    .dataframe tbody tr th:only-of-type {\n",
       "        vertical-align: middle;\n",
       "    }\n",
       "\n",
       "    .dataframe tbody tr th {\n",
       "        vertical-align: top;\n",
       "    }\n",
       "\n",
       "    .dataframe thead th {\n",
       "        text-align: right;\n",
       "    }\n",
       "</style>\n",
       "<table border=\"1\" class=\"dataframe\">\n",
       "  <thead>\n",
       "    <tr style=\"text-align: right;\">\n",
       "      <th></th>\n",
       "      <th>company_permalink</th>\n",
       "      <th>funding_round_permalink</th>\n",
       "      <th>funding_round_type</th>\n",
       "      <th>funding_round_code</th>\n",
       "      <th>funded_at</th>\n",
       "      <th>raised_amount_usd</th>\n",
       "      <th>permalink</th>\n",
       "      <th>name</th>\n",
       "      <th>homepage_url</th>\n",
       "      <th>category_list_x</th>\n",
       "      <th>status</th>\n",
       "      <th>country_code</th>\n",
       "      <th>state_code</th>\n",
       "      <th>region</th>\n",
       "      <th>city</th>\n",
       "      <th>founded_at</th>\n",
       "      <th>primary_sector</th>\n",
       "      <th>category_list_y</th>\n",
       "      <th>main_sector</th>\n",
       "    </tr>\n",
       "  </thead>\n",
       "  <tbody>\n",
       "    <tr>\n",
       "      <th>0</th>\n",
       "      <td>/organization/-fame</td>\n",
       "      <td>/funding-round/9a01d05418af9f794eebff7ace91f638</td>\n",
       "      <td>venture</td>\n",
       "      <td>B</td>\n",
       "      <td>05-01-2015</td>\n",
       "      <td>10000000.00</td>\n",
       "      <td>/organization/-fame</td>\n",
       "      <td>#fame</td>\n",
       "      <td>http://livfame.com</td>\n",
       "      <td>Media</td>\n",
       "      <td>operating</td>\n",
       "      <td>IND</td>\n",
       "      <td>16</td>\n",
       "      <td>Mumbai</td>\n",
       "      <td>Mumbai</td>\n",
       "      <td>NaN</td>\n",
       "      <td>Media</td>\n",
       "      <td>Media</td>\n",
       "      <td>Entertainment</td>\n",
       "    </tr>\n",
       "    <tr>\n",
       "      <th>1</th>\n",
       "      <td>/organization/90min</td>\n",
       "      <td>/funding-round/21a2cbf6f2fb2a1c2a61e04bf930dfe6</td>\n",
       "      <td>venture</td>\n",
       "      <td>NaN</td>\n",
       "      <td>06-10-2015</td>\n",
       "      <td>15000000.00</td>\n",
       "      <td>/organization/90min</td>\n",
       "      <td>90min</td>\n",
       "      <td>http://www.90min.com</td>\n",
       "      <td>Media|News|Publishing|Soccer|Sports</td>\n",
       "      <td>operating</td>\n",
       "      <td>GBR</td>\n",
       "      <td>H9</td>\n",
       "      <td>London</td>\n",
       "      <td>London</td>\n",
       "      <td>01-01-2011</td>\n",
       "      <td>Media</td>\n",
       "      <td>Media</td>\n",
       "      <td>Entertainment</td>\n",
       "    </tr>\n",
       "    <tr>\n",
       "      <th>2</th>\n",
       "      <td>/organization/90min</td>\n",
       "      <td>/funding-round/bd626ed022f5c66574b1afe234f3c90d</td>\n",
       "      <td>venture</td>\n",
       "      <td>NaN</td>\n",
       "      <td>07-05-2013</td>\n",
       "      <td>5800000.00</td>\n",
       "      <td>/organization/90min</td>\n",
       "      <td>90min</td>\n",
       "      <td>http://www.90min.com</td>\n",
       "      <td>Media|News|Publishing|Soccer|Sports</td>\n",
       "      <td>operating</td>\n",
       "      <td>GBR</td>\n",
       "      <td>H9</td>\n",
       "      <td>London</td>\n",
       "      <td>London</td>\n",
       "      <td>01-01-2011</td>\n",
       "      <td>Media</td>\n",
       "      <td>Media</td>\n",
       "      <td>Entertainment</td>\n",
       "    </tr>\n",
       "    <tr>\n",
       "      <th>3</th>\n",
       "      <td>/organization/all-def-digital</td>\n",
       "      <td>/funding-round/452a2342fe720285c3b92e9bd927d9ba</td>\n",
       "      <td>venture</td>\n",
       "      <td>A</td>\n",
       "      <td>06-08-2014</td>\n",
       "      <td>5000000.00</td>\n",
       "      <td>/organization/all-def-digital</td>\n",
       "      <td>All Def Digital</td>\n",
       "      <td>http://alldefdigital.com</td>\n",
       "      <td>Media</td>\n",
       "      <td>operating</td>\n",
       "      <td>USA</td>\n",
       "      <td>CA</td>\n",
       "      <td>Los Angeles</td>\n",
       "      <td>Los Angeles</td>\n",
       "      <td>NaN</td>\n",
       "      <td>Media</td>\n",
       "      <td>Media</td>\n",
       "      <td>Entertainment</td>\n",
       "    </tr>\n",
       "    <tr>\n",
       "      <th>4</th>\n",
       "      <td>/organization/basel-switzerland</td>\n",
       "      <td>/funding-round/ae3c2e82851d1fd6f4ba59ee6d3f0eb2</td>\n",
       "      <td>venture</td>\n",
       "      <td>NaN</td>\n",
       "      <td>07-01-2002</td>\n",
       "      <td>13439178.00</td>\n",
       "      <td>/organization/basel-switzerland</td>\n",
       "      <td>The Speedel Group</td>\n",
       "      <td>http://www.speedelgroup.com/</td>\n",
       "      <td>Media</td>\n",
       "      <td>closed</td>\n",
       "      <td>CHE</td>\n",
       "      <td>4</td>\n",
       "      <td>Basel</td>\n",
       "      <td>Basel</td>\n",
       "      <td>NaN</td>\n",
       "      <td>Media</td>\n",
       "      <td>Media</td>\n",
       "      <td>Entertainment</td>\n",
       "    </tr>\n",
       "    <tr>\n",
       "      <th>...</th>\n",
       "      <td>...</td>\n",
       "      <td>...</td>\n",
       "      <td>...</td>\n",
       "      <td>...</td>\n",
       "      <td>...</td>\n",
       "      <td>...</td>\n",
       "      <td>...</td>\n",
       "      <td>...</td>\n",
       "      <td>...</td>\n",
       "      <td>...</td>\n",
       "      <td>...</td>\n",
       "      <td>...</td>\n",
       "      <td>...</td>\n",
       "      <td>...</td>\n",
       "      <td>...</td>\n",
       "      <td>...</td>\n",
       "      <td>...</td>\n",
       "      <td>...</td>\n",
       "      <td>...</td>\n",
       "    </tr>\n",
       "    <tr>\n",
       "      <th>16042</th>\n",
       "      <td>/organization/wishabi</td>\n",
       "      <td>/funding-round/b4252e94f10c55ff6ed566ef813f4d53</td>\n",
       "      <td>venture</td>\n",
       "      <td>B</td>\n",
       "      <td>05-09-2013</td>\n",
       "      <td>15000000.00</td>\n",
       "      <td>/organization/wishabi</td>\n",
       "      <td>Wishabi</td>\n",
       "      <td>http://www.wishabi.com</td>\n",
       "      <td>Comparison Shopping|Printing|Software</td>\n",
       "      <td>operating</td>\n",
       "      <td>CAN</td>\n",
       "      <td>ON</td>\n",
       "      <td>Toronto</td>\n",
       "      <td>Toronto</td>\n",
       "      <td>08-01-2008</td>\n",
       "      <td>Comparison Shopping</td>\n",
       "      <td>Comparison Shopping</td>\n",
       "      <td>News, Search and Messaging</td>\n",
       "    </tr>\n",
       "    <tr>\n",
       "      <th>16043</th>\n",
       "      <td>/organization/yapta</td>\n",
       "      <td>/funding-round/2bef2981d0db9747630882cc91e42ba5</td>\n",
       "      <td>venture</td>\n",
       "      <td>NaN</td>\n",
       "      <td>20-07-2011</td>\n",
       "      <td>5000000.00</td>\n",
       "      <td>/organization/yapta</td>\n",
       "      <td>Yapta</td>\n",
       "      <td>http://www.yapta.com</td>\n",
       "      <td>Tracking|Transportation|Travel</td>\n",
       "      <td>operating</td>\n",
       "      <td>USA</td>\n",
       "      <td>WA</td>\n",
       "      <td>Seattle</td>\n",
       "      <td>Seattle</td>\n",
       "      <td>01-07-2007</td>\n",
       "      <td>Tracking</td>\n",
       "      <td>Tracking</td>\n",
       "      <td>Others</td>\n",
       "    </tr>\n",
       "    <tr>\n",
       "      <th>16044</th>\n",
       "      <td>/organization/yoga-works</td>\n",
       "      <td>/funding-round/8092347fd1f3c15d711d89351154413f</td>\n",
       "      <td>venture</td>\n",
       "      <td>B</td>\n",
       "      <td>31-08-2007</td>\n",
       "      <td>13000000.00</td>\n",
       "      <td>/organization/yoga-works</td>\n",
       "      <td>Yoga Works</td>\n",
       "      <td>http://www.yogaworks.com</td>\n",
       "      <td>Exercise|Health and Wellness</td>\n",
       "      <td>acquired</td>\n",
       "      <td>USA</td>\n",
       "      <td>CA</td>\n",
       "      <td>Los Angeles</td>\n",
       "      <td>Santa Monica</td>\n",
       "      <td>01-01-1987</td>\n",
       "      <td>Exercise</td>\n",
       "      <td>Exercise</td>\n",
       "      <td>Health</td>\n",
       "    </tr>\n",
       "    <tr>\n",
       "      <th>16045</th>\n",
       "      <td>/organization/your-md</td>\n",
       "      <td>/funding-round/b71a34813b3c056fe24777638f560e5b</td>\n",
       "      <td>seed</td>\n",
       "      <td>NaN</td>\n",
       "      <td>01-07-2015</td>\n",
       "      <td>5000000.00</td>\n",
       "      <td>/organization/your-md</td>\n",
       "      <td>Your.MD</td>\n",
       "      <td>http://www.your.md</td>\n",
       "      <td>mHealth</td>\n",
       "      <td>operating</td>\n",
       "      <td>NOR</td>\n",
       "      <td>12</td>\n",
       "      <td>Oslo</td>\n",
       "      <td>Oslo</td>\n",
       "      <td>01-02-2013</td>\n",
       "      <td>mHealth</td>\n",
       "      <td>mHealth</td>\n",
       "      <td>Health</td>\n",
       "    </tr>\n",
       "    <tr>\n",
       "      <th>16046</th>\n",
       "      <td>/organization/yunnan-landsun-green-industry-gr...</td>\n",
       "      <td>/funding-round/83783f2b5911f41827bd6c72c1eee7fc</td>\n",
       "      <td>venture</td>\n",
       "      <td>NaN</td>\n",
       "      <td>01-07-2007</td>\n",
       "      <td>7227332.00</td>\n",
       "      <td>/organization/yunnan-landsun-green-industry-gr...</td>\n",
       "      <td>Yunnan Landsun Green Industry (Group)</td>\n",
       "      <td>http://www.lstea.tech-food.com/</td>\n",
       "      <td>Tea</td>\n",
       "      <td>operating</td>\n",
       "      <td>CHN</td>\n",
       "      <td>29</td>\n",
       "      <td>CHN - Other</td>\n",
       "      <td>Simao</td>\n",
       "      <td>01-05-1996</td>\n",
       "      <td>Tea</td>\n",
       "      <td>Tea</td>\n",
       "      <td>Others</td>\n",
       "    </tr>\n",
       "  </tbody>\n",
       "</table>\n",
       "<p>16047 rows × 19 columns</p>\n",
       "</div>"
      ],
      "text/plain": [
       "                                       company_permalink  \\\n",
       "0                                    /organization/-fame   \n",
       "1                                    /organization/90min   \n",
       "2                                    /organization/90min   \n",
       "3                          /organization/all-def-digital   \n",
       "4                        /organization/basel-switzerland   \n",
       "...                                                  ...   \n",
       "16042                              /organization/wishabi   \n",
       "16043                                /organization/yapta   \n",
       "16044                           /organization/yoga-works   \n",
       "16045                              /organization/your-md   \n",
       "16046  /organization/yunnan-landsun-green-industry-gr...   \n",
       "\n",
       "                               funding_round_permalink funding_round_type  \\\n",
       "0      /funding-round/9a01d05418af9f794eebff7ace91f638            venture   \n",
       "1      /funding-round/21a2cbf6f2fb2a1c2a61e04bf930dfe6            venture   \n",
       "2      /funding-round/bd626ed022f5c66574b1afe234f3c90d            venture   \n",
       "3      /funding-round/452a2342fe720285c3b92e9bd927d9ba            venture   \n",
       "4      /funding-round/ae3c2e82851d1fd6f4ba59ee6d3f0eb2            venture   \n",
       "...                                                ...                ...   \n",
       "16042  /funding-round/b4252e94f10c55ff6ed566ef813f4d53            venture   \n",
       "16043  /funding-round/2bef2981d0db9747630882cc91e42ba5            venture   \n",
       "16044  /funding-round/8092347fd1f3c15d711d89351154413f            venture   \n",
       "16045  /funding-round/b71a34813b3c056fe24777638f560e5b               seed   \n",
       "16046  /funding-round/83783f2b5911f41827bd6c72c1eee7fc            venture   \n",
       "\n",
       "      funding_round_code   funded_at  raised_amount_usd  \\\n",
       "0                      B  05-01-2015        10000000.00   \n",
       "1                    NaN  06-10-2015        15000000.00   \n",
       "2                    NaN  07-05-2013         5800000.00   \n",
       "3                      A  06-08-2014         5000000.00   \n",
       "4                    NaN  07-01-2002        13439178.00   \n",
       "...                  ...         ...                ...   \n",
       "16042                  B  05-09-2013        15000000.00   \n",
       "16043                NaN  20-07-2011         5000000.00   \n",
       "16044                  B  31-08-2007        13000000.00   \n",
       "16045                NaN  01-07-2015         5000000.00   \n",
       "16046                NaN  01-07-2007         7227332.00   \n",
       "\n",
       "                                               permalink  \\\n",
       "0                                    /organization/-fame   \n",
       "1                                    /organization/90min   \n",
       "2                                    /organization/90min   \n",
       "3                          /organization/all-def-digital   \n",
       "4                        /organization/basel-switzerland   \n",
       "...                                                  ...   \n",
       "16042                              /organization/wishabi   \n",
       "16043                                /organization/yapta   \n",
       "16044                           /organization/yoga-works   \n",
       "16045                              /organization/your-md   \n",
       "16046  /organization/yunnan-landsun-green-industry-gr...   \n",
       "\n",
       "                                        name                     homepage_url  \\\n",
       "0                                      #fame               http://livfame.com   \n",
       "1                                      90min             http://www.90min.com   \n",
       "2                                      90min             http://www.90min.com   \n",
       "3                            All Def Digital         http://alldefdigital.com   \n",
       "4                          The Speedel Group     http://www.speedelgroup.com/   \n",
       "...                                      ...                              ...   \n",
       "16042                                Wishabi           http://www.wishabi.com   \n",
       "16043                                  Yapta             http://www.yapta.com   \n",
       "16044                             Yoga Works         http://www.yogaworks.com   \n",
       "16045                                Your.MD               http://www.your.md   \n",
       "16046  Yunnan Landsun Green Industry (Group)  http://www.lstea.tech-food.com/   \n",
       "\n",
       "                             category_list_x     status country_code  \\\n",
       "0                                      Media  operating          IND   \n",
       "1        Media|News|Publishing|Soccer|Sports  operating          GBR   \n",
       "2        Media|News|Publishing|Soccer|Sports  operating          GBR   \n",
       "3                                      Media  operating          USA   \n",
       "4                                      Media     closed          CHE   \n",
       "...                                      ...        ...          ...   \n",
       "16042  Comparison Shopping|Printing|Software  operating          CAN   \n",
       "16043         Tracking|Transportation|Travel  operating          USA   \n",
       "16044           Exercise|Health and Wellness   acquired          USA   \n",
       "16045                                mHealth  operating          NOR   \n",
       "16046                                    Tea  operating          CHN   \n",
       "\n",
       "      state_code       region          city  founded_at       primary_sector  \\\n",
       "0             16       Mumbai        Mumbai         NaN                Media   \n",
       "1             H9       London        London  01-01-2011                Media   \n",
       "2             H9       London        London  01-01-2011                Media   \n",
       "3             CA  Los Angeles   Los Angeles         NaN                Media   \n",
       "4              4        Basel         Basel         NaN                Media   \n",
       "...          ...          ...           ...         ...                  ...   \n",
       "16042         ON      Toronto       Toronto  08-01-2008  Comparison Shopping   \n",
       "16043         WA      Seattle       Seattle  01-07-2007             Tracking   \n",
       "16044         CA  Los Angeles  Santa Monica  01-01-1987             Exercise   \n",
       "16045         12         Oslo          Oslo  01-02-2013              mHealth   \n",
       "16046         29  CHN - Other         Simao  01-05-1996                  Tea   \n",
       "\n",
       "           category_list_y                 main_sector  \n",
       "0                    Media               Entertainment  \n",
       "1                    Media               Entertainment  \n",
       "2                    Media               Entertainment  \n",
       "3                    Media               Entertainment  \n",
       "4                    Media               Entertainment  \n",
       "...                    ...                         ...  \n",
       "16042  Comparison Shopping  News, Search and Messaging  \n",
       "16043             Tracking                      Others  \n",
       "16044             Exercise                      Health  \n",
       "16045              mHealth                      Health  \n",
       "16046                  Tea                      Others  \n",
       "\n",
       "[16047 rows x 19 columns]"
      ]
     },
     "execution_count": 877,
     "metadata": {},
     "output_type": "execute_result"
    }
   ],
   "source": [
    "master_frame_3"
   ]
  },
  {
   "cell_type": "markdown",
   "metadata": {},
   "source": [
    "__*Since category_list_y came from mappings and will hold same value as primary_sector, let's drop it*__"
   ]
  },
  {
   "cell_type": "code",
   "execution_count": 878,
   "metadata": {},
   "outputs": [],
   "source": [
    "master_frame_3 = master_frame_3.drop(['category_list_y'], axis=1)"
   ]
  },
  {
   "cell_type": "markdown",
   "metadata": {},
   "source": [
    "__also lets rename category_list_x to category_list__"
   ]
  },
  {
   "cell_type": "code",
   "execution_count": 879,
   "metadata": {},
   "outputs": [],
   "source": [
    "master_frame_3 = master_frame_3.rename(columns={'category_list_x':'category_list'})"
   ]
  },
  {
   "cell_type": "code",
   "execution_count": 880,
   "metadata": {},
   "outputs": [],
   "source": [
    "D1 = master_frame_3.loc[(master_frame_3.country_code==country_1) \n",
    "                 & (master_frame_3.raised_amount_usd/1000000 <= 15)\n",
    "                 & (master_frame_3.raised_amount_usd/1000000 >= 5)\n",
    "                & (master_frame_3.funding_round_type==chosen_investment_type)]"
   ]
  },
  {
   "cell_type": "code",
   "execution_count": 886,
   "metadata": {},
   "outputs": [
    {
     "data": {
      "text/html": [
       "<div>\n",
       "<style scoped>\n",
       "    .dataframe tbody tr th:only-of-type {\n",
       "        vertical-align: middle;\n",
       "    }\n",
       "\n",
       "    .dataframe tbody tr th {\n",
       "        vertical-align: top;\n",
       "    }\n",
       "\n",
       "    .dataframe thead th {\n",
       "        text-align: right;\n",
       "    }\n",
       "</style>\n",
       "<table border=\"1\" class=\"dataframe\">\n",
       "  <thead>\n",
       "    <tr style=\"text-align: right;\">\n",
       "      <th></th>\n",
       "      <th>company_permalink</th>\n",
       "      <th>funding_round_permalink</th>\n",
       "      <th>funding_round_type</th>\n",
       "      <th>funding_round_code</th>\n",
       "      <th>funded_at</th>\n",
       "      <th>raised_amount_usd</th>\n",
       "      <th>permalink</th>\n",
       "      <th>name</th>\n",
       "      <th>homepage_url</th>\n",
       "      <th>category_list</th>\n",
       "      <th>status</th>\n",
       "      <th>country_code</th>\n",
       "      <th>state_code</th>\n",
       "      <th>region</th>\n",
       "      <th>city</th>\n",
       "      <th>founded_at</th>\n",
       "      <th>primary_sector</th>\n",
       "      <th>main_sector</th>\n",
       "    </tr>\n",
       "  </thead>\n",
       "  <tbody>\n",
       "    <tr>\n",
       "      <th>3</th>\n",
       "      <td>/organization/all-def-digital</td>\n",
       "      <td>/funding-round/452a2342fe720285c3b92e9bd927d9ba</td>\n",
       "      <td>venture</td>\n",
       "      <td>A</td>\n",
       "      <td>06-08-2014</td>\n",
       "      <td>5000000.00</td>\n",
       "      <td>/organization/all-def-digital</td>\n",
       "      <td>All Def Digital</td>\n",
       "      <td>http://alldefdigital.com</td>\n",
       "      <td>Media</td>\n",
       "      <td>operating</td>\n",
       "      <td>USA</td>\n",
       "      <td>CA</td>\n",
       "      <td>Los Angeles</td>\n",
       "      <td>Los Angeles</td>\n",
       "      <td>NaN</td>\n",
       "      <td>Media</td>\n",
       "      <td>Entertainment</td>\n",
       "    </tr>\n",
       "    <tr>\n",
       "      <th>5</th>\n",
       "      <td>/organization/chefs-feed</td>\n",
       "      <td>/funding-round/adca195749ae9ace84684723fbe75e5b</td>\n",
       "      <td>venture</td>\n",
       "      <td>A</td>\n",
       "      <td>26-02-2015</td>\n",
       "      <td>5000000.00</td>\n",
       "      <td>/organization/chefs-feed</td>\n",
       "      <td>ChefsFeed</td>\n",
       "      <td>http://www.chefsfeed.com</td>\n",
       "      <td>Media|Mobile|Restaurants|Technology</td>\n",
       "      <td>operating</td>\n",
       "      <td>USA</td>\n",
       "      <td>CA</td>\n",
       "      <td>SF Bay Area</td>\n",
       "      <td>San Francisco</td>\n",
       "      <td>01-01-2012</td>\n",
       "      <td>Media</td>\n",
       "      <td>Entertainment</td>\n",
       "    </tr>\n",
       "    <tr>\n",
       "      <th>6</th>\n",
       "      <td>/organization/huffingtonpost</td>\n",
       "      <td>/funding-round/7f05940c4d2dfecb8e50a0e5720e5065</td>\n",
       "      <td>venture</td>\n",
       "      <td>A</td>\n",
       "      <td>01-08-2006</td>\n",
       "      <td>5000000.00</td>\n",
       "      <td>/organization/huffingtonpost</td>\n",
       "      <td>The Huffington Post</td>\n",
       "      <td>http://www.huffingtonpost.com</td>\n",
       "      <td>Media|News|Publishing</td>\n",
       "      <td>acquired</td>\n",
       "      <td>USA</td>\n",
       "      <td>NY</td>\n",
       "      <td>New York City</td>\n",
       "      <td>New York</td>\n",
       "      <td>09-05-2005</td>\n",
       "      <td>Media</td>\n",
       "      <td>Entertainment</td>\n",
       "    </tr>\n",
       "    <tr>\n",
       "      <th>7</th>\n",
       "      <td>/organization/huffingtonpost</td>\n",
       "      <td>/funding-round/9241ae16e08df17ebdc064e49e23035a</td>\n",
       "      <td>venture</td>\n",
       "      <td>B</td>\n",
       "      <td>01-09-2007</td>\n",
       "      <td>5000000.00</td>\n",
       "      <td>/organization/huffingtonpost</td>\n",
       "      <td>The Huffington Post</td>\n",
       "      <td>http://www.huffingtonpost.com</td>\n",
       "      <td>Media|News|Publishing</td>\n",
       "      <td>acquired</td>\n",
       "      <td>USA</td>\n",
       "      <td>NY</td>\n",
       "      <td>New York City</td>\n",
       "      <td>New York</td>\n",
       "      <td>09-05-2005</td>\n",
       "      <td>Media</td>\n",
       "      <td>Entertainment</td>\n",
       "    </tr>\n",
       "    <tr>\n",
       "      <th>8</th>\n",
       "      <td>/organization/matchmine</td>\n",
       "      <td>/funding-round/41ac526630da57ad6eb9d02431b17657</td>\n",
       "      <td>venture</td>\n",
       "      <td>A</td>\n",
       "      <td>01-09-2007</td>\n",
       "      <td>10000000.00</td>\n",
       "      <td>/organization/matchmine</td>\n",
       "      <td>MatchMine</td>\n",
       "      <td>http://matchmine.com</td>\n",
       "      <td>Media|News|Reviews and Recommendations</td>\n",
       "      <td>closed</td>\n",
       "      <td>USA</td>\n",
       "      <td>MA</td>\n",
       "      <td>Boston</td>\n",
       "      <td>Needham</td>\n",
       "      <td>01-01-2007</td>\n",
       "      <td>Media</td>\n",
       "      <td>Entertainment</td>\n",
       "    </tr>\n",
       "  </tbody>\n",
       "</table>\n",
       "</div>"
      ],
      "text/plain": [
       "               company_permalink  \\\n",
       "3  /organization/all-def-digital   \n",
       "5       /organization/chefs-feed   \n",
       "6   /organization/huffingtonpost   \n",
       "7   /organization/huffingtonpost   \n",
       "8        /organization/matchmine   \n",
       "\n",
       "                           funding_round_permalink funding_round_type  \\\n",
       "3  /funding-round/452a2342fe720285c3b92e9bd927d9ba            venture   \n",
       "5  /funding-round/adca195749ae9ace84684723fbe75e5b            venture   \n",
       "6  /funding-round/7f05940c4d2dfecb8e50a0e5720e5065            venture   \n",
       "7  /funding-round/9241ae16e08df17ebdc064e49e23035a            venture   \n",
       "8  /funding-round/41ac526630da57ad6eb9d02431b17657            venture   \n",
       "\n",
       "  funding_round_code   funded_at  raised_amount_usd  \\\n",
       "3                  A  06-08-2014         5000000.00   \n",
       "5                  A  26-02-2015         5000000.00   \n",
       "6                  A  01-08-2006         5000000.00   \n",
       "7                  B  01-09-2007         5000000.00   \n",
       "8                  A  01-09-2007        10000000.00   \n",
       "\n",
       "                       permalink                 name  \\\n",
       "3  /organization/all-def-digital      All Def Digital   \n",
       "5       /organization/chefs-feed            ChefsFeed   \n",
       "6   /organization/huffingtonpost  The Huffington Post   \n",
       "7   /organization/huffingtonpost  The Huffington Post   \n",
       "8        /organization/matchmine            MatchMine   \n",
       "\n",
       "                    homepage_url                           category_list  \\\n",
       "3       http://alldefdigital.com                                   Media   \n",
       "5       http://www.chefsfeed.com     Media|Mobile|Restaurants|Technology   \n",
       "6  http://www.huffingtonpost.com                   Media|News|Publishing   \n",
       "7  http://www.huffingtonpost.com                   Media|News|Publishing   \n",
       "8           http://matchmine.com  Media|News|Reviews and Recommendations   \n",
       "\n",
       "      status country_code state_code         region           city  \\\n",
       "3  operating          USA         CA    Los Angeles    Los Angeles   \n",
       "5  operating          USA         CA    SF Bay Area  San Francisco   \n",
       "6   acquired          USA         NY  New York City       New York   \n",
       "7   acquired          USA         NY  New York City       New York   \n",
       "8     closed          USA         MA         Boston        Needham   \n",
       "\n",
       "   founded_at primary_sector    main_sector  \n",
       "3         NaN          Media  Entertainment  \n",
       "5  01-01-2012          Media  Entertainment  \n",
       "6  09-05-2005          Media  Entertainment  \n",
       "7  09-05-2005          Media  Entertainment  \n",
       "8  01-01-2007          Media  Entertainment  "
      ]
     },
     "execution_count": 886,
     "metadata": {},
     "output_type": "execute_result"
    }
   ],
   "source": [
    "D1.head()"
   ]
  },
  {
   "cell_type": "code",
   "execution_count": 882,
   "metadata": {},
   "outputs": [],
   "source": [
    "D2 = master_frame_3.loc[(master_frame_3.country_code==country_2) \n",
    "                 & (master_frame_3.raised_amount_usd/1000000 <= 15)\n",
    "                 & (master_frame_3.raised_amount_usd/1000000 >= 5)\n",
    "                & (master_frame_3.funding_round_type==chosen_investment_type)]"
   ]
  },
  {
   "cell_type": "code",
   "execution_count": 887,
   "metadata": {},
   "outputs": [
    {
     "data": {
      "text/html": [
       "<div>\n",
       "<style scoped>\n",
       "    .dataframe tbody tr th:only-of-type {\n",
       "        vertical-align: middle;\n",
       "    }\n",
       "\n",
       "    .dataframe tbody tr th {\n",
       "        vertical-align: top;\n",
       "    }\n",
       "\n",
       "    .dataframe thead th {\n",
       "        text-align: right;\n",
       "    }\n",
       "</style>\n",
       "<table border=\"1\" class=\"dataframe\">\n",
       "  <thead>\n",
       "    <tr style=\"text-align: right;\">\n",
       "      <th></th>\n",
       "      <th>company_permalink</th>\n",
       "      <th>funding_round_permalink</th>\n",
       "      <th>funding_round_type</th>\n",
       "      <th>funding_round_code</th>\n",
       "      <th>funded_at</th>\n",
       "      <th>raised_amount_usd</th>\n",
       "      <th>permalink</th>\n",
       "      <th>name</th>\n",
       "      <th>homepage_url</th>\n",
       "      <th>category_list</th>\n",
       "      <th>status</th>\n",
       "      <th>country_code</th>\n",
       "      <th>state_code</th>\n",
       "      <th>region</th>\n",
       "      <th>city</th>\n",
       "      <th>founded_at</th>\n",
       "      <th>primary_sector</th>\n",
       "      <th>main_sector</th>\n",
       "    </tr>\n",
       "  </thead>\n",
       "  <tbody>\n",
       "    <tr>\n",
       "      <th>1</th>\n",
       "      <td>/organization/90min</td>\n",
       "      <td>/funding-round/21a2cbf6f2fb2a1c2a61e04bf930dfe6</td>\n",
       "      <td>venture</td>\n",
       "      <td>NaN</td>\n",
       "      <td>06-10-2015</td>\n",
       "      <td>15000000.00</td>\n",
       "      <td>/organization/90min</td>\n",
       "      <td>90min</td>\n",
       "      <td>http://www.90min.com</td>\n",
       "      <td>Media|News|Publishing|Soccer|Sports</td>\n",
       "      <td>operating</td>\n",
       "      <td>GBR</td>\n",
       "      <td>H9</td>\n",
       "      <td>London</td>\n",
       "      <td>London</td>\n",
       "      <td>01-01-2011</td>\n",
       "      <td>Media</td>\n",
       "      <td>Entertainment</td>\n",
       "    </tr>\n",
       "    <tr>\n",
       "      <th>2</th>\n",
       "      <td>/organization/90min</td>\n",
       "      <td>/funding-round/bd626ed022f5c66574b1afe234f3c90d</td>\n",
       "      <td>venture</td>\n",
       "      <td>NaN</td>\n",
       "      <td>07-05-2013</td>\n",
       "      <td>5800000.00</td>\n",
       "      <td>/organization/90min</td>\n",
       "      <td>90min</td>\n",
       "      <td>http://www.90min.com</td>\n",
       "      <td>Media|News|Publishing|Soccer|Sports</td>\n",
       "      <td>operating</td>\n",
       "      <td>GBR</td>\n",
       "      <td>H9</td>\n",
       "      <td>London</td>\n",
       "      <td>London</td>\n",
       "      <td>01-01-2011</td>\n",
       "      <td>Media</td>\n",
       "      <td>Entertainment</td>\n",
       "    </tr>\n",
       "    <tr>\n",
       "      <th>92</th>\n",
       "      <td>/organization/flypay</td>\n",
       "      <td>/funding-round/b6854cc7fc06ea76843ec89801f172f2</td>\n",
       "      <td>venture</td>\n",
       "      <td>A</td>\n",
       "      <td>16-07-2015</td>\n",
       "      <td>10700000.00</td>\n",
       "      <td>/organization/flypay</td>\n",
       "      <td>Flypay</td>\n",
       "      <td>http://www.flypay.co.uk</td>\n",
       "      <td>Apps|Customer Service|Restaurants</td>\n",
       "      <td>operating</td>\n",
       "      <td>GBR</td>\n",
       "      <td>H9</td>\n",
       "      <td>London</td>\n",
       "      <td>London</td>\n",
       "      <td>26-02-2013</td>\n",
       "      <td>Apps</td>\n",
       "      <td>News, Search and Messaging</td>\n",
       "    </tr>\n",
       "    <tr>\n",
       "      <th>120</th>\n",
       "      <td>/organization/kaazing</td>\n",
       "      <td>/funding-round/0f43f5fbe8b360281ba135c717e47e0d</td>\n",
       "      <td>venture</td>\n",
       "      <td>NaN</td>\n",
       "      <td>17-04-2013</td>\n",
       "      <td>15000000.00</td>\n",
       "      <td>/organization/kaazing</td>\n",
       "      <td>Kaazing</td>\n",
       "      <td>http://www.kaazing.com</td>\n",
       "      <td>Apps|Data Integration|Enterprise Software|Info...</td>\n",
       "      <td>operating</td>\n",
       "      <td>GBR</td>\n",
       "      <td>H9</td>\n",
       "      <td>London</td>\n",
       "      <td>London</td>\n",
       "      <td>01-05-2007</td>\n",
       "      <td>Apps</td>\n",
       "      <td>News, Search and Messaging</td>\n",
       "    </tr>\n",
       "    <tr>\n",
       "      <th>125</th>\n",
       "      <td>/organization/mindshapes</td>\n",
       "      <td>/funding-round/ad81de5d230ca4ef1876e1c71bf097e3</td>\n",
       "      <td>venture</td>\n",
       "      <td>A</td>\n",
       "      <td>01-11-2011</td>\n",
       "      <td>5000000.00</td>\n",
       "      <td>/organization/mindshapes</td>\n",
       "      <td>Mindshapes</td>\n",
       "      <td>http://mindshapes.com</td>\n",
       "      <td>Apps|Education|Games|Kids|Textbooks|Virtual Wo...</td>\n",
       "      <td>operating</td>\n",
       "      <td>GBR</td>\n",
       "      <td>H9</td>\n",
       "      <td>London</td>\n",
       "      <td>London</td>\n",
       "      <td>01-01-2010</td>\n",
       "      <td>Apps</td>\n",
       "      <td>News, Search and Messaging</td>\n",
       "    </tr>\n",
       "  </tbody>\n",
       "</table>\n",
       "</div>"
      ],
      "text/plain": [
       "            company_permalink  \\\n",
       "1         /organization/90min   \n",
       "2         /organization/90min   \n",
       "92       /organization/flypay   \n",
       "120     /organization/kaazing   \n",
       "125  /organization/mindshapes   \n",
       "\n",
       "                             funding_round_permalink funding_round_type  \\\n",
       "1    /funding-round/21a2cbf6f2fb2a1c2a61e04bf930dfe6            venture   \n",
       "2    /funding-round/bd626ed022f5c66574b1afe234f3c90d            venture   \n",
       "92   /funding-round/b6854cc7fc06ea76843ec89801f172f2            venture   \n",
       "120  /funding-round/0f43f5fbe8b360281ba135c717e47e0d            venture   \n",
       "125  /funding-round/ad81de5d230ca4ef1876e1c71bf097e3            venture   \n",
       "\n",
       "    funding_round_code   funded_at  raised_amount_usd  \\\n",
       "1                  NaN  06-10-2015        15000000.00   \n",
       "2                  NaN  07-05-2013         5800000.00   \n",
       "92                   A  16-07-2015        10700000.00   \n",
       "120                NaN  17-04-2013        15000000.00   \n",
       "125                  A  01-11-2011         5000000.00   \n",
       "\n",
       "                    permalink        name             homepage_url  \\\n",
       "1         /organization/90min       90min     http://www.90min.com   \n",
       "2         /organization/90min       90min     http://www.90min.com   \n",
       "92       /organization/flypay      Flypay  http://www.flypay.co.uk   \n",
       "120     /organization/kaazing     Kaazing   http://www.kaazing.com   \n",
       "125  /organization/mindshapes  Mindshapes    http://mindshapes.com   \n",
       "\n",
       "                                         category_list     status  \\\n",
       "1                  Media|News|Publishing|Soccer|Sports  operating   \n",
       "2                  Media|News|Publishing|Soccer|Sports  operating   \n",
       "92                   Apps|Customer Service|Restaurants  operating   \n",
       "120  Apps|Data Integration|Enterprise Software|Info...  operating   \n",
       "125  Apps|Education|Games|Kids|Textbooks|Virtual Wo...  operating   \n",
       "\n",
       "    country_code state_code  region    city  founded_at primary_sector  \\\n",
       "1            GBR         H9  London  London  01-01-2011          Media   \n",
       "2            GBR         H9  London  London  01-01-2011          Media   \n",
       "92           GBR         H9  London  London  26-02-2013           Apps   \n",
       "120          GBR         H9  London  London  01-05-2007           Apps   \n",
       "125          GBR         H9  London  London  01-01-2010           Apps   \n",
       "\n",
       "                    main_sector  \n",
       "1                 Entertainment  \n",
       "2                 Entertainment  \n",
       "92   News, Search and Messaging  \n",
       "120  News, Search and Messaging  \n",
       "125  News, Search and Messaging  "
      ]
     },
     "execution_count": 887,
     "metadata": {},
     "output_type": "execute_result"
    }
   ],
   "source": [
    "D2.head()"
   ]
  },
  {
   "cell_type": "code",
   "execution_count": 884,
   "metadata": {},
   "outputs": [],
   "source": [
    "D3 = master_frame_3.loc[(master_frame_3.country_code==country_3) \n",
    "                 & (master_frame_3.raised_amount_usd/1000000 <= 15)\n",
    "                 & (master_frame_3.raised_amount_usd/1000000 >= 5)\n",
    "                & (master_frame_3.funding_round_type==chosen_investment_type)]"
   ]
  },
  {
   "cell_type": "code",
   "execution_count": 888,
   "metadata": {},
   "outputs": [
    {
     "data": {
      "text/html": [
       "<div>\n",
       "<style scoped>\n",
       "    .dataframe tbody tr th:only-of-type {\n",
       "        vertical-align: middle;\n",
       "    }\n",
       "\n",
       "    .dataframe tbody tr th {\n",
       "        vertical-align: top;\n",
       "    }\n",
       "\n",
       "    .dataframe thead th {\n",
       "        text-align: right;\n",
       "    }\n",
       "</style>\n",
       "<table border=\"1\" class=\"dataframe\">\n",
       "  <thead>\n",
       "    <tr style=\"text-align: right;\">\n",
       "      <th></th>\n",
       "      <th>company_permalink</th>\n",
       "      <th>funding_round_permalink</th>\n",
       "      <th>funding_round_type</th>\n",
       "      <th>funding_round_code</th>\n",
       "      <th>funded_at</th>\n",
       "      <th>raised_amount_usd</th>\n",
       "      <th>permalink</th>\n",
       "      <th>name</th>\n",
       "      <th>homepage_url</th>\n",
       "      <th>category_list</th>\n",
       "      <th>status</th>\n",
       "      <th>country_code</th>\n",
       "      <th>state_code</th>\n",
       "      <th>region</th>\n",
       "      <th>city</th>\n",
       "      <th>founded_at</th>\n",
       "      <th>primary_sector</th>\n",
       "      <th>main_sector</th>\n",
       "    </tr>\n",
       "  </thead>\n",
       "  <tbody>\n",
       "    <tr>\n",
       "      <th>33</th>\n",
       "      <td>/organization/500px</td>\n",
       "      <td>/funding-round/344b1e2b60ff76f4548c69ea7c04901f</td>\n",
       "      <td>venture</td>\n",
       "      <td>A</td>\n",
       "      <td>07-08-2013</td>\n",
       "      <td>8800000.00</td>\n",
       "      <td>/organization/500px</td>\n",
       "      <td>500px</td>\n",
       "      <td>http://500px.com</td>\n",
       "      <td>Apps|Internet|Photography|Promotional|Sales an...</td>\n",
       "      <td>operating</td>\n",
       "      <td>CAN</td>\n",
       "      <td>ON</td>\n",
       "      <td>Toronto</td>\n",
       "      <td>Toronto</td>\n",
       "      <td>01-10-2009</td>\n",
       "      <td>Apps</td>\n",
       "      <td>News, Search and Messaging</td>\n",
       "    </tr>\n",
       "    <tr>\n",
       "      <th>34</th>\n",
       "      <td>/organization/500px</td>\n",
       "      <td>/funding-round/36b2c6975d20b602b5d9ea9724e383ea</td>\n",
       "      <td>venture</td>\n",
       "      <td>B</td>\n",
       "      <td>21-07-2015</td>\n",
       "      <td>13000000.00</td>\n",
       "      <td>/organization/500px</td>\n",
       "      <td>500px</td>\n",
       "      <td>http://500px.com</td>\n",
       "      <td>Apps|Internet|Photography|Promotional|Sales an...</td>\n",
       "      <td>operating</td>\n",
       "      <td>CAN</td>\n",
       "      <td>ON</td>\n",
       "      <td>Toronto</td>\n",
       "      <td>Toronto</td>\n",
       "      <td>01-10-2009</td>\n",
       "      <td>Apps</td>\n",
       "      <td>News, Search and Messaging</td>\n",
       "    </tr>\n",
       "    <tr>\n",
       "      <th>150</th>\n",
       "      <td>/organization/polar-me</td>\n",
       "      <td>/funding-round/8306cc4e0122a91a0803cb5755be62e0</td>\n",
       "      <td>venture</td>\n",
       "      <td>NaN</td>\n",
       "      <td>23-01-2012</td>\n",
       "      <td>6000000.00</td>\n",
       "      <td>/organization/polar-me</td>\n",
       "      <td>Polar</td>\n",
       "      <td>http://www.polar.me</td>\n",
       "      <td>Apps|Mobile|Software</td>\n",
       "      <td>operating</td>\n",
       "      <td>CAN</td>\n",
       "      <td>ON</td>\n",
       "      <td>Toronto</td>\n",
       "      <td>Toronto</td>\n",
       "      <td>01-11-2007</td>\n",
       "      <td>Apps</td>\n",
       "      <td>News, Search and Messaging</td>\n",
       "    </tr>\n",
       "    <tr>\n",
       "      <th>289</th>\n",
       "      <td>/organization/execution-labs</td>\n",
       "      <td>/funding-round/2e2a592b08cdbd58d39f656d57eccd7b</td>\n",
       "      <td>venture</td>\n",
       "      <td>A</td>\n",
       "      <td>10-11-2014</td>\n",
       "      <td>5300000.00</td>\n",
       "      <td>/organization/execution-labs</td>\n",
       "      <td>Execution Labs</td>\n",
       "      <td>http://executionlabs.com</td>\n",
       "      <td>Games|Incubators</td>\n",
       "      <td>operating</td>\n",
       "      <td>CAN</td>\n",
       "      <td>QC</td>\n",
       "      <td>Quebec City</td>\n",
       "      <td>Quebec</td>\n",
       "      <td>01-01-2012</td>\n",
       "      <td>Games</td>\n",
       "      <td>Entertainment</td>\n",
       "    </tr>\n",
       "    <tr>\n",
       "      <th>315</th>\n",
       "      <td>/organization/gamerizon-studio</td>\n",
       "      <td>/funding-round/6d7257c70e677a29b56cc9b0d1ba03ec</td>\n",
       "      <td>venture</td>\n",
       "      <td>NaN</td>\n",
       "      <td>15-09-2011</td>\n",
       "      <td>5000000.00</td>\n",
       "      <td>/organization/gamerizon-studio</td>\n",
       "      <td>Gamerizon Studio</td>\n",
       "      <td>http://gamerizon.com</td>\n",
       "      <td>Games</td>\n",
       "      <td>closed</td>\n",
       "      <td>CAN</td>\n",
       "      <td>QC</td>\n",
       "      <td>Montreal</td>\n",
       "      <td>MontrÃ©al</td>\n",
       "      <td>NaN</td>\n",
       "      <td>Games</td>\n",
       "      <td>Entertainment</td>\n",
       "    </tr>\n",
       "  </tbody>\n",
       "</table>\n",
       "</div>"
      ],
      "text/plain": [
       "                  company_permalink  \\\n",
       "33              /organization/500px   \n",
       "34              /organization/500px   \n",
       "150          /organization/polar-me   \n",
       "289    /organization/execution-labs   \n",
       "315  /organization/gamerizon-studio   \n",
       "\n",
       "                             funding_round_permalink funding_round_type  \\\n",
       "33   /funding-round/344b1e2b60ff76f4548c69ea7c04901f            venture   \n",
       "34   /funding-round/36b2c6975d20b602b5d9ea9724e383ea            venture   \n",
       "150  /funding-round/8306cc4e0122a91a0803cb5755be62e0            venture   \n",
       "289  /funding-round/2e2a592b08cdbd58d39f656d57eccd7b            venture   \n",
       "315  /funding-round/6d7257c70e677a29b56cc9b0d1ba03ec            venture   \n",
       "\n",
       "    funding_round_code   funded_at  raised_amount_usd  \\\n",
       "33                   A  07-08-2013         8800000.00   \n",
       "34                   B  21-07-2015        13000000.00   \n",
       "150                NaN  23-01-2012         6000000.00   \n",
       "289                  A  10-11-2014         5300000.00   \n",
       "315                NaN  15-09-2011         5000000.00   \n",
       "\n",
       "                          permalink              name  \\\n",
       "33              /organization/500px             500px   \n",
       "34              /organization/500px             500px   \n",
       "150          /organization/polar-me             Polar   \n",
       "289    /organization/execution-labs    Execution Labs   \n",
       "315  /organization/gamerizon-studio  Gamerizon Studio   \n",
       "\n",
       "                 homepage_url  \\\n",
       "33           http://500px.com   \n",
       "34           http://500px.com   \n",
       "150       http://www.polar.me   \n",
       "289  http://executionlabs.com   \n",
       "315      http://gamerizon.com   \n",
       "\n",
       "                                         category_list     status  \\\n",
       "33   Apps|Internet|Photography|Promotional|Sales an...  operating   \n",
       "34   Apps|Internet|Photography|Promotional|Sales an...  operating   \n",
       "150                               Apps|Mobile|Software  operating   \n",
       "289                                   Games|Incubators  operating   \n",
       "315                                              Games     closed   \n",
       "\n",
       "    country_code state_code       region       city  founded_at  \\\n",
       "33           CAN         ON      Toronto    Toronto  01-10-2009   \n",
       "34           CAN         ON      Toronto    Toronto  01-10-2009   \n",
       "150          CAN         ON      Toronto    Toronto  01-11-2007   \n",
       "289          CAN         QC  Quebec City     Quebec  01-01-2012   \n",
       "315          CAN         QC     Montreal  MontrÃ©al         NaN   \n",
       "\n",
       "    primary_sector                 main_sector  \n",
       "33            Apps  News, Search and Messaging  \n",
       "34            Apps  News, Search and Messaging  \n",
       "150           Apps  News, Search and Messaging  \n",
       "289          Games               Entertainment  \n",
       "315          Games               Entertainment  "
      ]
     },
     "execution_count": 888,
     "metadata": {},
     "output_type": "execute_result"
    }
   ],
   "source": [
    "D3.head()"
   ]
  },
  {
   "cell_type": "markdown",
   "metadata": {},
   "source": [
    "#### creating summary metrics for D1 - later on merge with D1 itself"
   ]
  },
  {
   "cell_type": "code",
   "execution_count": 889,
   "metadata": {},
   "outputs": [],
   "source": [
    "D1_summary_metric = D1.loc[:,['funding_round_permalink','main_sector']].groupby('main_sector').count()"
   ]
  },
  {
   "cell_type": "code",
   "execution_count": 890,
   "metadata": {
    "scrolled": true
   },
   "outputs": [],
   "source": [
    "D1_summary_metric=D1_summary_metric.rename(columns={'funding_round_permalink':'total_number'})"
   ]
  },
  {
   "cell_type": "code",
   "execution_count": 891,
   "metadata": {},
   "outputs": [],
   "source": [
    "D1_summary_metric['total_amount_mn'] = D1.loc[:,['main_sector','raised_amount_usd']].groupby('main_sector').sum()/1000000.0"
   ]
  },
  {
   "cell_type": "code",
   "execution_count": 892,
   "metadata": {},
   "outputs": [
    {
     "data": {
      "text/html": [
       "<div>\n",
       "<style scoped>\n",
       "    .dataframe tbody tr th:only-of-type {\n",
       "        vertical-align: middle;\n",
       "    }\n",
       "\n",
       "    .dataframe tbody tr th {\n",
       "        vertical-align: top;\n",
       "    }\n",
       "\n",
       "    .dataframe thead th {\n",
       "        text-align: right;\n",
       "    }\n",
       "</style>\n",
       "<table border=\"1\" class=\"dataframe\">\n",
       "  <thead>\n",
       "    <tr style=\"text-align: right;\">\n",
       "      <th></th>\n",
       "      <th>total_number</th>\n",
       "      <th>total_amount_mn</th>\n",
       "    </tr>\n",
       "    <tr>\n",
       "      <th>main_sector</th>\n",
       "      <th></th>\n",
       "      <th></th>\n",
       "    </tr>\n",
       "  </thead>\n",
       "  <tbody>\n",
       "    <tr>\n",
       "      <th>Automotive &amp; Sports</th>\n",
       "      <td>167</td>\n",
       "      <td>1454.10</td>\n",
       "    </tr>\n",
       "    <tr>\n",
       "      <th>Blanks</th>\n",
       "      <td>86</td>\n",
       "      <td>764.76</td>\n",
       "    </tr>\n",
       "    <tr>\n",
       "      <th>Cleantech / Semiconductors</th>\n",
       "      <td>2297</td>\n",
       "      <td>21181.00</td>\n",
       "    </tr>\n",
       "    <tr>\n",
       "      <th>Entertainment</th>\n",
       "      <td>580</td>\n",
       "      <td>5000.21</td>\n",
       "    </tr>\n",
       "    <tr>\n",
       "      <th>Health</th>\n",
       "      <td>908</td>\n",
       "      <td>8200.86</td>\n",
       "    </tr>\n",
       "    <tr>\n",
       "      <th>Manufacturing</th>\n",
       "      <td>799</td>\n",
       "      <td>7258.55</td>\n",
       "    </tr>\n",
       "    <tr>\n",
       "      <th>News, Search and Messaging</th>\n",
       "      <td>1563</td>\n",
       "      <td>13796.82</td>\n",
       "    </tr>\n",
       "    <tr>\n",
       "      <th>Others</th>\n",
       "      <td>2923</td>\n",
       "      <td>26089.28</td>\n",
       "    </tr>\n",
       "    <tr>\n",
       "      <th>Social, Finance, Analytics, Advertising</th>\n",
       "      <td>1912</td>\n",
       "      <td>16680.70</td>\n",
       "    </tr>\n",
       "  </tbody>\n",
       "</table>\n",
       "</div>"
      ],
      "text/plain": [
       "                                         total_number  total_amount_mn\n",
       "main_sector                                                           \n",
       "Automotive & Sports                               167          1454.10\n",
       "Blanks                                             86           764.76\n",
       "Cleantech / Semiconductors                       2297         21181.00\n",
       "Entertainment                                     580          5000.21\n",
       "Health                                            908          8200.86\n",
       "Manufacturing                                     799          7258.55\n",
       "News, Search and Messaging                       1563         13796.82\n",
       "Others                                           2923         26089.28\n",
       "Social, Finance, Analytics, Advertising          1912         16680.70"
      ]
     },
     "execution_count": 892,
     "metadata": {},
     "output_type": "execute_result"
    }
   ],
   "source": [
    "D1_summary_metric"
   ]
  },
  {
   "cell_type": "markdown",
   "metadata": {},
   "source": [
    "#### creating summary metrics for D2 - later on merge with D2 itself"
   ]
  },
  {
   "cell_type": "code",
   "execution_count": 893,
   "metadata": {},
   "outputs": [],
   "source": [
    "D2_summary_metric = D2.loc[:,['funding_round_permalink','main_sector']].groupby('main_sector').count()"
   ]
  },
  {
   "cell_type": "code",
   "execution_count": 894,
   "metadata": {},
   "outputs": [],
   "source": [
    "D2_summary_metric['total_amount_mn'] = D2.loc[:,['main_sector','raised_amount_usd']].groupby('main_sector').sum()/1000000.0"
   ]
  },
  {
   "cell_type": "code",
   "execution_count": 895,
   "metadata": {},
   "outputs": [],
   "source": [
    "D2_summary_metric = D2_summary_metric.rename(columns={'funding_round_permalink':'total_number'})"
   ]
  },
  {
   "cell_type": "code",
   "execution_count": 896,
   "metadata": {},
   "outputs": [
    {
     "data": {
      "text/html": [
       "<div>\n",
       "<style scoped>\n",
       "    .dataframe tbody tr th:only-of-type {\n",
       "        vertical-align: middle;\n",
       "    }\n",
       "\n",
       "    .dataframe tbody tr th {\n",
       "        vertical-align: top;\n",
       "    }\n",
       "\n",
       "    .dataframe thead th {\n",
       "        text-align: right;\n",
       "    }\n",
       "</style>\n",
       "<table border=\"1\" class=\"dataframe\">\n",
       "  <thead>\n",
       "    <tr style=\"text-align: right;\">\n",
       "      <th></th>\n",
       "      <th>total_number</th>\n",
       "      <th>total_amount_mn</th>\n",
       "    </tr>\n",
       "    <tr>\n",
       "      <th>main_sector</th>\n",
       "      <th></th>\n",
       "      <th></th>\n",
       "    </tr>\n",
       "  </thead>\n",
       "  <tbody>\n",
       "    <tr>\n",
       "      <th>Automotive &amp; Sports</th>\n",
       "      <td>16</td>\n",
       "      <td>167.05</td>\n",
       "    </tr>\n",
       "    <tr>\n",
       "      <th>Blanks</th>\n",
       "      <td>7</td>\n",
       "      <td>57.76</td>\n",
       "    </tr>\n",
       "    <tr>\n",
       "      <th>Cleantech / Semiconductors</th>\n",
       "      <td>127</td>\n",
       "      <td>1136.91</td>\n",
       "    </tr>\n",
       "    <tr>\n",
       "      <th>Entertainment</th>\n",
       "      <td>54</td>\n",
       "      <td>461.51</td>\n",
       "    </tr>\n",
       "    <tr>\n",
       "      <th>Health</th>\n",
       "      <td>24</td>\n",
       "      <td>214.54</td>\n",
       "    </tr>\n",
       "    <tr>\n",
       "      <th>Manufacturing</th>\n",
       "      <td>42</td>\n",
       "      <td>361.94</td>\n",
       "    </tr>\n",
       "    <tr>\n",
       "      <th>News, Search and Messaging</th>\n",
       "      <td>73</td>\n",
       "      <td>615.75</td>\n",
       "    </tr>\n",
       "    <tr>\n",
       "      <th>Others</th>\n",
       "      <td>143</td>\n",
       "      <td>1249.12</td>\n",
       "    </tr>\n",
       "    <tr>\n",
       "      <th>Social, Finance, Analytics, Advertising</th>\n",
       "      <td>98</td>\n",
       "      <td>821.89</td>\n",
       "    </tr>\n",
       "  </tbody>\n",
       "</table>\n",
       "</div>"
      ],
      "text/plain": [
       "                                         total_number  total_amount_mn\n",
       "main_sector                                                           \n",
       "Automotive & Sports                                16           167.05\n",
       "Blanks                                              7            57.76\n",
       "Cleantech / Semiconductors                        127          1136.91\n",
       "Entertainment                                      54           461.51\n",
       "Health                                             24           214.54\n",
       "Manufacturing                                      42           361.94\n",
       "News, Search and Messaging                         73           615.75\n",
       "Others                                            143          1249.12\n",
       "Social, Finance, Analytics, Advertising            98           821.89"
      ]
     },
     "execution_count": 896,
     "metadata": {},
     "output_type": "execute_result"
    }
   ],
   "source": [
    "D2_summary_metric"
   ]
  },
  {
   "cell_type": "code",
   "execution_count": 897,
   "metadata": {},
   "outputs": [],
   "source": [
    "D3_summary_metric = D3.loc[:,['funding_round_permalink','main_sector']].groupby('main_sector').count()"
   ]
  },
  {
   "cell_type": "code",
   "execution_count": 898,
   "metadata": {},
   "outputs": [],
   "source": [
    "D3_summary_metric['total_amount_mn'] = D3.loc[:,['main_sector','raised_amount_usd']].groupby('main_sector').sum()/1000000.0"
   ]
  },
  {
   "cell_type": "code",
   "execution_count": 899,
   "metadata": {},
   "outputs": [],
   "source": [
    "D3_summary_metric = D3_summary_metric.rename(columns={'funding_round_permalink':'total_number'})"
   ]
  },
  {
   "cell_type": "code",
   "execution_count": 900,
   "metadata": {},
   "outputs": [
    {
     "data": {
      "text/html": [
       "<div>\n",
       "<style scoped>\n",
       "    .dataframe tbody tr th:only-of-type {\n",
       "        vertical-align: middle;\n",
       "    }\n",
       "\n",
       "    .dataframe tbody tr th {\n",
       "        vertical-align: top;\n",
       "    }\n",
       "\n",
       "    .dataframe thead th {\n",
       "        text-align: right;\n",
       "    }\n",
       "</style>\n",
       "<table border=\"1\" class=\"dataframe\">\n",
       "  <thead>\n",
       "    <tr style=\"text-align: right;\">\n",
       "      <th></th>\n",
       "      <th>total_number</th>\n",
       "      <th>total_amount_mn</th>\n",
       "    </tr>\n",
       "    <tr>\n",
       "      <th>main_sector</th>\n",
       "      <th></th>\n",
       "      <th></th>\n",
       "    </tr>\n",
       "  </thead>\n",
       "  <tbody>\n",
       "    <tr>\n",
       "      <th>Automotive &amp; Sports</th>\n",
       "      <td>2</td>\n",
       "      <td>15.00</td>\n",
       "    </tr>\n",
       "    <tr>\n",
       "      <th>Blanks</th>\n",
       "      <td>4</td>\n",
       "      <td>47.72</td>\n",
       "    </tr>\n",
       "    <tr>\n",
       "      <th>Cleantech / Semiconductors</th>\n",
       "      <td>112</td>\n",
       "      <td>1015.89</td>\n",
       "    </tr>\n",
       "    <tr>\n",
       "      <th>Entertainment</th>\n",
       "      <td>22</td>\n",
       "      <td>154.02</td>\n",
       "    </tr>\n",
       "    <tr>\n",
       "      <th>Health</th>\n",
       "      <td>20</td>\n",
       "      <td>162.15</td>\n",
       "    </tr>\n",
       "    <tr>\n",
       "      <th>Manufacturing</th>\n",
       "      <td>31</td>\n",
       "      <td>237.63</td>\n",
       "    </tr>\n",
       "    <tr>\n",
       "      <th>News, Search and Messaging</th>\n",
       "      <td>46</td>\n",
       "      <td>420.12</td>\n",
       "    </tr>\n",
       "    <tr>\n",
       "      <th>Others</th>\n",
       "      <td>109</td>\n",
       "      <td>926.14</td>\n",
       "    </tr>\n",
       "    <tr>\n",
       "      <th>Social, Finance, Analytics, Advertising</th>\n",
       "      <td>52</td>\n",
       "      <td>443.34</td>\n",
       "    </tr>\n",
       "  </tbody>\n",
       "</table>\n",
       "</div>"
      ],
      "text/plain": [
       "                                         total_number  total_amount_mn\n",
       "main_sector                                                           \n",
       "Automotive & Sports                                 2            15.00\n",
       "Blanks                                              4            47.72\n",
       "Cleantech / Semiconductors                        112          1015.89\n",
       "Entertainment                                      22           154.02\n",
       "Health                                             20           162.15\n",
       "Manufacturing                                      31           237.63\n",
       "News, Search and Messaging                         46           420.12\n",
       "Others                                            109           926.14\n",
       "Social, Finance, Analytics, Advertising            52           443.34"
      ]
     },
     "execution_count": 900,
     "metadata": {},
     "output_type": "execute_result"
    }
   ],
   "source": [
    "D3_summary_metric"
   ]
  },
  {
   "cell_type": "code",
   "execution_count": 902,
   "metadata": {},
   "outputs": [],
   "source": [
    "D1_1 = pd.merge(D1, D1_summary_metric, how='inner', on='main_sector')"
   ]
  },
  {
   "cell_type": "code",
   "execution_count": 904,
   "metadata": {},
   "outputs": [
    {
     "data": {
      "text/html": [
       "<div>\n",
       "<style scoped>\n",
       "    .dataframe tbody tr th:only-of-type {\n",
       "        vertical-align: middle;\n",
       "    }\n",
       "\n",
       "    .dataframe tbody tr th {\n",
       "        vertical-align: top;\n",
       "    }\n",
       "\n",
       "    .dataframe thead th {\n",
       "        text-align: right;\n",
       "    }\n",
       "</style>\n",
       "<table border=\"1\" class=\"dataframe\">\n",
       "  <thead>\n",
       "    <tr style=\"text-align: right;\">\n",
       "      <th></th>\n",
       "      <th>company_permalink</th>\n",
       "      <th>funding_round_permalink</th>\n",
       "      <th>funding_round_type</th>\n",
       "      <th>funding_round_code</th>\n",
       "      <th>funded_at</th>\n",
       "      <th>raised_amount_usd</th>\n",
       "      <th>permalink</th>\n",
       "      <th>name</th>\n",
       "      <th>homepage_url</th>\n",
       "      <th>category_list</th>\n",
       "      <th>status</th>\n",
       "      <th>country_code</th>\n",
       "      <th>state_code</th>\n",
       "      <th>region</th>\n",
       "      <th>city</th>\n",
       "      <th>founded_at</th>\n",
       "      <th>primary_sector</th>\n",
       "      <th>main_sector</th>\n",
       "      <th>total_number</th>\n",
       "      <th>total_amount_mn</th>\n",
       "    </tr>\n",
       "  </thead>\n",
       "  <tbody>\n",
       "    <tr>\n",
       "      <th>0</th>\n",
       "      <td>/organization/all-def-digital</td>\n",
       "      <td>/funding-round/452a2342fe720285c3b92e9bd927d9ba</td>\n",
       "      <td>venture</td>\n",
       "      <td>A</td>\n",
       "      <td>06-08-2014</td>\n",
       "      <td>5000000.00</td>\n",
       "      <td>/organization/all-def-digital</td>\n",
       "      <td>All Def Digital</td>\n",
       "      <td>http://alldefdigital.com</td>\n",
       "      <td>Media</td>\n",
       "      <td>operating</td>\n",
       "      <td>USA</td>\n",
       "      <td>CA</td>\n",
       "      <td>Los Angeles</td>\n",
       "      <td>Los Angeles</td>\n",
       "      <td>NaN</td>\n",
       "      <td>Media</td>\n",
       "      <td>Entertainment</td>\n",
       "      <td>580</td>\n",
       "      <td>5000.21</td>\n",
       "    </tr>\n",
       "    <tr>\n",
       "      <th>1</th>\n",
       "      <td>/organization/chefs-feed</td>\n",
       "      <td>/funding-round/adca195749ae9ace84684723fbe75e5b</td>\n",
       "      <td>venture</td>\n",
       "      <td>A</td>\n",
       "      <td>26-02-2015</td>\n",
       "      <td>5000000.00</td>\n",
       "      <td>/organization/chefs-feed</td>\n",
       "      <td>ChefsFeed</td>\n",
       "      <td>http://www.chefsfeed.com</td>\n",
       "      <td>Media|Mobile|Restaurants|Technology</td>\n",
       "      <td>operating</td>\n",
       "      <td>USA</td>\n",
       "      <td>CA</td>\n",
       "      <td>SF Bay Area</td>\n",
       "      <td>San Francisco</td>\n",
       "      <td>01-01-2012</td>\n",
       "      <td>Media</td>\n",
       "      <td>Entertainment</td>\n",
       "      <td>580</td>\n",
       "      <td>5000.21</td>\n",
       "    </tr>\n",
       "    <tr>\n",
       "      <th>2</th>\n",
       "      <td>/organization/huffingtonpost</td>\n",
       "      <td>/funding-round/7f05940c4d2dfecb8e50a0e5720e5065</td>\n",
       "      <td>venture</td>\n",
       "      <td>A</td>\n",
       "      <td>01-08-2006</td>\n",
       "      <td>5000000.00</td>\n",
       "      <td>/organization/huffingtonpost</td>\n",
       "      <td>The Huffington Post</td>\n",
       "      <td>http://www.huffingtonpost.com</td>\n",
       "      <td>Media|News|Publishing</td>\n",
       "      <td>acquired</td>\n",
       "      <td>USA</td>\n",
       "      <td>NY</td>\n",
       "      <td>New York City</td>\n",
       "      <td>New York</td>\n",
       "      <td>09-05-2005</td>\n",
       "      <td>Media</td>\n",
       "      <td>Entertainment</td>\n",
       "      <td>580</td>\n",
       "      <td>5000.21</td>\n",
       "    </tr>\n",
       "    <tr>\n",
       "      <th>3</th>\n",
       "      <td>/organization/huffingtonpost</td>\n",
       "      <td>/funding-round/9241ae16e08df17ebdc064e49e23035a</td>\n",
       "      <td>venture</td>\n",
       "      <td>B</td>\n",
       "      <td>01-09-2007</td>\n",
       "      <td>5000000.00</td>\n",
       "      <td>/organization/huffingtonpost</td>\n",
       "      <td>The Huffington Post</td>\n",
       "      <td>http://www.huffingtonpost.com</td>\n",
       "      <td>Media|News|Publishing</td>\n",
       "      <td>acquired</td>\n",
       "      <td>USA</td>\n",
       "      <td>NY</td>\n",
       "      <td>New York City</td>\n",
       "      <td>New York</td>\n",
       "      <td>09-05-2005</td>\n",
       "      <td>Media</td>\n",
       "      <td>Entertainment</td>\n",
       "      <td>580</td>\n",
       "      <td>5000.21</td>\n",
       "    </tr>\n",
       "    <tr>\n",
       "      <th>4</th>\n",
       "      <td>/organization/matchmine</td>\n",
       "      <td>/funding-round/41ac526630da57ad6eb9d02431b17657</td>\n",
       "      <td>venture</td>\n",
       "      <td>A</td>\n",
       "      <td>01-09-2007</td>\n",
       "      <td>10000000.00</td>\n",
       "      <td>/organization/matchmine</td>\n",
       "      <td>MatchMine</td>\n",
       "      <td>http://matchmine.com</td>\n",
       "      <td>Media|News|Reviews and Recommendations</td>\n",
       "      <td>closed</td>\n",
       "      <td>USA</td>\n",
       "      <td>MA</td>\n",
       "      <td>Boston</td>\n",
       "      <td>Needham</td>\n",
       "      <td>01-01-2007</td>\n",
       "      <td>Media</td>\n",
       "      <td>Entertainment</td>\n",
       "      <td>580</td>\n",
       "      <td>5000.21</td>\n",
       "    </tr>\n",
       "  </tbody>\n",
       "</table>\n",
       "</div>"
      ],
      "text/plain": [
       "               company_permalink  \\\n",
       "0  /organization/all-def-digital   \n",
       "1       /organization/chefs-feed   \n",
       "2   /organization/huffingtonpost   \n",
       "3   /organization/huffingtonpost   \n",
       "4        /organization/matchmine   \n",
       "\n",
       "                           funding_round_permalink funding_round_type  \\\n",
       "0  /funding-round/452a2342fe720285c3b92e9bd927d9ba            venture   \n",
       "1  /funding-round/adca195749ae9ace84684723fbe75e5b            venture   \n",
       "2  /funding-round/7f05940c4d2dfecb8e50a0e5720e5065            venture   \n",
       "3  /funding-round/9241ae16e08df17ebdc064e49e23035a            venture   \n",
       "4  /funding-round/41ac526630da57ad6eb9d02431b17657            venture   \n",
       "\n",
       "  funding_round_code   funded_at  raised_amount_usd  \\\n",
       "0                  A  06-08-2014         5000000.00   \n",
       "1                  A  26-02-2015         5000000.00   \n",
       "2                  A  01-08-2006         5000000.00   \n",
       "3                  B  01-09-2007         5000000.00   \n",
       "4                  A  01-09-2007        10000000.00   \n",
       "\n",
       "                       permalink                 name  \\\n",
       "0  /organization/all-def-digital      All Def Digital   \n",
       "1       /organization/chefs-feed            ChefsFeed   \n",
       "2   /organization/huffingtonpost  The Huffington Post   \n",
       "3   /organization/huffingtonpost  The Huffington Post   \n",
       "4        /organization/matchmine            MatchMine   \n",
       "\n",
       "                    homepage_url                           category_list  \\\n",
       "0       http://alldefdigital.com                                   Media   \n",
       "1       http://www.chefsfeed.com     Media|Mobile|Restaurants|Technology   \n",
       "2  http://www.huffingtonpost.com                   Media|News|Publishing   \n",
       "3  http://www.huffingtonpost.com                   Media|News|Publishing   \n",
       "4           http://matchmine.com  Media|News|Reviews and Recommendations   \n",
       "\n",
       "      status country_code state_code         region           city  \\\n",
       "0  operating          USA         CA    Los Angeles    Los Angeles   \n",
       "1  operating          USA         CA    SF Bay Area  San Francisco   \n",
       "2   acquired          USA         NY  New York City       New York   \n",
       "3   acquired          USA         NY  New York City       New York   \n",
       "4     closed          USA         MA         Boston        Needham   \n",
       "\n",
       "   founded_at primary_sector    main_sector  total_number  total_amount_mn  \n",
       "0         NaN          Media  Entertainment           580          5000.21  \n",
       "1  01-01-2012          Media  Entertainment           580          5000.21  \n",
       "2  09-05-2005          Media  Entertainment           580          5000.21  \n",
       "3  09-05-2005          Media  Entertainment           580          5000.21  \n",
       "4  01-01-2007          Media  Entertainment           580          5000.21  "
      ]
     },
     "execution_count": 904,
     "metadata": {},
     "output_type": "execute_result"
    }
   ],
   "source": [
    "D1_1.head()"
   ]
  },
  {
   "cell_type": "code",
   "execution_count": 905,
   "metadata": {},
   "outputs": [],
   "source": [
    "D2_1 = pd.merge(D2, D2_summary_metric, how='inner', on='main_sector')"
   ]
  },
  {
   "cell_type": "code",
   "execution_count": 906,
   "metadata": {},
   "outputs": [
    {
     "data": {
      "text/html": [
       "<div>\n",
       "<style scoped>\n",
       "    .dataframe tbody tr th:only-of-type {\n",
       "        vertical-align: middle;\n",
       "    }\n",
       "\n",
       "    .dataframe tbody tr th {\n",
       "        vertical-align: top;\n",
       "    }\n",
       "\n",
       "    .dataframe thead th {\n",
       "        text-align: right;\n",
       "    }\n",
       "</style>\n",
       "<table border=\"1\" class=\"dataframe\">\n",
       "  <thead>\n",
       "    <tr style=\"text-align: right;\">\n",
       "      <th></th>\n",
       "      <th>company_permalink</th>\n",
       "      <th>funding_round_permalink</th>\n",
       "      <th>funding_round_type</th>\n",
       "      <th>funding_round_code</th>\n",
       "      <th>funded_at</th>\n",
       "      <th>raised_amount_usd</th>\n",
       "      <th>permalink</th>\n",
       "      <th>name</th>\n",
       "      <th>homepage_url</th>\n",
       "      <th>category_list</th>\n",
       "      <th>status</th>\n",
       "      <th>country_code</th>\n",
       "      <th>state_code</th>\n",
       "      <th>region</th>\n",
       "      <th>city</th>\n",
       "      <th>founded_at</th>\n",
       "      <th>primary_sector</th>\n",
       "      <th>main_sector</th>\n",
       "      <th>total_number</th>\n",
       "      <th>total_amount_mn</th>\n",
       "    </tr>\n",
       "  </thead>\n",
       "  <tbody>\n",
       "    <tr>\n",
       "      <th>0</th>\n",
       "      <td>/organization/90min</td>\n",
       "      <td>/funding-round/21a2cbf6f2fb2a1c2a61e04bf930dfe6</td>\n",
       "      <td>venture</td>\n",
       "      <td>NaN</td>\n",
       "      <td>06-10-2015</td>\n",
       "      <td>15000000.00</td>\n",
       "      <td>/organization/90min</td>\n",
       "      <td>90min</td>\n",
       "      <td>http://www.90min.com</td>\n",
       "      <td>Media|News|Publishing|Soccer|Sports</td>\n",
       "      <td>operating</td>\n",
       "      <td>GBR</td>\n",
       "      <td>H9</td>\n",
       "      <td>London</td>\n",
       "      <td>London</td>\n",
       "      <td>01-01-2011</td>\n",
       "      <td>Media</td>\n",
       "      <td>Entertainment</td>\n",
       "      <td>54</td>\n",
       "      <td>461.51</td>\n",
       "    </tr>\n",
       "    <tr>\n",
       "      <th>1</th>\n",
       "      <td>/organization/90min</td>\n",
       "      <td>/funding-round/bd626ed022f5c66574b1afe234f3c90d</td>\n",
       "      <td>venture</td>\n",
       "      <td>NaN</td>\n",
       "      <td>07-05-2013</td>\n",
       "      <td>5800000.00</td>\n",
       "      <td>/organization/90min</td>\n",
       "      <td>90min</td>\n",
       "      <td>http://www.90min.com</td>\n",
       "      <td>Media|News|Publishing|Soccer|Sports</td>\n",
       "      <td>operating</td>\n",
       "      <td>GBR</td>\n",
       "      <td>H9</td>\n",
       "      <td>London</td>\n",
       "      <td>London</td>\n",
       "      <td>01-01-2011</td>\n",
       "      <td>Media</td>\n",
       "      <td>Entertainment</td>\n",
       "      <td>54</td>\n",
       "      <td>461.51</td>\n",
       "    </tr>\n",
       "    <tr>\n",
       "      <th>2</th>\n",
       "      <td>/organization/eutechnyx</td>\n",
       "      <td>/funding-round/d2fc787fbc5e4f468dff8b2c557993f1</td>\n",
       "      <td>venture</td>\n",
       "      <td>A</td>\n",
       "      <td>13-05-2010</td>\n",
       "      <td>8800000.00</td>\n",
       "      <td>/organization/eutechnyx</td>\n",
       "      <td>Eutechnyx</td>\n",
       "      <td>http://press.eutechnyx.com</td>\n",
       "      <td>Games</td>\n",
       "      <td>operating</td>\n",
       "      <td>GBR</td>\n",
       "      <td>E5</td>\n",
       "      <td>Gateshead</td>\n",
       "      <td>Gateshead</td>\n",
       "      <td>01-01-1987</td>\n",
       "      <td>Games</td>\n",
       "      <td>Entertainment</td>\n",
       "      <td>54</td>\n",
       "      <td>461.51</td>\n",
       "    </tr>\n",
       "    <tr>\n",
       "      <th>3</th>\n",
       "      <td>/organization/mind-candy</td>\n",
       "      <td>/funding-round/47df01ed44d7b5916159051e5e32391e</td>\n",
       "      <td>venture</td>\n",
       "      <td>B</td>\n",
       "      <td>01-06-2011</td>\n",
       "      <td>10000000.00</td>\n",
       "      <td>/organization/mind-candy</td>\n",
       "      <td>Mind Candy</td>\n",
       "      <td>http://www.mindcandy.com</td>\n",
       "      <td>Games</td>\n",
       "      <td>operating</td>\n",
       "      <td>GBR</td>\n",
       "      <td>H9</td>\n",
       "      <td>London</td>\n",
       "      <td>London</td>\n",
       "      <td>01-01-2003</td>\n",
       "      <td>Games</td>\n",
       "      <td>Entertainment</td>\n",
       "      <td>54</td>\n",
       "      <td>461.51</td>\n",
       "    </tr>\n",
       "    <tr>\n",
       "      <th>4</th>\n",
       "      <td>/organization/mind-candy</td>\n",
       "      <td>/funding-round/c6a873b4cbdd7ea3d023a771bd3b2f99</td>\n",
       "      <td>venture</td>\n",
       "      <td>A</td>\n",
       "      <td>23-11-2006</td>\n",
       "      <td>10860000.00</td>\n",
       "      <td>/organization/mind-candy</td>\n",
       "      <td>Mind Candy</td>\n",
       "      <td>http://www.mindcandy.com</td>\n",
       "      <td>Games</td>\n",
       "      <td>operating</td>\n",
       "      <td>GBR</td>\n",
       "      <td>H9</td>\n",
       "      <td>London</td>\n",
       "      <td>London</td>\n",
       "      <td>01-01-2003</td>\n",
       "      <td>Games</td>\n",
       "      <td>Entertainment</td>\n",
       "      <td>54</td>\n",
       "      <td>461.51</td>\n",
       "    </tr>\n",
       "  </tbody>\n",
       "</table>\n",
       "</div>"
      ],
      "text/plain": [
       "          company_permalink                          funding_round_permalink  \\\n",
       "0       /organization/90min  /funding-round/21a2cbf6f2fb2a1c2a61e04bf930dfe6   \n",
       "1       /organization/90min  /funding-round/bd626ed022f5c66574b1afe234f3c90d   \n",
       "2   /organization/eutechnyx  /funding-round/d2fc787fbc5e4f468dff8b2c557993f1   \n",
       "3  /organization/mind-candy  /funding-round/47df01ed44d7b5916159051e5e32391e   \n",
       "4  /organization/mind-candy  /funding-round/c6a873b4cbdd7ea3d023a771bd3b2f99   \n",
       "\n",
       "  funding_round_type funding_round_code   funded_at  raised_amount_usd  \\\n",
       "0            venture                NaN  06-10-2015        15000000.00   \n",
       "1            venture                NaN  07-05-2013         5800000.00   \n",
       "2            venture                  A  13-05-2010         8800000.00   \n",
       "3            venture                  B  01-06-2011        10000000.00   \n",
       "4            venture                  A  23-11-2006        10860000.00   \n",
       "\n",
       "                  permalink        name                homepage_url  \\\n",
       "0       /organization/90min       90min        http://www.90min.com   \n",
       "1       /organization/90min       90min        http://www.90min.com   \n",
       "2   /organization/eutechnyx   Eutechnyx  http://press.eutechnyx.com   \n",
       "3  /organization/mind-candy  Mind Candy    http://www.mindcandy.com   \n",
       "4  /organization/mind-candy  Mind Candy    http://www.mindcandy.com   \n",
       "\n",
       "                         category_list     status country_code state_code  \\\n",
       "0  Media|News|Publishing|Soccer|Sports  operating          GBR         H9   \n",
       "1  Media|News|Publishing|Soccer|Sports  operating          GBR         H9   \n",
       "2                                Games  operating          GBR         E5   \n",
       "3                                Games  operating          GBR         H9   \n",
       "4                                Games  operating          GBR         H9   \n",
       "\n",
       "      region       city  founded_at primary_sector    main_sector  \\\n",
       "0     London     London  01-01-2011          Media  Entertainment   \n",
       "1     London     London  01-01-2011          Media  Entertainment   \n",
       "2  Gateshead  Gateshead  01-01-1987          Games  Entertainment   \n",
       "3     London     London  01-01-2003          Games  Entertainment   \n",
       "4     London     London  01-01-2003          Games  Entertainment   \n",
       "\n",
       "   total_number  total_amount_mn  \n",
       "0            54           461.51  \n",
       "1            54           461.51  \n",
       "2            54           461.51  \n",
       "3            54           461.51  \n",
       "4            54           461.51  "
      ]
     },
     "execution_count": 906,
     "metadata": {},
     "output_type": "execute_result"
    }
   ],
   "source": [
    "D2_1.head()"
   ]
  },
  {
   "cell_type": "code",
   "execution_count": 907,
   "metadata": {},
   "outputs": [],
   "source": [
    "D3_1 = pd.merge(D3, D3_summary_metric, how='inner', on='main_sector')"
   ]
  },
  {
   "cell_type": "code",
   "execution_count": 908,
   "metadata": {},
   "outputs": [
    {
     "data": {
      "text/html": [
       "<div>\n",
       "<style scoped>\n",
       "    .dataframe tbody tr th:only-of-type {\n",
       "        vertical-align: middle;\n",
       "    }\n",
       "\n",
       "    .dataframe tbody tr th {\n",
       "        vertical-align: top;\n",
       "    }\n",
       "\n",
       "    .dataframe thead th {\n",
       "        text-align: right;\n",
       "    }\n",
       "</style>\n",
       "<table border=\"1\" class=\"dataframe\">\n",
       "  <thead>\n",
       "    <tr style=\"text-align: right;\">\n",
       "      <th></th>\n",
       "      <th>company_permalink</th>\n",
       "      <th>funding_round_permalink</th>\n",
       "      <th>funding_round_type</th>\n",
       "      <th>funding_round_code</th>\n",
       "      <th>funded_at</th>\n",
       "      <th>raised_amount_usd</th>\n",
       "      <th>permalink</th>\n",
       "      <th>name</th>\n",
       "      <th>homepage_url</th>\n",
       "      <th>category_list</th>\n",
       "      <th>status</th>\n",
       "      <th>country_code</th>\n",
       "      <th>state_code</th>\n",
       "      <th>region</th>\n",
       "      <th>city</th>\n",
       "      <th>founded_at</th>\n",
       "      <th>primary_sector</th>\n",
       "      <th>main_sector</th>\n",
       "      <th>total_number</th>\n",
       "      <th>total_amount_mn</th>\n",
       "    </tr>\n",
       "  </thead>\n",
       "  <tbody>\n",
       "    <tr>\n",
       "      <th>0</th>\n",
       "      <td>/organization/500px</td>\n",
       "      <td>/funding-round/344b1e2b60ff76f4548c69ea7c04901f</td>\n",
       "      <td>venture</td>\n",
       "      <td>A</td>\n",
       "      <td>07-08-2013</td>\n",
       "      <td>8800000.00</td>\n",
       "      <td>/organization/500px</td>\n",
       "      <td>500px</td>\n",
       "      <td>http://500px.com</td>\n",
       "      <td>Apps|Internet|Photography|Promotional|Sales an...</td>\n",
       "      <td>operating</td>\n",
       "      <td>CAN</td>\n",
       "      <td>ON</td>\n",
       "      <td>Toronto</td>\n",
       "      <td>Toronto</td>\n",
       "      <td>01-10-2009</td>\n",
       "      <td>Apps</td>\n",
       "      <td>News, Search and Messaging</td>\n",
       "      <td>46</td>\n",
       "      <td>420.12</td>\n",
       "    </tr>\n",
       "    <tr>\n",
       "      <th>1</th>\n",
       "      <td>/organization/500px</td>\n",
       "      <td>/funding-round/36b2c6975d20b602b5d9ea9724e383ea</td>\n",
       "      <td>venture</td>\n",
       "      <td>B</td>\n",
       "      <td>21-07-2015</td>\n",
       "      <td>13000000.00</td>\n",
       "      <td>/organization/500px</td>\n",
       "      <td>500px</td>\n",
       "      <td>http://500px.com</td>\n",
       "      <td>Apps|Internet|Photography|Promotional|Sales an...</td>\n",
       "      <td>operating</td>\n",
       "      <td>CAN</td>\n",
       "      <td>ON</td>\n",
       "      <td>Toronto</td>\n",
       "      <td>Toronto</td>\n",
       "      <td>01-10-2009</td>\n",
       "      <td>Apps</td>\n",
       "      <td>News, Search and Messaging</td>\n",
       "      <td>46</td>\n",
       "      <td>420.12</td>\n",
       "    </tr>\n",
       "    <tr>\n",
       "      <th>2</th>\n",
       "      <td>/organization/polar-me</td>\n",
       "      <td>/funding-round/8306cc4e0122a91a0803cb5755be62e0</td>\n",
       "      <td>venture</td>\n",
       "      <td>NaN</td>\n",
       "      <td>23-01-2012</td>\n",
       "      <td>6000000.00</td>\n",
       "      <td>/organization/polar-me</td>\n",
       "      <td>Polar</td>\n",
       "      <td>http://www.polar.me</td>\n",
       "      <td>Apps|Mobile|Software</td>\n",
       "      <td>operating</td>\n",
       "      <td>CAN</td>\n",
       "      <td>ON</td>\n",
       "      <td>Toronto</td>\n",
       "      <td>Toronto</td>\n",
       "      <td>01-11-2007</td>\n",
       "      <td>Apps</td>\n",
       "      <td>News, Search and Messaging</td>\n",
       "      <td>46</td>\n",
       "      <td>420.12</td>\n",
       "    </tr>\n",
       "    <tr>\n",
       "      <th>3</th>\n",
       "      <td>/organization/waverider-communications</td>\n",
       "      <td>/funding-round/e3a5e5af0514515c6a8b5afbd6cfcbe3</td>\n",
       "      <td>venture</td>\n",
       "      <td>NaN</td>\n",
       "      <td>23-12-1999</td>\n",
       "      <td>10000000.00</td>\n",
       "      <td>/organization/waverider-communications</td>\n",
       "      <td>WaveRider Communications</td>\n",
       "      <td>NaN</td>\n",
       "      <td>Internet|Wireless</td>\n",
       "      <td>operating</td>\n",
       "      <td>CAN</td>\n",
       "      <td>ON</td>\n",
       "      <td>Toronto</td>\n",
       "      <td>Toronto</td>\n",
       "      <td>01-01-1987</td>\n",
       "      <td>Internet</td>\n",
       "      <td>News, Search and Messaging</td>\n",
       "      <td>46</td>\n",
       "      <td>420.12</td>\n",
       "    </tr>\n",
       "    <tr>\n",
       "      <th>4</th>\n",
       "      <td>/organization/nowpublic</td>\n",
       "      <td>/funding-round/62db4d38f6afc26ab4de30aa1e35c569</td>\n",
       "      <td>venture</td>\n",
       "      <td>A</td>\n",
       "      <td>01-07-2007</td>\n",
       "      <td>10600000.00</td>\n",
       "      <td>/organization/nowpublic</td>\n",
       "      <td>NowPublic</td>\n",
       "      <td>http://www.nowpublic.com</td>\n",
       "      <td>News</td>\n",
       "      <td>acquired</td>\n",
       "      <td>CAN</td>\n",
       "      <td>BC</td>\n",
       "      <td>Vancouver</td>\n",
       "      <td>Vancouver</td>\n",
       "      <td>01-01-2005</td>\n",
       "      <td>News</td>\n",
       "      <td>News, Search and Messaging</td>\n",
       "      <td>46</td>\n",
       "      <td>420.12</td>\n",
       "    </tr>\n",
       "  </tbody>\n",
       "</table>\n",
       "</div>"
      ],
      "text/plain": [
       "                        company_permalink  \\\n",
       "0                     /organization/500px   \n",
       "1                     /organization/500px   \n",
       "2                  /organization/polar-me   \n",
       "3  /organization/waverider-communications   \n",
       "4                 /organization/nowpublic   \n",
       "\n",
       "                           funding_round_permalink funding_round_type  \\\n",
       "0  /funding-round/344b1e2b60ff76f4548c69ea7c04901f            venture   \n",
       "1  /funding-round/36b2c6975d20b602b5d9ea9724e383ea            venture   \n",
       "2  /funding-round/8306cc4e0122a91a0803cb5755be62e0            venture   \n",
       "3  /funding-round/e3a5e5af0514515c6a8b5afbd6cfcbe3            venture   \n",
       "4  /funding-round/62db4d38f6afc26ab4de30aa1e35c569            venture   \n",
       "\n",
       "  funding_round_code   funded_at  raised_amount_usd  \\\n",
       "0                  A  07-08-2013         8800000.00   \n",
       "1                  B  21-07-2015        13000000.00   \n",
       "2                NaN  23-01-2012         6000000.00   \n",
       "3                NaN  23-12-1999        10000000.00   \n",
       "4                  A  01-07-2007        10600000.00   \n",
       "\n",
       "                                permalink                      name  \\\n",
       "0                     /organization/500px                     500px   \n",
       "1                     /organization/500px                     500px   \n",
       "2                  /organization/polar-me                     Polar   \n",
       "3  /organization/waverider-communications  WaveRider Communications   \n",
       "4                 /organization/nowpublic                 NowPublic   \n",
       "\n",
       "               homepage_url  \\\n",
       "0          http://500px.com   \n",
       "1          http://500px.com   \n",
       "2       http://www.polar.me   \n",
       "3                       NaN   \n",
       "4  http://www.nowpublic.com   \n",
       "\n",
       "                                       category_list     status country_code  \\\n",
       "0  Apps|Internet|Photography|Promotional|Sales an...  operating          CAN   \n",
       "1  Apps|Internet|Photography|Promotional|Sales an...  operating          CAN   \n",
       "2                               Apps|Mobile|Software  operating          CAN   \n",
       "3                                  Internet|Wireless  operating          CAN   \n",
       "4                                               News   acquired          CAN   \n",
       "\n",
       "  state_code     region       city  founded_at primary_sector  \\\n",
       "0         ON    Toronto    Toronto  01-10-2009           Apps   \n",
       "1         ON    Toronto    Toronto  01-10-2009           Apps   \n",
       "2         ON    Toronto    Toronto  01-11-2007           Apps   \n",
       "3         ON    Toronto    Toronto  01-01-1987       Internet   \n",
       "4         BC  Vancouver  Vancouver  01-01-2005           News   \n",
       "\n",
       "                  main_sector  total_number  total_amount_mn  \n",
       "0  News, Search and Messaging            46           420.12  \n",
       "1  News, Search and Messaging            46           420.12  \n",
       "2  News, Search and Messaging            46           420.12  \n",
       "3  News, Search and Messaging            46           420.12  \n",
       "4  News, Search and Messaging            46           420.12  "
      ]
     },
     "execution_count": 908,
     "metadata": {},
     "output_type": "execute_result"
    }
   ],
   "source": [
    "D3_1.head()"
   ]
  },
  {
   "cell_type": "markdown",
   "metadata": {},
   "source": [
    "__Total number of Investments (count)__"
   ]
  },
  {
   "cell_type": "code",
   "execution_count": 909,
   "metadata": {},
   "outputs": [
    {
     "data": {
      "text/plain": [
       "21753401"
      ]
     },
     "execution_count": 909,
     "metadata": {},
     "output_type": "execute_result"
    }
   ],
   "source": [
    "D1_1.total_number.sum()"
   ]
  },
  {
   "cell_type": "code",
   "execution_count": 910,
   "metadata": {},
   "outputs": [
    {
     "data": {
      "text/plain": [
       "57072"
      ]
     },
     "execution_count": 910,
     "metadata": {},
     "output_type": "execute_result"
    }
   ],
   "source": [
    "D2_1.total_number.sum()"
   ]
  },
  {
   "cell_type": "code",
   "execution_count": 911,
   "metadata": {},
   "outputs": [
    {
     "data": {
      "text/plain": [
       "31110"
      ]
     },
     "execution_count": 911,
     "metadata": {},
     "output_type": "execute_result"
    }
   ],
   "source": [
    "D3_1.total_number.sum()"
   ]
  },
  {
   "cell_type": "markdown",
   "metadata": {},
   "source": [
    "__Total amount of investment (USD)__"
   ]
  },
  {
   "cell_type": "code",
   "execution_count": 912,
   "metadata": {},
   "outputs": [
    {
     "data": {
      "text/plain": [
       "194824336.0"
      ]
     },
     "execution_count": 912,
     "metadata": {},
     "output_type": "execute_result"
    }
   ],
   "source": [
    "D1_1.total_amount_mn.sum().round()"
   ]
  },
  {
   "cell_type": "code",
   "execution_count": 913,
   "metadata": {},
   "outputs": [
    {
     "data": {
      "text/plain": [
       "496855.0"
      ]
     },
     "execution_count": 913,
     "metadata": {},
     "output_type": "execute_result"
    }
   ],
   "source": [
    "D2_1.total_amount_mn.sum().round()"
   ]
  },
  {
   "cell_type": "code",
   "execution_count": 914,
   "metadata": {},
   "outputs": [
    {
     "data": {
      "text/plain": [
       "271327.0"
      ]
     },
     "execution_count": 914,
     "metadata": {},
     "output_type": "execute_result"
    }
   ],
   "source": [
    "D3_1.total_amount_mn.sum().round()"
   ]
  },
  {
   "cell_type": "markdown",
   "metadata": {},
   "source": [
    "__TopMost Sectors name (no. of investment-wise)__"
   ]
  },
  {
   "cell_type": "code",
   "execution_count": 915,
   "metadata": {},
   "outputs": [
    {
     "data": {
      "text/html": [
       "<div>\n",
       "<style scoped>\n",
       "    .dataframe tbody tr th:only-of-type {\n",
       "        vertical-align: middle;\n",
       "    }\n",
       "\n",
       "    .dataframe tbody tr th {\n",
       "        vertical-align: top;\n",
       "    }\n",
       "\n",
       "    .dataframe thead th {\n",
       "        text-align: right;\n",
       "    }\n",
       "</style>\n",
       "<table border=\"1\" class=\"dataframe\">\n",
       "  <thead>\n",
       "    <tr style=\"text-align: right;\">\n",
       "      <th></th>\n",
       "      <th>total_number</th>\n",
       "      <th>total_amount_mn</th>\n",
       "    </tr>\n",
       "    <tr>\n",
       "      <th>main_sector</th>\n",
       "      <th></th>\n",
       "      <th></th>\n",
       "    </tr>\n",
       "  </thead>\n",
       "  <tbody>\n",
       "    <tr>\n",
       "      <th>Others</th>\n",
       "      <td>2923</td>\n",
       "      <td>26089.28</td>\n",
       "    </tr>\n",
       "    <tr>\n",
       "      <th>Cleantech / Semiconductors</th>\n",
       "      <td>2297</td>\n",
       "      <td>21181.00</td>\n",
       "    </tr>\n",
       "    <tr>\n",
       "      <th>Social, Finance, Analytics, Advertising</th>\n",
       "      <td>1912</td>\n",
       "      <td>16680.70</td>\n",
       "    </tr>\n",
       "    <tr>\n",
       "      <th>News, Search and Messaging</th>\n",
       "      <td>1563</td>\n",
       "      <td>13796.82</td>\n",
       "    </tr>\n",
       "    <tr>\n",
       "      <th>Health</th>\n",
       "      <td>908</td>\n",
       "      <td>8200.86</td>\n",
       "    </tr>\n",
       "    <tr>\n",
       "      <th>Manufacturing</th>\n",
       "      <td>799</td>\n",
       "      <td>7258.55</td>\n",
       "    </tr>\n",
       "    <tr>\n",
       "      <th>Entertainment</th>\n",
       "      <td>580</td>\n",
       "      <td>5000.21</td>\n",
       "    </tr>\n",
       "    <tr>\n",
       "      <th>Automotive &amp; Sports</th>\n",
       "      <td>167</td>\n",
       "      <td>1454.10</td>\n",
       "    </tr>\n",
       "    <tr>\n",
       "      <th>Blanks</th>\n",
       "      <td>86</td>\n",
       "      <td>764.76</td>\n",
       "    </tr>\n",
       "  </tbody>\n",
       "</table>\n",
       "</div>"
      ],
      "text/plain": [
       "                                         total_number  total_amount_mn\n",
       "main_sector                                                           \n",
       "Others                                           2923         26089.28\n",
       "Cleantech / Semiconductors                       2297         21181.00\n",
       "Social, Finance, Analytics, Advertising          1912         16680.70\n",
       "News, Search and Messaging                       1563         13796.82\n",
       "Health                                            908          8200.86\n",
       "Manufacturing                                     799          7258.55\n",
       "Entertainment                                     580          5000.21\n",
       "Automotive & Sports                               167          1454.10\n",
       "Blanks                                             86           764.76"
      ]
     },
     "execution_count": 915,
     "metadata": {},
     "output_type": "execute_result"
    }
   ],
   "source": [
    "D1_summary_metric.sort_values(by='total_number', ascending=False)"
   ]
  },
  {
   "cell_type": "code",
   "execution_count": 916,
   "metadata": {},
   "outputs": [
    {
     "data": {
      "text/html": [
       "<div>\n",
       "<style scoped>\n",
       "    .dataframe tbody tr th:only-of-type {\n",
       "        vertical-align: middle;\n",
       "    }\n",
       "\n",
       "    .dataframe tbody tr th {\n",
       "        vertical-align: top;\n",
       "    }\n",
       "\n",
       "    .dataframe thead th {\n",
       "        text-align: right;\n",
       "    }\n",
       "</style>\n",
       "<table border=\"1\" class=\"dataframe\">\n",
       "  <thead>\n",
       "    <tr style=\"text-align: right;\">\n",
       "      <th></th>\n",
       "      <th>total_number</th>\n",
       "      <th>total_amount_mn</th>\n",
       "    </tr>\n",
       "    <tr>\n",
       "      <th>main_sector</th>\n",
       "      <th></th>\n",
       "      <th></th>\n",
       "    </tr>\n",
       "  </thead>\n",
       "  <tbody>\n",
       "    <tr>\n",
       "      <th>Others</th>\n",
       "      <td>143</td>\n",
       "      <td>1249.12</td>\n",
       "    </tr>\n",
       "    <tr>\n",
       "      <th>Cleantech / Semiconductors</th>\n",
       "      <td>127</td>\n",
       "      <td>1136.91</td>\n",
       "    </tr>\n",
       "    <tr>\n",
       "      <th>Social, Finance, Analytics, Advertising</th>\n",
       "      <td>98</td>\n",
       "      <td>821.89</td>\n",
       "    </tr>\n",
       "    <tr>\n",
       "      <th>News, Search and Messaging</th>\n",
       "      <td>73</td>\n",
       "      <td>615.75</td>\n",
       "    </tr>\n",
       "    <tr>\n",
       "      <th>Entertainment</th>\n",
       "      <td>54</td>\n",
       "      <td>461.51</td>\n",
       "    </tr>\n",
       "    <tr>\n",
       "      <th>Manufacturing</th>\n",
       "      <td>42</td>\n",
       "      <td>361.94</td>\n",
       "    </tr>\n",
       "    <tr>\n",
       "      <th>Health</th>\n",
       "      <td>24</td>\n",
       "      <td>214.54</td>\n",
       "    </tr>\n",
       "    <tr>\n",
       "      <th>Automotive &amp; Sports</th>\n",
       "      <td>16</td>\n",
       "      <td>167.05</td>\n",
       "    </tr>\n",
       "    <tr>\n",
       "      <th>Blanks</th>\n",
       "      <td>7</td>\n",
       "      <td>57.76</td>\n",
       "    </tr>\n",
       "  </tbody>\n",
       "</table>\n",
       "</div>"
      ],
      "text/plain": [
       "                                         total_number  total_amount_mn\n",
       "main_sector                                                           \n",
       "Others                                            143          1249.12\n",
       "Cleantech / Semiconductors                        127          1136.91\n",
       "Social, Finance, Analytics, Advertising            98           821.89\n",
       "News, Search and Messaging                         73           615.75\n",
       "Entertainment                                      54           461.51\n",
       "Manufacturing                                      42           361.94\n",
       "Health                                             24           214.54\n",
       "Automotive & Sports                                16           167.05\n",
       "Blanks                                              7            57.76"
      ]
     },
     "execution_count": 916,
     "metadata": {},
     "output_type": "execute_result"
    }
   ],
   "source": [
    "D2_summary_metric.sort_values(by='total_number', ascending=False)"
   ]
  },
  {
   "cell_type": "code",
   "execution_count": 917,
   "metadata": {},
   "outputs": [
    {
     "data": {
      "text/html": [
       "<div>\n",
       "<style scoped>\n",
       "    .dataframe tbody tr th:only-of-type {\n",
       "        vertical-align: middle;\n",
       "    }\n",
       "\n",
       "    .dataframe tbody tr th {\n",
       "        vertical-align: top;\n",
       "    }\n",
       "\n",
       "    .dataframe thead th {\n",
       "        text-align: right;\n",
       "    }\n",
       "</style>\n",
       "<table border=\"1\" class=\"dataframe\">\n",
       "  <thead>\n",
       "    <tr style=\"text-align: right;\">\n",
       "      <th></th>\n",
       "      <th>total_number</th>\n",
       "      <th>total_amount_mn</th>\n",
       "    </tr>\n",
       "    <tr>\n",
       "      <th>main_sector</th>\n",
       "      <th></th>\n",
       "      <th></th>\n",
       "    </tr>\n",
       "  </thead>\n",
       "  <tbody>\n",
       "    <tr>\n",
       "      <th>Cleantech / Semiconductors</th>\n",
       "      <td>112</td>\n",
       "      <td>1015.89</td>\n",
       "    </tr>\n",
       "    <tr>\n",
       "      <th>Others</th>\n",
       "      <td>109</td>\n",
       "      <td>926.14</td>\n",
       "    </tr>\n",
       "    <tr>\n",
       "      <th>Social, Finance, Analytics, Advertising</th>\n",
       "      <td>52</td>\n",
       "      <td>443.34</td>\n",
       "    </tr>\n",
       "    <tr>\n",
       "      <th>News, Search and Messaging</th>\n",
       "      <td>46</td>\n",
       "      <td>420.12</td>\n",
       "    </tr>\n",
       "    <tr>\n",
       "      <th>Manufacturing</th>\n",
       "      <td>31</td>\n",
       "      <td>237.63</td>\n",
       "    </tr>\n",
       "    <tr>\n",
       "      <th>Entertainment</th>\n",
       "      <td>22</td>\n",
       "      <td>154.02</td>\n",
       "    </tr>\n",
       "    <tr>\n",
       "      <th>Health</th>\n",
       "      <td>20</td>\n",
       "      <td>162.15</td>\n",
       "    </tr>\n",
       "    <tr>\n",
       "      <th>Blanks</th>\n",
       "      <td>4</td>\n",
       "      <td>47.72</td>\n",
       "    </tr>\n",
       "    <tr>\n",
       "      <th>Automotive &amp; Sports</th>\n",
       "      <td>2</td>\n",
       "      <td>15.00</td>\n",
       "    </tr>\n",
       "  </tbody>\n",
       "</table>\n",
       "</div>"
      ],
      "text/plain": [
       "                                         total_number  total_amount_mn\n",
       "main_sector                                                           \n",
       "Cleantech / Semiconductors                        112          1015.89\n",
       "Others                                            109           926.14\n",
       "Social, Finance, Analytics, Advertising            52           443.34\n",
       "News, Search and Messaging                         46           420.12\n",
       "Manufacturing                                      31           237.63\n",
       "Entertainment                                      22           154.02\n",
       "Health                                             20           162.15\n",
       "Blanks                                              4            47.72\n",
       "Automotive & Sports                                 2            15.00"
      ]
     },
     "execution_count": 917,
     "metadata": {},
     "output_type": "execute_result"
    }
   ],
   "source": [
    "D3_summary_metric.sort_values(by='total_number', ascending=False)"
   ]
  },
  {
   "cell_type": "markdown",
   "metadata": {},
   "source": [
    "#### Finding companies recieveing highest investment for corresponding top sector and 2nd best sector"
   ]
  },
  {
   "cell_type": "code",
   "execution_count": 923,
   "metadata": {
    "scrolled": true
   },
   "outputs": [
    {
     "data": {
      "text/plain": [
       "7437    nCircle Network Security\n",
       "Name: name, dtype: object"
      ]
     },
     "execution_count": 923,
     "metadata": {},
     "output_type": "execute_result"
    }
   ],
   "source": [
    "D1_1.loc[D1_1.main_sector=='Others'].sort_values(by='raised_amount_usd', ascending=False).head(1)['name']"
   ]
  },
  {
   "cell_type": "code",
   "execution_count": 924,
   "metadata": {},
   "outputs": [
    {
     "data": {
      "text/plain": [
       "11067    Sunverge Energy, Inc\n",
       "Name: name, dtype: object"
      ]
     },
     "execution_count": 924,
     "metadata": {},
     "output_type": "execute_result"
    }
   ],
   "source": [
    "D1_1.loc[D1_1.main_sector=='Cleantech / Semiconductors'].sort_values(by='raised_amount_usd', ascending=False).head(1)['name']"
   ]
  },
  {
   "cell_type": "code",
   "execution_count": 925,
   "metadata": {},
   "outputs": [
    {
     "data": {
      "text/plain": [
       "144    EnvironmentIQ\n",
       "Name: name, dtype: object"
      ]
     },
     "execution_count": 925,
     "metadata": {},
     "output_type": "execute_result"
    }
   ],
   "source": [
    "D2_1.loc[D2_1.main_sector=='Others'].sort_values(by='raised_amount_usd', ascending=False).head(1)['name']"
   ]
  },
  {
   "cell_type": "code",
   "execution_count": 926,
   "metadata": {},
   "outputs": [
    {
     "data": {
      "text/plain": [
       "421    Anadigm\n",
       "Name: name, dtype: object"
      ]
     },
     "execution_count": 926,
     "metadata": {},
     "output_type": "execute_result"
    }
   ],
   "source": [
    "D2_1.loc[D2_1.main_sector=='Cleantech / Semiconductors'].sort_values(by='raised_amount_usd', ascending=False).head(1)['name']"
   ]
  },
  {
   "cell_type": "code",
   "execution_count": 927,
   "metadata": {},
   "outputs": [
    {
     "data": {
      "text/plain": [
       "226    Nexterra\n",
       "Name: name, dtype: object"
      ]
     },
     "execution_count": 927,
     "metadata": {},
     "output_type": "execute_result"
    }
   ],
   "source": [
    "D3_1.loc[D3_1.main_sector=='Cleantech / Semiconductors'].sort_values(by='raised_amount_usd', ascending=False).head(1)['name']"
   ]
  },
  {
   "cell_type": "code",
   "execution_count": 928,
   "metadata": {},
   "outputs": [
    {
     "data": {
      "text/plain": [
       "179    QuickPlay Media\n",
       "Name: name, dtype: object"
      ]
     },
     "execution_count": 928,
     "metadata": {},
     "output_type": "execute_result"
    }
   ],
   "source": [
    "D3_1.loc[D3_1.main_sector=='Others'].sort_values(by='raised_amount_usd', ascending=False).head(1)['name']"
   ]
  },
  {
   "cell_type": "markdown",
   "metadata": {},
   "source": [
    "### Checkpoint 6: Plots"
   ]
  },
  {
   "cell_type": "markdown",
   "metadata": {},
   "source": [
    "As a final step, you have to present your findings to the CEO of Spark Funds. Specifically, she wants to see the following plots:\n",
    "\n",
    "  1. A plot showing the fraction of total investments (globally) in angel, venture, seed, and private equity, and the average amount of investment in each funding type. This chart should make it clear that a certain funding type (FT) is best suited for Spark Funds.\n",
    "\n",
    "  2. A plot showing the top 9 countries against the total amount of investments of funding type FT. This should make the top 3 countries (Country 1, Country 2, and Country 3) very clear.\n",
    "\n",
    "  3. A plot showing the number of investments in the top 3 sectors of the top 3 countries on one chart (for the chosen investment type FT). \n",
    "\n",
    " \n",
    "\n",
    "This plot should clearly display the top 3 sectors each in Country 1, Country 2, and Country 3."
   ]
  },
  {
   "cell_type": "markdown",
   "metadata": {},
   "source": [
    "#### Below are the various states available from master_frame till now\n",
    "master_frame_1 - filled with median values for raised_amount_usd (all investment types all countries)  \n",
    "master_frame_2 - contains only data for chosen funding types ( venture )  \n",
    "master_frame_3 - is mapped to mappings.csv and contains main_sector"
   ]
  },
  {
   "cell_type": "markdown",
   "metadata": {},
   "source": [
    "#### Below dataframes are available too:\n",
    "top9 - holds the top 9 countries with highert number of investments  \n",
    "{Di, Di_Summary_metric, Di_1}  where i goes from 1 to 3\n",
    "- Di - corresponds to data for country with country_i, e.g D1 would have data for only country_1 (USA for i=1)  \n",
    "- Di_Summary_metric holds the metric data for total number of investments and total amount of investment accross     various sectors  \n",
    "- Di_1 includes the combinded data from Di and Di_Summary_metric"
   ]
  },
  {
   "cell_type": "markdown",
   "metadata": {},
   "source": [
    "### Plot 1"
   ]
  },
  {
   "cell_type": "markdown",
   "metadata": {},
   "source": [
    "##### Let us create a master frame which has only targeted funding types"
   ]
  },
  {
   "cell_type": "code",
   "execution_count": 936,
   "metadata": {},
   "outputs": [],
   "source": [
    "df = master_frame_1[master_frame_1.funding_round_type.isin(funding_types)]"
   ]
  },
  {
   "cell_type": "code",
   "execution_count": 931,
   "metadata": {},
   "outputs": [
    {
     "data": {
      "text/plain": [
       "1046043182100.0"
      ]
     },
     "execution_count": 931,
     "metadata": {},
     "output_type": "execute_result"
    }
   ],
   "source": [
    "global_total_investment = master_frame_1.raised_amount_usd.sum()\n",
    "global_total_investment"
   ]
  },
  {
   "cell_type": "code",
   "execution_count": 1051,
   "metadata": {},
   "outputs": [],
   "source": [
    "# calcualting the fraction of total(investments) globally in angel, venture, seed and private equity\n",
    "df_ft_1 = df.loc[:,['funding_round_type','raised_amount_usd']].groupby('funding_round_type').sum()/global_total_investment"
   ]
  },
  {
   "cell_type": "code",
   "execution_count": 1052,
   "metadata": {},
   "outputs": [],
   "source": [
    "df_ft_2 = df.loc[:,['funding_round_type','raised_amount_usd']].groupby('funding_round_type').mean()"
   ]
  },
  {
   "cell_type": "code",
   "execution_count": 1053,
   "metadata": {},
   "outputs": [],
   "source": [
    "df_ft_1 = df_ft_1.rename(columns={'raised_amount_usd':'global_fraction'})"
   ]
  },
  {
   "cell_type": "code",
   "execution_count": 1054,
   "metadata": {},
   "outputs": [],
   "source": [
    "df_ft_2 = df_ft_2.rename(columns={'raised_amount_usd':'average_investment'})"
   ]
  },
  {
   "cell_type": "code",
   "execution_count": 1055,
   "metadata": {},
   "outputs": [],
   "source": [
    "df_ft = pd.concat([df_ft_1, df_ft_2], axis=1)"
   ]
  },
  {
   "cell_type": "code",
   "execution_count": 1060,
   "metadata": {},
   "outputs": [],
   "source": [
    "df_ft.reset_index(level = 0, inplace=True )"
   ]
  },
  {
   "cell_type": "code",
   "execution_count": 1063,
   "metadata": {},
   "outputs": [
    {
     "data": {
      "text/html": [
       "<div>\n",
       "<style scoped>\n",
       "    .dataframe tbody tr th:only-of-type {\n",
       "        vertical-align: middle;\n",
       "    }\n",
       "\n",
       "    .dataframe tbody tr th {\n",
       "        vertical-align: top;\n",
       "    }\n",
       "\n",
       "    .dataframe thead th {\n",
       "        text-align: right;\n",
       "    }\n",
       "</style>\n",
       "<table border=\"1\" class=\"dataframe\">\n",
       "  <thead>\n",
       "    <tr style=\"text-align: right;\">\n",
       "      <th></th>\n",
       "      <th>index</th>\n",
       "      <th>funding_round_type</th>\n",
       "      <th>global_fraction</th>\n",
       "      <th>average_investment</th>\n",
       "    </tr>\n",
       "  </thead>\n",
       "  <tbody>\n",
       "    <tr>\n",
       "      <th>0</th>\n",
       "      <td>0</td>\n",
       "      <td>angel</td>\n",
       "      <td>0.01</td>\n",
       "      <td>1331002.24</td>\n",
       "    </tr>\n",
       "    <tr>\n",
       "      <th>1</th>\n",
       "      <td>1</td>\n",
       "      <td>private_equity</td>\n",
       "      <td>0.14</td>\n",
       "      <td>62539035.02</td>\n",
       "    </tr>\n",
       "    <tr>\n",
       "      <th>2</th>\n",
       "      <td>2</td>\n",
       "      <td>seed</td>\n",
       "      <td>0.03</td>\n",
       "      <td>1190866.26</td>\n",
       "    </tr>\n",
       "    <tr>\n",
       "      <th>3</th>\n",
       "      <td>3</td>\n",
       "      <td>venture</td>\n",
       "      <td>0.58</td>\n",
       "      <td>10899499.35</td>\n",
       "    </tr>\n",
       "  </tbody>\n",
       "</table>\n",
       "</div>"
      ],
      "text/plain": [
       "   index funding_round_type  global_fraction  average_investment\n",
       "0      0              angel             0.01          1331002.24\n",
       "1      1     private_equity             0.14         62539035.02\n",
       "2      2               seed             0.03          1190866.26\n",
       "3      3            venture             0.58         10899499.35"
      ]
     },
     "execution_count": 1063,
     "metadata": {},
     "output_type": "execute_result"
    }
   ],
   "source": [
    "df_ft"
   ]
  },
  {
   "cell_type": "markdown",
   "metadata": {},
   "source": [
    "    Let us convert the average investment into millions to have a better idea"
   ]
  },
  {
   "cell_type": "code",
   "execution_count": 1064,
   "metadata": {},
   "outputs": [],
   "source": [
    "df_ft['average_investment_mn']=df_ft['average_investment'].apply(lambda x: x/one_million)"
   ]
  },
  {
   "cell_type": "code",
   "execution_count": 1065,
   "metadata": {},
   "outputs": [
    {
     "data": {
      "text/html": [
       "<div>\n",
       "<style scoped>\n",
       "    .dataframe tbody tr th:only-of-type {\n",
       "        vertical-align: middle;\n",
       "    }\n",
       "\n",
       "    .dataframe tbody tr th {\n",
       "        vertical-align: top;\n",
       "    }\n",
       "\n",
       "    .dataframe thead th {\n",
       "        text-align: right;\n",
       "    }\n",
       "</style>\n",
       "<table border=\"1\" class=\"dataframe\">\n",
       "  <thead>\n",
       "    <tr style=\"text-align: right;\">\n",
       "      <th></th>\n",
       "      <th>index</th>\n",
       "      <th>funding_round_type</th>\n",
       "      <th>global_fraction</th>\n",
       "      <th>average_investment</th>\n",
       "      <th>average_investment_mn</th>\n",
       "    </tr>\n",
       "  </thead>\n",
       "  <tbody>\n",
       "    <tr>\n",
       "      <th>0</th>\n",
       "      <td>0</td>\n",
       "      <td>angel</td>\n",
       "      <td>0.01</td>\n",
       "      <td>1331002.24</td>\n",
       "      <td>1.33</td>\n",
       "    </tr>\n",
       "    <tr>\n",
       "      <th>1</th>\n",
       "      <td>1</td>\n",
       "      <td>private_equity</td>\n",
       "      <td>0.14</td>\n",
       "      <td>62539035.02</td>\n",
       "      <td>62.54</td>\n",
       "    </tr>\n",
       "    <tr>\n",
       "      <th>2</th>\n",
       "      <td>2</td>\n",
       "      <td>seed</td>\n",
       "      <td>0.03</td>\n",
       "      <td>1190866.26</td>\n",
       "      <td>1.19</td>\n",
       "    </tr>\n",
       "    <tr>\n",
       "      <th>3</th>\n",
       "      <td>3</td>\n",
       "      <td>venture</td>\n",
       "      <td>0.58</td>\n",
       "      <td>10899499.35</td>\n",
       "      <td>10.90</td>\n",
       "    </tr>\n",
       "  </tbody>\n",
       "</table>\n",
       "</div>"
      ],
      "text/plain": [
       "   index funding_round_type  global_fraction  average_investment  \\\n",
       "0      0              angel             0.01          1331002.24   \n",
       "1      1     private_equity             0.14         62539035.02   \n",
       "2      2               seed             0.03          1190866.26   \n",
       "3      3            venture             0.58         10899499.35   \n",
       "\n",
       "   average_investment_mn  \n",
       "0                   1.33  \n",
       "1                  62.54  \n",
       "2                   1.19  \n",
       "3                  10.90  "
      ]
     },
     "execution_count": 1065,
     "metadata": {},
     "output_type": "execute_result"
    }
   ],
   "source": [
    "df_ft"
   ]
  },
  {
   "cell_type": "code",
   "execution_count": 1080,
   "metadata": {},
   "outputs": [
    {
     "data": {
      "image/png": "[encoded data removed]",
      "text/plain": [
       "<Figure size 432x288 with 1 Axes>"
      ]
     },
     "metadata": {
      "needs_background": "light"
     },
     "output_type": "display_data"
    }
   ],
   "source": [
    "ax = sns.scatterplot(data=df_ft, x='global_fraction', y='average_investment_mn', hue='funding_round_type')\n",
    "ax.set(xlabel = 'Investment Amount/(Total Investment Amount)', ylabel='Average Investment per funging type')\n",
    "plt.show()"
   ]
  },
  {
   "cell_type": "markdown",
   "metadata": {},
   "source": [
    "We can see the majority of investments contribution to total investments is happening from venture type and average investment lies between the range of 5 to 15 million USD as well. All others do not fullfil the criteria"
   ]
  },
  {
   "cell_type": "markdown",
   "metadata": {},
   "source": [
    "### Plot 2"
   ]
  },
  {
   "cell_type": "code",
   "execution_count": 948,
   "metadata": {},
   "outputs": [
    {
     "data": {
      "text/html": [
       "<div>\n",
       "<style scoped>\n",
       "    .dataframe tbody tr th:only-of-type {\n",
       "        vertical-align: middle;\n",
       "    }\n",
       "\n",
       "    .dataframe tbody tr th {\n",
       "        vertical-align: top;\n",
       "    }\n",
       "\n",
       "    .dataframe thead th {\n",
       "        text-align: right;\n",
       "    }\n",
       "</style>\n",
       "<table border=\"1\" class=\"dataframe\">\n",
       "  <thead>\n",
       "    <tr style=\"text-align: right;\">\n",
       "      <th></th>\n",
       "      <th>raised_amount_usd</th>\n",
       "    </tr>\n",
       "    <tr>\n",
       "      <th>country_code</th>\n",
       "      <th></th>\n",
       "    </tr>\n",
       "  </thead>\n",
       "  <tbody>\n",
       "    <tr>\n",
       "      <th>USA</th>\n",
       "      <td>112562637512.00</td>\n",
       "    </tr>\n",
       "    <tr>\n",
       "      <th>GBR</th>\n",
       "      <td>5726936263.00</td>\n",
       "    </tr>\n",
       "    <tr>\n",
       "      <th>CHN</th>\n",
       "      <td>5156510507.00</td>\n",
       "    </tr>\n",
       "    <tr>\n",
       "      <th>CAN</th>\n",
       "      <td>3834922744.00</td>\n",
       "    </tr>\n",
       "    <tr>\n",
       "      <th>IND</th>\n",
       "      <td>3065543602.00</td>\n",
       "    </tr>\n",
       "    <tr>\n",
       "      <th>ISR</th>\n",
       "      <td>2989295147.00</td>\n",
       "    </tr>\n",
       "    <tr>\n",
       "      <th>FRA</th>\n",
       "      <td>2143939776.00</td>\n",
       "    </tr>\n",
       "    <tr>\n",
       "      <th>DEU</th>\n",
       "      <td>1797007570.00</td>\n",
       "    </tr>\n",
       "    <tr>\n",
       "      <th>SWE</th>\n",
       "      <td>733759745.00</td>\n",
       "    </tr>\n",
       "  </tbody>\n",
       "</table>\n",
       "</div>"
      ],
      "text/plain": [
       "              raised_amount_usd\n",
       "country_code                   \n",
       "USA             112562637512.00\n",
       "GBR               5726936263.00\n",
       "CHN               5156510507.00\n",
       "CAN               3834922744.00\n",
       "IND               3065543602.00\n",
       "ISR               2989295147.00\n",
       "FRA               2143939776.00\n",
       "DEU               1797007570.00\n",
       "SWE                733759745.00"
      ]
     },
     "execution_count": 948,
     "metadata": {},
     "output_type": "execute_result"
    }
   ],
   "source": [
    "top9"
   ]
  },
  {
   "cell_type": "code",
   "execution_count": 953,
   "metadata": {},
   "outputs": [],
   "source": [
    "top9_df = top9\n",
    "top9_df.reset_index(level=0, inplace=True)"
   ]
  },
  {
   "cell_type": "code",
   "execution_count": 954,
   "metadata": {},
   "outputs": [
    {
     "data": {
      "text/html": [
       "<div>\n",
       "<style scoped>\n",
       "    .dataframe tbody tr th:only-of-type {\n",
       "        vertical-align: middle;\n",
       "    }\n",
       "\n",
       "    .dataframe tbody tr th {\n",
       "        vertical-align: top;\n",
       "    }\n",
       "\n",
       "    .dataframe thead th {\n",
       "        text-align: right;\n",
       "    }\n",
       "</style>\n",
       "<table border=\"1\" class=\"dataframe\">\n",
       "  <thead>\n",
       "    <tr style=\"text-align: right;\">\n",
       "      <th></th>\n",
       "      <th>index</th>\n",
       "      <th>country_code</th>\n",
       "      <th>raised_amount_usd</th>\n",
       "    </tr>\n",
       "  </thead>\n",
       "  <tbody>\n",
       "    <tr>\n",
       "      <th>0</th>\n",
       "      <td>0</td>\n",
       "      <td>USA</td>\n",
       "      <td>112562637512.00</td>\n",
       "    </tr>\n",
       "    <tr>\n",
       "      <th>1</th>\n",
       "      <td>1</td>\n",
       "      <td>GBR</td>\n",
       "      <td>5726936263.00</td>\n",
       "    </tr>\n",
       "    <tr>\n",
       "      <th>2</th>\n",
       "      <td>2</td>\n",
       "      <td>CHN</td>\n",
       "      <td>5156510507.00</td>\n",
       "    </tr>\n",
       "    <tr>\n",
       "      <th>3</th>\n",
       "      <td>3</td>\n",
       "      <td>CAN</td>\n",
       "      <td>3834922744.00</td>\n",
       "    </tr>\n",
       "    <tr>\n",
       "      <th>4</th>\n",
       "      <td>4</td>\n",
       "      <td>IND</td>\n",
       "      <td>3065543602.00</td>\n",
       "    </tr>\n",
       "    <tr>\n",
       "      <th>5</th>\n",
       "      <td>5</td>\n",
       "      <td>ISR</td>\n",
       "      <td>2989295147.00</td>\n",
       "    </tr>\n",
       "    <tr>\n",
       "      <th>6</th>\n",
       "      <td>6</td>\n",
       "      <td>FRA</td>\n",
       "      <td>2143939776.00</td>\n",
       "    </tr>\n",
       "    <tr>\n",
       "      <th>7</th>\n",
       "      <td>7</td>\n",
       "      <td>DEU</td>\n",
       "      <td>1797007570.00</td>\n",
       "    </tr>\n",
       "    <tr>\n",
       "      <th>8</th>\n",
       "      <td>8</td>\n",
       "      <td>SWE</td>\n",
       "      <td>733759745.00</td>\n",
       "    </tr>\n",
       "  </tbody>\n",
       "</table>\n",
       "</div>"
      ],
      "text/plain": [
       "   index country_code  raised_amount_usd\n",
       "0      0          USA    112562637512.00\n",
       "1      1          GBR      5726936263.00\n",
       "2      2          CHN      5156510507.00\n",
       "3      3          CAN      3834922744.00\n",
       "4      4          IND      3065543602.00\n",
       "5      5          ISR      2989295147.00\n",
       "6      6          FRA      2143939776.00\n",
       "7      7          DEU      1797007570.00\n",
       "8      8          SWE       733759745.00"
      ]
     },
     "execution_count": 954,
     "metadata": {},
     "output_type": "execute_result"
    }
   ],
   "source": [
    "top9_df"
   ]
  },
  {
   "cell_type": "code",
   "execution_count": 1078,
   "metadata": {},
   "outputs": [
    {
     "data": {
      "image/png": "[encoded data removed]",
      "text/plain": [
       "<Figure size 432x288 with 1 Axes>"
      ]
     },
     "metadata": {
      "needs_background": "light"
     },
     "output_type": "display_data"
    }
   ],
   "source": [
    "ax = sns.barplot(data=top9_df, x='country_code', y='raised_amount_usd')\n",
    "ax.set(xlabel = 'Country Code', ylabel='Funding raised')\n",
    "plt.show()"
   ]
  },
  {
   "cell_type": "markdown",
   "metadata": {},
   "source": [
    "### Plot 3"
   ]
  },
  {
   "cell_type": "markdown",
   "metadata": {},
   "source": [
    "A plot showing the number of investments in the top 3 sectors of the top 3 countries on one chart (for the chosen investment type FT). As we can see the top3 sectors consists of *Others*, *Cleantech / Semiconductors*, *Social, Finance, Analytics, Advertising*  \n",
    "So let us plot a graph for sectors - others, Cleantech / Semiconductors, Social, Finance, Analytics, Advertising as x - axis, and number of investments as Y -axis  \n",
    "D1, D2, D3 and their derived matrices are for a particular chosen investment type."
   ]
  },
  {
   "cell_type": "code",
   "execution_count": 959,
   "metadata": {},
   "outputs": [],
   "source": [
    "d1_df = D1_summary_metric\n",
    "d2_df = D2_summary_metric\n",
    "d3_df = D3_summary_metric"
   ]
  },
  {
   "cell_type": "code",
   "execution_count": 960,
   "metadata": {},
   "outputs": [],
   "source": [
    "d1_df.reset_index(level=0, inplace=True)\n",
    "d2_df.reset_index(level=0, inplace=True)\n",
    "d3_df.reset_index(level=0, inplace=True)"
   ]
  },
  {
   "cell_type": "code",
   "execution_count": 964,
   "metadata": {},
   "outputs": [],
   "source": [
    "d1_df = d1_df[d1_df.main_sector.isin(['Others','Cleantech / Semiconductors','Social, Finance, Analytics, Advertising'])]\n",
    "d2_df = d2_df[d2_df.main_sector.isin(['Others','Cleantech / Semiconductors','Social, Finance, Analytics, Advertising'])]\n",
    "d3_df = d3_df[d3_df.main_sector.isin(['Others','Cleantech / Semiconductors','Social, Finance, Analytics, Advertising'])]\n",
    "\n"
   ]
  },
  {
   "cell_type": "code",
   "execution_count": 984,
   "metadata": {},
   "outputs": [
    {
     "name": "stderr",
     "output_type": "stream",
     "text": [
      "/Users/sourabhdhingra/opt/anaconda3/lib/python3.7/site-packages/ipykernel_launcher.py:1: SettingWithCopyWarning: \n",
      "A value is trying to be set on a copy of a slice from a DataFrame.\n",
      "Try using .loc[row_indexer,col_indexer] = value instead\n",
      "\n",
      "See the caveats in the documentation: https://pandas.pydata.org/pandas-docs/stable/user_guide/indexing.html#returning-a-view-versus-a-copy\n",
      "  \"\"\"Entry point for launching an IPython kernel.\n"
     ]
    }
   ],
   "source": [
    "d1_df['country_code'] = country_1"
   ]
  },
  {
   "cell_type": "code",
   "execution_count": 985,
   "metadata": {},
   "outputs": [
    {
     "data": {
      "text/html": [
       "<div>\n",
       "<style scoped>\n",
       "    .dataframe tbody tr th:only-of-type {\n",
       "        vertical-align: middle;\n",
       "    }\n",
       "\n",
       "    .dataframe tbody tr th {\n",
       "        vertical-align: top;\n",
       "    }\n",
       "\n",
       "    .dataframe thead th {\n",
       "        text-align: right;\n",
       "    }\n",
       "</style>\n",
       "<table border=\"1\" class=\"dataframe\">\n",
       "  <thead>\n",
       "    <tr style=\"text-align: right;\">\n",
       "      <th></th>\n",
       "      <th>main_sector</th>\n",
       "      <th>total_number</th>\n",
       "      <th>total_amount_mn</th>\n",
       "      <th>country_code</th>\n",
       "    </tr>\n",
       "  </thead>\n",
       "  <tbody>\n",
       "    <tr>\n",
       "      <th>2</th>\n",
       "      <td>Cleantech / Semiconductors</td>\n",
       "      <td>2297</td>\n",
       "      <td>21181.00</td>\n",
       "      <td>USA</td>\n",
       "    </tr>\n",
       "    <tr>\n",
       "      <th>7</th>\n",
       "      <td>Others</td>\n",
       "      <td>2923</td>\n",
       "      <td>26089.28</td>\n",
       "      <td>USA</td>\n",
       "    </tr>\n",
       "    <tr>\n",
       "      <th>8</th>\n",
       "      <td>Social, Finance, Analytics, Advertising</td>\n",
       "      <td>1912</td>\n",
       "      <td>16680.70</td>\n",
       "      <td>USA</td>\n",
       "    </tr>\n",
       "  </tbody>\n",
       "</table>\n",
       "</div>"
      ],
      "text/plain": [
       "                               main_sector  total_number  total_amount_mn  \\\n",
       "2               Cleantech / Semiconductors          2297         21181.00   \n",
       "7                                   Others          2923         26089.28   \n",
       "8  Social, Finance, Analytics, Advertising          1912         16680.70   \n",
       "\n",
       "  country_code  \n",
       "2          USA  \n",
       "7          USA  \n",
       "8          USA  "
      ]
     },
     "execution_count": 985,
     "metadata": {},
     "output_type": "execute_result"
    }
   ],
   "source": [
    "d1_df"
   ]
  },
  {
   "cell_type": "code",
   "execution_count": 988,
   "metadata": {},
   "outputs": [
    {
     "name": "stderr",
     "output_type": "stream",
     "text": [
      "/Users/sourabhdhingra/opt/anaconda3/lib/python3.7/site-packages/ipykernel_launcher.py:1: SettingWithCopyWarning: \n",
      "A value is trying to be set on a copy of a slice from a DataFrame.\n",
      "Try using .loc[row_indexer,col_indexer] = value instead\n",
      "\n",
      "See the caveats in the documentation: https://pandas.pydata.org/pandas-docs/stable/user_guide/indexing.html#returning-a-view-versus-a-copy\n",
      "  \"\"\"Entry point for launching an IPython kernel.\n"
     ]
    }
   ],
   "source": [
    "d2_df['country_code'] = country_2"
   ]
  },
  {
   "cell_type": "code",
   "execution_count": 989,
   "metadata": {},
   "outputs": [
    {
     "data": {
      "text/html": [
       "<div>\n",
       "<style scoped>\n",
       "    .dataframe tbody tr th:only-of-type {\n",
       "        vertical-align: middle;\n",
       "    }\n",
       "\n",
       "    .dataframe tbody tr th {\n",
       "        vertical-align: top;\n",
       "    }\n",
       "\n",
       "    .dataframe thead th {\n",
       "        text-align: right;\n",
       "    }\n",
       "</style>\n",
       "<table border=\"1\" class=\"dataframe\">\n",
       "  <thead>\n",
       "    <tr style=\"text-align: right;\">\n",
       "      <th></th>\n",
       "      <th>main_sector</th>\n",
       "      <th>total_number</th>\n",
       "      <th>total_amount_mn</th>\n",
       "      <th>country_code</th>\n",
       "    </tr>\n",
       "  </thead>\n",
       "  <tbody>\n",
       "    <tr>\n",
       "      <th>2</th>\n",
       "      <td>Cleantech / Semiconductors</td>\n",
       "      <td>127</td>\n",
       "      <td>1136.91</td>\n",
       "      <td>GBR</td>\n",
       "    </tr>\n",
       "    <tr>\n",
       "      <th>7</th>\n",
       "      <td>Others</td>\n",
       "      <td>143</td>\n",
       "      <td>1249.12</td>\n",
       "      <td>GBR</td>\n",
       "    </tr>\n",
       "    <tr>\n",
       "      <th>8</th>\n",
       "      <td>Social, Finance, Analytics, Advertising</td>\n",
       "      <td>98</td>\n",
       "      <td>821.89</td>\n",
       "      <td>GBR</td>\n",
       "    </tr>\n",
       "  </tbody>\n",
       "</table>\n",
       "</div>"
      ],
      "text/plain": [
       "                               main_sector  total_number  total_amount_mn  \\\n",
       "2               Cleantech / Semiconductors           127          1136.91   \n",
       "7                                   Others           143          1249.12   \n",
       "8  Social, Finance, Analytics, Advertising            98           821.89   \n",
       "\n",
       "  country_code  \n",
       "2          GBR  \n",
       "7          GBR  \n",
       "8          GBR  "
      ]
     },
     "execution_count": 989,
     "metadata": {},
     "output_type": "execute_result"
    }
   ],
   "source": [
    "d2_df"
   ]
  },
  {
   "cell_type": "code",
   "execution_count": 991,
   "metadata": {},
   "outputs": [
    {
     "name": "stderr",
     "output_type": "stream",
     "text": [
      "/Users/sourabhdhingra/opt/anaconda3/lib/python3.7/site-packages/ipykernel_launcher.py:1: SettingWithCopyWarning: \n",
      "A value is trying to be set on a copy of a slice from a DataFrame.\n",
      "Try using .loc[row_indexer,col_indexer] = value instead\n",
      "\n",
      "See the caveats in the documentation: https://pandas.pydata.org/pandas-docs/stable/user_guide/indexing.html#returning-a-view-versus-a-copy\n",
      "  \"\"\"Entry point for launching an IPython kernel.\n"
     ]
    }
   ],
   "source": [
    "d3_df['country_code'] = country_3"
   ]
  },
  {
   "cell_type": "code",
   "execution_count": 992,
   "metadata": {},
   "outputs": [
    {
     "data": {
      "text/html": [
       "<div>\n",
       "<style scoped>\n",
       "    .dataframe tbody tr th:only-of-type {\n",
       "        vertical-align: middle;\n",
       "    }\n",
       "\n",
       "    .dataframe tbody tr th {\n",
       "        vertical-align: top;\n",
       "    }\n",
       "\n",
       "    .dataframe thead th {\n",
       "        text-align: right;\n",
       "    }\n",
       "</style>\n",
       "<table border=\"1\" class=\"dataframe\">\n",
       "  <thead>\n",
       "    <tr style=\"text-align: right;\">\n",
       "      <th></th>\n",
       "      <th>main_sector</th>\n",
       "      <th>total_number</th>\n",
       "      <th>total_amount_mn</th>\n",
       "      <th>country_code</th>\n",
       "    </tr>\n",
       "  </thead>\n",
       "  <tbody>\n",
       "    <tr>\n",
       "      <th>2</th>\n",
       "      <td>Cleantech / Semiconductors</td>\n",
       "      <td>112</td>\n",
       "      <td>1015.89</td>\n",
       "      <td>CAN</td>\n",
       "    </tr>\n",
       "    <tr>\n",
       "      <th>7</th>\n",
       "      <td>Others</td>\n",
       "      <td>109</td>\n",
       "      <td>926.14</td>\n",
       "      <td>CAN</td>\n",
       "    </tr>\n",
       "    <tr>\n",
       "      <th>8</th>\n",
       "      <td>Social, Finance, Analytics, Advertising</td>\n",
       "      <td>52</td>\n",
       "      <td>443.34</td>\n",
       "      <td>CAN</td>\n",
       "    </tr>\n",
       "  </tbody>\n",
       "</table>\n",
       "</div>"
      ],
      "text/plain": [
       "                               main_sector  total_number  total_amount_mn  \\\n",
       "2               Cleantech / Semiconductors           112          1015.89   \n",
       "7                                   Others           109           926.14   \n",
       "8  Social, Finance, Analytics, Advertising            52           443.34   \n",
       "\n",
       "  country_code  \n",
       "2          CAN  \n",
       "7          CAN  \n",
       "8          CAN  "
      ]
     },
     "execution_count": 992,
     "metadata": {},
     "output_type": "execute_result"
    }
   ],
   "source": [
    "d3_df"
   ]
  },
  {
   "cell_type": "code",
   "execution_count": 996,
   "metadata": {},
   "outputs": [],
   "source": [
    "top3_sec_cntry = pd.concat([d1_df, d2_df, d3_df])"
   ]
  },
  {
   "cell_type": "code",
   "execution_count": 997,
   "metadata": {},
   "outputs": [
    {
     "data": {
      "text/html": [
       "<div>\n",
       "<style scoped>\n",
       "    .dataframe tbody tr th:only-of-type {\n",
       "        vertical-align: middle;\n",
       "    }\n",
       "\n",
       "    .dataframe tbody tr th {\n",
       "        vertical-align: top;\n",
       "    }\n",
       "\n",
       "    .dataframe thead th {\n",
       "        text-align: right;\n",
       "    }\n",
       "</style>\n",
       "<table border=\"1\" class=\"dataframe\">\n",
       "  <thead>\n",
       "    <tr style=\"text-align: right;\">\n",
       "      <th></th>\n",
       "      <th>main_sector</th>\n",
       "      <th>total_number</th>\n",
       "      <th>total_amount_mn</th>\n",
       "      <th>country_code</th>\n",
       "    </tr>\n",
       "  </thead>\n",
       "  <tbody>\n",
       "    <tr>\n",
       "      <th>2</th>\n",
       "      <td>Cleantech / Semiconductors</td>\n",
       "      <td>2297</td>\n",
       "      <td>21181.00</td>\n",
       "      <td>USA</td>\n",
       "    </tr>\n",
       "    <tr>\n",
       "      <th>7</th>\n",
       "      <td>Others</td>\n",
       "      <td>2923</td>\n",
       "      <td>26089.28</td>\n",
       "      <td>USA</td>\n",
       "    </tr>\n",
       "    <tr>\n",
       "      <th>8</th>\n",
       "      <td>Social, Finance, Analytics, Advertising</td>\n",
       "      <td>1912</td>\n",
       "      <td>16680.70</td>\n",
       "      <td>USA</td>\n",
       "    </tr>\n",
       "    <tr>\n",
       "      <th>2</th>\n",
       "      <td>Cleantech / Semiconductors</td>\n",
       "      <td>127</td>\n",
       "      <td>1136.91</td>\n",
       "      <td>GBR</td>\n",
       "    </tr>\n",
       "    <tr>\n",
       "      <th>7</th>\n",
       "      <td>Others</td>\n",
       "      <td>143</td>\n",
       "      <td>1249.12</td>\n",
       "      <td>GBR</td>\n",
       "    </tr>\n",
       "    <tr>\n",
       "      <th>8</th>\n",
       "      <td>Social, Finance, Analytics, Advertising</td>\n",
       "      <td>98</td>\n",
       "      <td>821.89</td>\n",
       "      <td>GBR</td>\n",
       "    </tr>\n",
       "    <tr>\n",
       "      <th>2</th>\n",
       "      <td>Cleantech / Semiconductors</td>\n",
       "      <td>112</td>\n",
       "      <td>1015.89</td>\n",
       "      <td>CAN</td>\n",
       "    </tr>\n",
       "    <tr>\n",
       "      <th>7</th>\n",
       "      <td>Others</td>\n",
       "      <td>109</td>\n",
       "      <td>926.14</td>\n",
       "      <td>CAN</td>\n",
       "    </tr>\n",
       "    <tr>\n",
       "      <th>8</th>\n",
       "      <td>Social, Finance, Analytics, Advertising</td>\n",
       "      <td>52</td>\n",
       "      <td>443.34</td>\n",
       "      <td>CAN</td>\n",
       "    </tr>\n",
       "  </tbody>\n",
       "</table>\n",
       "</div>"
      ],
      "text/plain": [
       "                               main_sector  total_number  total_amount_mn  \\\n",
       "2               Cleantech / Semiconductors          2297         21181.00   \n",
       "7                                   Others          2923         26089.28   \n",
       "8  Social, Finance, Analytics, Advertising          1912         16680.70   \n",
       "2               Cleantech / Semiconductors           127          1136.91   \n",
       "7                                   Others           143          1249.12   \n",
       "8  Social, Finance, Analytics, Advertising            98           821.89   \n",
       "2               Cleantech / Semiconductors           112          1015.89   \n",
       "7                                   Others           109           926.14   \n",
       "8  Social, Finance, Analytics, Advertising            52           443.34   \n",
       "\n",
       "  country_code  \n",
       "2          USA  \n",
       "7          USA  \n",
       "8          USA  \n",
       "2          GBR  \n",
       "7          GBR  \n",
       "8          GBR  \n",
       "2          CAN  \n",
       "7          CAN  \n",
       "8          CAN  "
      ]
     },
     "execution_count": 997,
     "metadata": {},
     "output_type": "execute_result"
    }
   ],
   "source": [
    "top3_sec_cntry"
   ]
  },
  {
   "cell_type": "code",
   "execution_count": 1081,
   "metadata": {},
   "outputs": [
    {
     "data": {
      "image/png": "[encoded data removed]",
      "text/plain": [
       "<Figure size 432x288 with 1 Axes>"
      ]
     },
     "metadata": {
      "needs_background": "light"
     },
     "output_type": "display_data"
    }
   ],
   "source": [
    "ax = sns.barplot(x='main_sector', y='total_number', data=top3_sec_cntry, hue='country_code')\n",
    "ax.set(xlabel=None, ylabel='Total No Of investments')\n",
    "plt.show()"
   ]
  }
 ],
 "metadata": {
  "kernelspec": {
   "display_name": "Python 3",
   "language": "python",
   "name": "python3"
  },
  "language_info": {
   "codemirror_mode": {
    "name": "ipython",
    "version": 3
   },
   "file_extension": ".py",
   "mimetype": "text/x-python",
   "name": "python",
   "nbconvert_exporter": "python",
   "pygments_lexer": "ipython3",
   "version": "3.8.8"
  }
 },
 "nbformat": 4,
 "nbformat_minor": 4
}
